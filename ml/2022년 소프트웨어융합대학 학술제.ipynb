{
 "cells": [
  {
   "cell_type": "code",
   "execution_count": 1,
   "id": "ee18ff1d",
   "metadata": {},
   "outputs": [],
   "source": [
    "import pandas as pd\n",
    "import numpy as np\n",
    "\n",
    "#경로 설정 후 지역-요일 배달 품목정보 데이터 불러오기\n",
    "path = \"C:/Users/bbiga/OneDrive/바탕 화면/학교생활/대학교1(세종대)/2학년/2학기/학술제/\"\n",
    "df = pd.read_csv(path + 'food_data_new.csv', encoding = 'cp949')"
   ]
  },
  {
   "cell_type": "code",
   "execution_count": 2,
   "id": "b35932e2",
   "metadata": {},
   "outputs": [],
   "source": [
    "#필요한 컬럼들만 추출하여 분석하기\n",
    "df = df[['식품명', '대표식품명', '식품대분류명', '식품중분류명', '영양성분함량기준량', '에너지(kcal)', '수분(g)', '단백질(g)',\n",
    "       '지방(g)', '회분(g)', '탄수화물(g)', '당류(g)', '식이섬유(g)', '칼슘(mg)', '철(mg)',\n",
    "       '인(mg)', '칼륨(mg)', '나트륨(mg)', '비타민 A(μg RAE)', '레티놀(μg)', '베타카로틴(μg)',\n",
    "       '티아민(mg)', '리보플라빈(mg)', '니아신(mg)', '비타민 C(mg)', '비타민 D(μg)',\n",
    "       '콜레스테롤(mg)', '포화지방산(g)', '트랜스지방산(g)']]"
   ]
  },
  {
   "cell_type": "code",
   "execution_count": 3,
   "id": "e779a07b",
   "metadata": {
    "scrolled": true
   },
   "outputs": [
    {
     "data": {
      "text/plain": [
       "array(['100g', '100ml'], dtype=object)"
      ]
     },
     "execution_count": 3,
     "metadata": {},
     "output_type": "execute_result"
    }
   ],
   "source": [
    "#영양성분함량기준량은 100g으로 책정, 아이스크림 및 액체류는 추천에 포함시키지 않음\n",
    "df['영양성분함량기준량'].unique()"
   ]
  },
  {
   "cell_type": "code",
   "execution_count": 4,
   "id": "be6ff782",
   "metadata": {},
   "outputs": [],
   "source": [
    "remove = df[df['영양성분함량기준량'].str.contains('100ml')].index"
   ]
  },
  {
   "cell_type": "code",
   "execution_count": 5,
   "id": "7341848c",
   "metadata": {},
   "outputs": [
    {
     "data": {
      "text/plain": [
       "1115"
      ]
     },
     "execution_count": 5,
     "metadata": {},
     "output_type": "execute_result"
    }
   ],
   "source": [
    "df.drop(remove, inplace = True)\n",
    "len(df)"
   ]
  },
  {
   "cell_type": "code",
   "execution_count": 6,
   "id": "bac39719",
   "metadata": {
    "scrolled": true
   },
   "outputs": [
    {
     "data": {
      "text/html": [
       "<div>\n",
       "<style scoped>\n",
       "    .dataframe tbody tr th:only-of-type {\n",
       "        vertical-align: middle;\n",
       "    }\n",
       "\n",
       "    .dataframe tbody tr th {\n",
       "        vertical-align: top;\n",
       "    }\n",
       "\n",
       "    .dataframe thead th {\n",
       "        text-align: right;\n",
       "    }\n",
       "</style>\n",
       "<table border=\"1\" class=\"dataframe\">\n",
       "  <thead>\n",
       "    <tr style=\"text-align: right;\">\n",
       "      <th></th>\n",
       "      <th>식품명</th>\n",
       "      <th>대표식품명</th>\n",
       "      <th>식품대분류명</th>\n",
       "      <th>식품중분류명</th>\n",
       "      <th>에너지(kcal)</th>\n",
       "      <th>수분(g)</th>\n",
       "      <th>단백질(g)</th>\n",
       "      <th>지방(g)</th>\n",
       "      <th>회분(g)</th>\n",
       "      <th>탄수화물(g)</th>\n",
       "      <th>...</th>\n",
       "      <th>레티놀(μg)</th>\n",
       "      <th>베타카로틴(μg)</th>\n",
       "      <th>티아민(mg)</th>\n",
       "      <th>리보플라빈(mg)</th>\n",
       "      <th>니아신(mg)</th>\n",
       "      <th>비타민 C(mg)</th>\n",
       "      <th>비타민 D(μg)</th>\n",
       "      <th>콜레스테롤(mg)</th>\n",
       "      <th>포화지방산(g)</th>\n",
       "      <th>트랜스지방산(g)</th>\n",
       "    </tr>\n",
       "  </thead>\n",
       "  <tbody>\n",
       "    <tr>\n",
       "      <th>0</th>\n",
       "      <td>국밥_돼지머리</td>\n",
       "      <td>국밥</td>\n",
       "      <td>밥류</td>\n",
       "      <td>돼지머리</td>\n",
       "      <td>137</td>\n",
       "      <td>71.6</td>\n",
       "      <td>6.70</td>\n",
       "      <td>5.16</td>\n",
       "      <td>0.63</td>\n",
       "      <td>15.94</td>\n",
       "      <td>...</td>\n",
       "      <td>0.0</td>\n",
       "      <td>61.0</td>\n",
       "      <td>0.090</td>\n",
       "      <td>0.053</td>\n",
       "      <td>0.000</td>\n",
       "      <td>0.04</td>\n",
       "      <td>0.0</td>\n",
       "      <td>23.82</td>\n",
       "      <td>1.47</td>\n",
       "      <td>0.03</td>\n",
       "    </tr>\n",
       "    <tr>\n",
       "      <th>1</th>\n",
       "      <td>국밥_순대국밥</td>\n",
       "      <td>국밥</td>\n",
       "      <td>밥류</td>\n",
       "      <td>순대국밥</td>\n",
       "      <td>75</td>\n",
       "      <td>83.7</td>\n",
       "      <td>3.17</td>\n",
       "      <td>2.28</td>\n",
       "      <td>0.48</td>\n",
       "      <td>10.38</td>\n",
       "      <td>...</td>\n",
       "      <td>0.0</td>\n",
       "      <td>55.0</td>\n",
       "      <td>0.062</td>\n",
       "      <td>0.024</td>\n",
       "      <td>0.000</td>\n",
       "      <td>0.21</td>\n",
       "      <td>0.0</td>\n",
       "      <td>48.69</td>\n",
       "      <td>1.26</td>\n",
       "      <td>0.01</td>\n",
       "    </tr>\n",
       "    <tr>\n",
       "      <th>2</th>\n",
       "      <td>국밥_콩나물</td>\n",
       "      <td>국밥</td>\n",
       "      <td>밥류</td>\n",
       "      <td>콩나물</td>\n",
       "      <td>52</td>\n",
       "      <td>86.8</td>\n",
       "      <td>1.45</td>\n",
       "      <td>0.24</td>\n",
       "      <td>0.56</td>\n",
       "      <td>10.93</td>\n",
       "      <td>...</td>\n",
       "      <td>0.0</td>\n",
       "      <td>22.0</td>\n",
       "      <td>0.140</td>\n",
       "      <td>0.022</td>\n",
       "      <td>0.173</td>\n",
       "      <td>1.26</td>\n",
       "      <td>0.0</td>\n",
       "      <td>0.00</td>\n",
       "      <td>0.12</td>\n",
       "      <td>0.00</td>\n",
       "    </tr>\n",
       "    <tr>\n",
       "      <th>3</th>\n",
       "      <td>기장밥</td>\n",
       "      <td>기장밥</td>\n",
       "      <td>밥류</td>\n",
       "      <td>해당없음</td>\n",
       "      <td>166</td>\n",
       "      <td>59.1</td>\n",
       "      <td>3.44</td>\n",
       "      <td>0.57</td>\n",
       "      <td>0.15</td>\n",
       "      <td>36.77</td>\n",
       "      <td>...</td>\n",
       "      <td>0.0</td>\n",
       "      <td>0.0</td>\n",
       "      <td>0.000</td>\n",
       "      <td>0.005</td>\n",
       "      <td>0.205</td>\n",
       "      <td>0.29</td>\n",
       "      <td>0.0</td>\n",
       "      <td>0.00</td>\n",
       "      <td>0.08</td>\n",
       "      <td>0.00</td>\n",
       "    </tr>\n",
       "    <tr>\n",
       "      <th>4</th>\n",
       "      <td>김밥</td>\n",
       "      <td>김밥</td>\n",
       "      <td>밥류</td>\n",
       "      <td>해당없음</td>\n",
       "      <td>140</td>\n",
       "      <td>69.5</td>\n",
       "      <td>4.84</td>\n",
       "      <td>4.55</td>\n",
       "      <td>1.11</td>\n",
       "      <td>19.98</td>\n",
       "      <td>...</td>\n",
       "      <td>3.0</td>\n",
       "      <td>1318.0</td>\n",
       "      <td>0.157</td>\n",
       "      <td>0.043</td>\n",
       "      <td>0.674</td>\n",
       "      <td>3.76</td>\n",
       "      <td>0.0</td>\n",
       "      <td>19.30</td>\n",
       "      <td>1.10</td>\n",
       "      <td>0.02</td>\n",
       "    </tr>\n",
       "  </tbody>\n",
       "</table>\n",
       "<p>5 rows × 28 columns</p>\n",
       "</div>"
      ],
      "text/plain": [
       "       식품명 대표식품명 식품대분류명 식품중분류명  에너지(kcal)  수분(g)  단백질(g)  지방(g)  회분(g)  \\\n",
       "0  국밥_돼지머리    국밥     밥류   돼지머리        137   71.6    6.70   5.16   0.63   \n",
       "1  국밥_순대국밥    국밥     밥류   순대국밥         75   83.7    3.17   2.28   0.48   \n",
       "2   국밥_콩나물    국밥     밥류    콩나물         52   86.8    1.45   0.24   0.56   \n",
       "3      기장밥   기장밥     밥류   해당없음        166   59.1    3.44   0.57   0.15   \n",
       "4       김밥    김밥     밥류   해당없음        140   69.5    4.84   4.55   1.11   \n",
       "\n",
       "   탄수화물(g)  ...  레티놀(μg)  베타카로틴(μg)  티아민(mg)  리보플라빈(mg)  니아신(mg)  비타민 C(mg)  \\\n",
       "0    15.94  ...      0.0       61.0    0.090      0.053    0.000       0.04   \n",
       "1    10.38  ...      0.0       55.0    0.062      0.024    0.000       0.21   \n",
       "2    10.93  ...      0.0       22.0    0.140      0.022    0.173       1.26   \n",
       "3    36.77  ...      0.0        0.0    0.000      0.005    0.205       0.29   \n",
       "4    19.98  ...      3.0     1318.0    0.157      0.043    0.674       3.76   \n",
       "\n",
       "   비타민 D(μg)  콜레스테롤(mg)  포화지방산(g)  트랜스지방산(g)  \n",
       "0        0.0      23.82      1.47       0.03  \n",
       "1        0.0      48.69      1.26       0.01  \n",
       "2        0.0       0.00      0.12       0.00  \n",
       "3        0.0       0.00      0.08       0.00  \n",
       "4        0.0      19.30      1.10       0.02  \n",
       "\n",
       "[5 rows x 28 columns]"
      ]
     },
     "execution_count": 6,
     "metadata": {},
     "output_type": "execute_result"
    }
   ],
   "source": [
    "df.drop(['영양성분함량기준량'], axis = 1, inplace = True)\n",
    "df.head()"
   ]
  },
  {
   "cell_type": "code",
   "execution_count": 7,
   "id": "f9c6c29d",
   "metadata": {
    "scrolled": true
   },
   "outputs": [
    {
     "name": "stdout",
     "output_type": "stream",
     "text": [
      "<class 'pandas.core.frame.DataFrame'>\n",
      "Int64Index: 1115 entries, 0 to 1319\n",
      "Data columns (total 28 columns):\n",
      " #   Column         Non-Null Count  Dtype  \n",
      "---  ------         --------------  -----  \n",
      " 0   식품명            1115 non-null   object \n",
      " 1   대표식품명          1115 non-null   object \n",
      " 2   식품대분류명         1115 non-null   object \n",
      " 3   식품중분류명         1115 non-null   object \n",
      " 4   에너지(kcal)      1115 non-null   int64  \n",
      " 5   수분(g)          1115 non-null   float64\n",
      " 6   단백질(g)         1115 non-null   float64\n",
      " 7   지방(g)          1115 non-null   float64\n",
      " 8   회분(g)          868 non-null    float64\n",
      " 9   탄수화물(g)        1115 non-null   float64\n",
      " 10  당류(g)          1013 non-null   float64\n",
      " 11  식이섬유(g)        852 non-null    float64\n",
      " 12  칼슘(mg)         868 non-null    float64\n",
      " 13  철(mg)          866 non-null    float64\n",
      " 14  인(mg)          868 non-null    float64\n",
      " 15  칼륨(mg)         867 non-null    float64\n",
      " 16  나트륨(mg)        1114 non-null   float64\n",
      " 17  비타민 A(μg RAE)  867 non-null    float64\n",
      " 18  레티놀(μg)        867 non-null    float64\n",
      " 19  베타카로틴(μg)      862 non-null    float64\n",
      " 20  티아민(mg)        866 non-null    float64\n",
      " 21  리보플라빈(mg)      868 non-null    float64\n",
      " 22  니아신(mg)        867 non-null    float64\n",
      " 23  비타민 C(mg)      867 non-null    float64\n",
      " 24  비타민 D(μg)      546 non-null    float64\n",
      " 25  콜레스테롤(mg)      830 non-null    float64\n",
      " 26  포화지방산(g)       1115 non-null   float64\n",
      " 27  트랜스지방산(g)      1115 non-null   float64\n",
      "dtypes: float64(23), int64(1), object(4)\n",
      "memory usage: 252.6+ KB\n"
     ]
    }
   ],
   "source": [
    "df.info()"
   ]
  },
  {
   "cell_type": "code",
   "execution_count": 8,
   "id": "f31746bd",
   "metadata": {
    "scrolled": true
   },
   "outputs": [],
   "source": [
    "#나트륨이 na값인 데이터는 하나이다. 열무김치 종류이므로 분석에서 제외한다.\n",
    "df = df.drop(1065, axis = 0)"
   ]
  },
  {
   "cell_type": "code",
   "execution_count": 9,
   "id": "b0ebe788",
   "metadata": {},
   "outputs": [
    {
     "data": {
      "text/plain": [
       "array(['밥류', '빵 및 과자류', '면 및 만두류', '죽 및 스프류', '국 및 탕류', '찌개 및 전골류', '찜류',\n",
       "       '구이류', '전·적 및 부침류', '볶음류', '조림류', '튀김류', '나물·숙채류', '생채·무침류',\n",
       "       '곡류, 서류 제품', '김치류', '장아찌·절임류', '음료 및 차류', '수·조·어·육류'], dtype=object)"
      ]
     },
     "execution_count": 9,
     "metadata": {},
     "output_type": "execute_result"
    }
   ],
   "source": [
    "df['식품대분류명'].unique()"
   ]
  },
  {
   "cell_type": "code",
   "execution_count": 10,
   "id": "9f3a0254",
   "metadata": {},
   "outputs": [],
   "source": [
    "#나물.숙채류, 생채.무침류, 곡류.서류제품, 김치류, , 음료 및 차류 전체 제외\n",
    "#수.조.어.육류(대구포, 북어포 제외), 장아찌.절임류(간장게장, 양념게장 제외)\n",
    "remove = df[df['식품대분류명'].str.contains('나물·숙채류')].index\n",
    "df = df.drop(remove)"
   ]
  },
  {
   "cell_type": "code",
   "execution_count": 11,
   "id": "8e64804e",
   "metadata": {},
   "outputs": [],
   "source": [
    "remove = df[df['식품대분류명'].str.contains('생채·무침류')].index\n",
    "df = df.drop(remove)"
   ]
  },
  {
   "cell_type": "code",
   "execution_count": 12,
   "id": "61d8754c",
   "metadata": {},
   "outputs": [],
   "source": [
    "remove = df[df['식품대분류명'].str.contains('곡류, 서류 제품')].index\n",
    "df = df.drop(remove)"
   ]
  },
  {
   "cell_type": "code",
   "execution_count": 13,
   "id": "6e371519",
   "metadata": {},
   "outputs": [],
   "source": [
    "remove = df[df['식품대분류명'].str.contains('김치류')].index\n",
    "df = df.drop(remove)"
   ]
  },
  {
   "cell_type": "code",
   "execution_count": 14,
   "id": "19bf9d51",
   "metadata": {
    "scrolled": true
   },
   "outputs": [
    {
     "data": {
      "text/html": [
       "<div>\n",
       "<style scoped>\n",
       "    .dataframe tbody tr th:only-of-type {\n",
       "        vertical-align: middle;\n",
       "    }\n",
       "\n",
       "    .dataframe tbody tr th {\n",
       "        vertical-align: top;\n",
       "    }\n",
       "\n",
       "    .dataframe thead th {\n",
       "        text-align: right;\n",
       "    }\n",
       "</style>\n",
       "<table border=\"1\" class=\"dataframe\">\n",
       "  <thead>\n",
       "    <tr style=\"text-align: right;\">\n",
       "      <th></th>\n",
       "      <th>식품명</th>\n",
       "      <th>대표식품명</th>\n",
       "      <th>식품대분류명</th>\n",
       "      <th>식품중분류명</th>\n",
       "      <th>에너지(kcal)</th>\n",
       "      <th>수분(g)</th>\n",
       "      <th>단백질(g)</th>\n",
       "      <th>지방(g)</th>\n",
       "      <th>회분(g)</th>\n",
       "      <th>탄수화물(g)</th>\n",
       "      <th>...</th>\n",
       "      <th>레티놀(μg)</th>\n",
       "      <th>베타카로틴(μg)</th>\n",
       "      <th>티아민(mg)</th>\n",
       "      <th>리보플라빈(mg)</th>\n",
       "      <th>니아신(mg)</th>\n",
       "      <th>비타민 C(mg)</th>\n",
       "      <th>비타민 D(μg)</th>\n",
       "      <th>콜레스테롤(mg)</th>\n",
       "      <th>포화지방산(g)</th>\n",
       "      <th>트랜스지방산(g)</th>\n",
       "    </tr>\n",
       "  </thead>\n",
       "  <tbody>\n",
       "    <tr>\n",
       "      <th>484</th>\n",
       "      <td>육회</td>\n",
       "      <td>육회</td>\n",
       "      <td>수·조·어·육류</td>\n",
       "      <td>해당없음</td>\n",
       "      <td>130</td>\n",
       "      <td>73.9</td>\n",
       "      <td>9.93</td>\n",
       "      <td>6.43</td>\n",
       "      <td>1.63</td>\n",
       "      <td>8.12</td>\n",
       "      <td>...</td>\n",
       "      <td>1.0</td>\n",
       "      <td>4.0</td>\n",
       "      <td>0.000</td>\n",
       "      <td>0.107</td>\n",
       "      <td>0.307</td>\n",
       "      <td>3.17</td>\n",
       "      <td>0.0</td>\n",
       "      <td>28.09</td>\n",
       "      <td>2.11</td>\n",
       "      <td>0.08</td>\n",
       "    </tr>\n",
       "    <tr>\n",
       "      <th>1316</th>\n",
       "      <td>대구포</td>\n",
       "      <td>대구포</td>\n",
       "      <td>수·조·어·육류</td>\n",
       "      <td>해당없음</td>\n",
       "      <td>141</td>\n",
       "      <td>56.4</td>\n",
       "      <td>31.97</td>\n",
       "      <td>0.40</td>\n",
       "      <td>8.92</td>\n",
       "      <td>2.33</td>\n",
       "      <td>...</td>\n",
       "      <td>0.0</td>\n",
       "      <td>0.0</td>\n",
       "      <td>0.065</td>\n",
       "      <td>0.068</td>\n",
       "      <td>0.963</td>\n",
       "      <td>0.00</td>\n",
       "      <td>NaN</td>\n",
       "      <td>107.15</td>\n",
       "      <td>0.17</td>\n",
       "      <td>0.00</td>\n",
       "    </tr>\n",
       "    <tr>\n",
       "      <th>1317</th>\n",
       "      <td>물회</td>\n",
       "      <td>물회</td>\n",
       "      <td>수·조·어·육류</td>\n",
       "      <td>해당없음</td>\n",
       "      <td>76</td>\n",
       "      <td>83.4</td>\n",
       "      <td>4.91</td>\n",
       "      <td>2.70</td>\n",
       "      <td>1.11</td>\n",
       "      <td>7.90</td>\n",
       "      <td>...</td>\n",
       "      <td>1.0</td>\n",
       "      <td>161.0</td>\n",
       "      <td>0.060</td>\n",
       "      <td>0.031</td>\n",
       "      <td>1.559</td>\n",
       "      <td>0.43</td>\n",
       "      <td>NaN</td>\n",
       "      <td>17.18</td>\n",
       "      <td>0.40</td>\n",
       "      <td>0.01</td>\n",
       "    </tr>\n",
       "    <tr>\n",
       "      <th>1318</th>\n",
       "      <td>물회_생선</td>\n",
       "      <td>물회</td>\n",
       "      <td>수·조·어·육류</td>\n",
       "      <td>생선</td>\n",
       "      <td>72</td>\n",
       "      <td>82.6</td>\n",
       "      <td>4.29</td>\n",
       "      <td>1.54</td>\n",
       "      <td>1.25</td>\n",
       "      <td>10.31</td>\n",
       "      <td>...</td>\n",
       "      <td>2.0</td>\n",
       "      <td>263.0</td>\n",
       "      <td>0.020</td>\n",
       "      <td>0.025</td>\n",
       "      <td>0.250</td>\n",
       "      <td>2.01</td>\n",
       "      <td>NaN</td>\n",
       "      <td>12.74</td>\n",
       "      <td>0.25</td>\n",
       "      <td>0.00</td>\n",
       "    </tr>\n",
       "    <tr>\n",
       "      <th>1319</th>\n",
       "      <td>북어포</td>\n",
       "      <td>북어포</td>\n",
       "      <td>수·조·어·육류</td>\n",
       "      <td>해당없음</td>\n",
       "      <td>332</td>\n",
       "      <td>12.0</td>\n",
       "      <td>77.11</td>\n",
       "      <td>1.95</td>\n",
       "      <td>7.34</td>\n",
       "      <td>1.59</td>\n",
       "      <td>...</td>\n",
       "      <td>17.0</td>\n",
       "      <td>0.0</td>\n",
       "      <td>0.000</td>\n",
       "      <td>0.232</td>\n",
       "      <td>1.785</td>\n",
       "      <td>0.00</td>\n",
       "      <td>NaN</td>\n",
       "      <td>425.12</td>\n",
       "      <td>0.66</td>\n",
       "      <td>0.00</td>\n",
       "    </tr>\n",
       "  </tbody>\n",
       "</table>\n",
       "<p>5 rows × 28 columns</p>\n",
       "</div>"
      ],
      "text/plain": [
       "        식품명 대표식품명    식품대분류명 식품중분류명  에너지(kcal)  수분(g)  단백질(g)  지방(g)  회분(g)  \\\n",
       "484      육회    육회  수·조·어·육류   해당없음        130   73.9    9.93   6.43   1.63   \n",
       "1316    대구포   대구포  수·조·어·육류   해당없음        141   56.4   31.97   0.40   8.92   \n",
       "1317     물회    물회  수·조·어·육류   해당없음         76   83.4    4.91   2.70   1.11   \n",
       "1318  물회_생선    물회  수·조·어·육류     생선         72   82.6    4.29   1.54   1.25   \n",
       "1319    북어포   북어포  수·조·어·육류   해당없음        332   12.0   77.11   1.95   7.34   \n",
       "\n",
       "      탄수화물(g)  ...  레티놀(μg)  베타카로틴(μg)  티아민(mg)  리보플라빈(mg)  니아신(mg)  \\\n",
       "484      8.12  ...      1.0        4.0    0.000      0.107    0.307   \n",
       "1316     2.33  ...      0.0        0.0    0.065      0.068    0.963   \n",
       "1317     7.90  ...      1.0      161.0    0.060      0.031    1.559   \n",
       "1318    10.31  ...      2.0      263.0    0.020      0.025    0.250   \n",
       "1319     1.59  ...     17.0        0.0    0.000      0.232    1.785   \n",
       "\n",
       "      비타민 C(mg)  비타민 D(μg)  콜레스테롤(mg)  포화지방산(g)  트랜스지방산(g)  \n",
       "484        3.17        0.0      28.09      2.11       0.08  \n",
       "1316       0.00        NaN     107.15      0.17       0.00  \n",
       "1317       0.43        NaN      17.18      0.40       0.01  \n",
       "1318       2.01        NaN      12.74      0.25       0.00  \n",
       "1319       0.00        NaN     425.12      0.66       0.00  \n",
       "\n",
       "[5 rows x 28 columns]"
      ]
     },
     "execution_count": 14,
     "metadata": {},
     "output_type": "execute_result"
    }
   ],
   "source": [
    "df[df['식품대분류명'] == '수·조·어·육류']"
   ]
  },
  {
   "cell_type": "code",
   "execution_count": 15,
   "id": "52924e7d",
   "metadata": {
    "scrolled": true
   },
   "outputs": [],
   "source": [
    "df = df.drop([1316, 1319])"
   ]
  },
  {
   "cell_type": "code",
   "execution_count": 16,
   "id": "781d86ab",
   "metadata": {},
   "outputs": [
    {
     "data": {
      "text/html": [
       "<div>\n",
       "<style scoped>\n",
       "    .dataframe tbody tr th:only-of-type {\n",
       "        vertical-align: middle;\n",
       "    }\n",
       "\n",
       "    .dataframe tbody tr th {\n",
       "        vertical-align: top;\n",
       "    }\n",
       "\n",
       "    .dataframe thead th {\n",
       "        text-align: right;\n",
       "    }\n",
       "</style>\n",
       "<table border=\"1\" class=\"dataframe\">\n",
       "  <thead>\n",
       "    <tr style=\"text-align: right;\">\n",
       "      <th></th>\n",
       "      <th>식품명</th>\n",
       "      <th>대표식품명</th>\n",
       "      <th>식품대분류명</th>\n",
       "      <th>식품중분류명</th>\n",
       "      <th>에너지(kcal)</th>\n",
       "      <th>수분(g)</th>\n",
       "      <th>단백질(g)</th>\n",
       "      <th>지방(g)</th>\n",
       "      <th>회분(g)</th>\n",
       "      <th>탄수화물(g)</th>\n",
       "      <th>...</th>\n",
       "      <th>레티놀(μg)</th>\n",
       "      <th>베타카로틴(μg)</th>\n",
       "      <th>티아민(mg)</th>\n",
       "      <th>리보플라빈(mg)</th>\n",
       "      <th>니아신(mg)</th>\n",
       "      <th>비타민 C(mg)</th>\n",
       "      <th>비타민 D(μg)</th>\n",
       "      <th>콜레스테롤(mg)</th>\n",
       "      <th>포화지방산(g)</th>\n",
       "      <th>트랜스지방산(g)</th>\n",
       "    </tr>\n",
       "  </thead>\n",
       "  <tbody>\n",
       "    <tr>\n",
       "      <th>457</th>\n",
       "      <td>가자미식해</td>\n",
       "      <td>가자미식해</td>\n",
       "      <td>장아찌·절임류</td>\n",
       "      <td>해당없음</td>\n",
       "      <td>134</td>\n",
       "      <td>69.3</td>\n",
       "      <td>11.09</td>\n",
       "      <td>4.81</td>\n",
       "      <td>3.16</td>\n",
       "      <td>11.64</td>\n",
       "      <td>...</td>\n",
       "      <td>8.0</td>\n",
       "      <td>1317.0</td>\n",
       "      <td>0.268</td>\n",
       "      <td>0.132</td>\n",
       "      <td>0.000</td>\n",
       "      <td>2.56</td>\n",
       "      <td>0.0</td>\n",
       "      <td>73.81</td>\n",
       "      <td>0.70</td>\n",
       "      <td>0.03</td>\n",
       "    </tr>\n",
       "    <tr>\n",
       "      <th>458</th>\n",
       "      <td>갈치젓_양념</td>\n",
       "      <td>갈치젓</td>\n",
       "      <td>장아찌·절임류</td>\n",
       "      <td>양념</td>\n",
       "      <td>149</td>\n",
       "      <td>53.8</td>\n",
       "      <td>15.53</td>\n",
       "      <td>5.08</td>\n",
       "      <td>15.33</td>\n",
       "      <td>10.28</td>\n",
       "      <td>...</td>\n",
       "      <td>413.0</td>\n",
       "      <td>897.0</td>\n",
       "      <td>7.311</td>\n",
       "      <td>0.178</td>\n",
       "      <td>0.000</td>\n",
       "      <td>0.00</td>\n",
       "      <td>0.0</td>\n",
       "      <td>112.27</td>\n",
       "      <td>1.87</td>\n",
       "      <td>0.03</td>\n",
       "    </tr>\n",
       "    <tr>\n",
       "      <th>459</th>\n",
       "      <td>꽃게장_간장</td>\n",
       "      <td>꽃게장</td>\n",
       "      <td>장아찌·절임류</td>\n",
       "      <td>간장</td>\n",
       "      <td>62</td>\n",
       "      <td>82.8</td>\n",
       "      <td>7.02</td>\n",
       "      <td>1.10</td>\n",
       "      <td>3.06</td>\n",
       "      <td>6.04</td>\n",
       "      <td>...</td>\n",
       "      <td>7.0</td>\n",
       "      <td>15.0</td>\n",
       "      <td>0.000</td>\n",
       "      <td>0.112</td>\n",
       "      <td>13.544</td>\n",
       "      <td>17.11</td>\n",
       "      <td>0.0</td>\n",
       "      <td>48.91</td>\n",
       "      <td>0.16</td>\n",
       "      <td>0.00</td>\n",
       "    </tr>\n",
       "    <tr>\n",
       "      <th>460</th>\n",
       "      <td>꽃게장_양념(고추가루)</td>\n",
       "      <td>꽃게장</td>\n",
       "      <td>장아찌·절임류</td>\n",
       "      <td>양념(고추가루)</td>\n",
       "      <td>97</td>\n",
       "      <td>73.1</td>\n",
       "      <td>10.23</td>\n",
       "      <td>0.61</td>\n",
       "      <td>3.52</td>\n",
       "      <td>12.61</td>\n",
       "      <td>...</td>\n",
       "      <td>0.0</td>\n",
       "      <td>628.0</td>\n",
       "      <td>0.000</td>\n",
       "      <td>0.150</td>\n",
       "      <td>13.585</td>\n",
       "      <td>22.05</td>\n",
       "      <td>0.0</td>\n",
       "      <td>46.16</td>\n",
       "      <td>0.24</td>\n",
       "      <td>0.01</td>\n",
       "    </tr>\n",
       "    <tr>\n",
       "      <th>461</th>\n",
       "      <td>단무지</td>\n",
       "      <td>단무지</td>\n",
       "      <td>장아찌·절임류</td>\n",
       "      <td>해당없음</td>\n",
       "      <td>13</td>\n",
       "      <td>95.6</td>\n",
       "      <td>0.33</td>\n",
       "      <td>0.20</td>\n",
       "      <td>1.53</td>\n",
       "      <td>2.40</td>\n",
       "      <td>...</td>\n",
       "      <td>0.0</td>\n",
       "      <td>0.0</td>\n",
       "      <td>0.000</td>\n",
       "      <td>0.000</td>\n",
       "      <td>0.000</td>\n",
       "      <td>3.13</td>\n",
       "      <td>0.0</td>\n",
       "      <td>0.00</td>\n",
       "      <td>0.03</td>\n",
       "      <td>0.00</td>\n",
       "    </tr>\n",
       "    <tr>\n",
       "      <th>462</th>\n",
       "      <td>더덕장아찌</td>\n",
       "      <td>더덕장아찌</td>\n",
       "      <td>장아찌·절임류</td>\n",
       "      <td>해당없음</td>\n",
       "      <td>141</td>\n",
       "      <td>62.0</td>\n",
       "      <td>4.47</td>\n",
       "      <td>0.89</td>\n",
       "      <td>3.77</td>\n",
       "      <td>28.90</td>\n",
       "      <td>...</td>\n",
       "      <td>0.0</td>\n",
       "      <td>596.0</td>\n",
       "      <td>0.289</td>\n",
       "      <td>0.044</td>\n",
       "      <td>0.767</td>\n",
       "      <td>2.12</td>\n",
       "      <td>0.0</td>\n",
       "      <td>0.00</td>\n",
       "      <td>0.23</td>\n",
       "      <td>0.00</td>\n",
       "    </tr>\n",
       "    <tr>\n",
       "      <th>463</th>\n",
       "      <td>매실장아찌_우메보시(일본)</td>\n",
       "      <td>매실장아찌</td>\n",
       "      <td>장아찌·절임류</td>\n",
       "      <td>우메보시(일본)</td>\n",
       "      <td>65</td>\n",
       "      <td>75.7</td>\n",
       "      <td>1.27</td>\n",
       "      <td>1.77</td>\n",
       "      <td>10.27</td>\n",
       "      <td>11.03</td>\n",
       "      <td>...</td>\n",
       "      <td>0.0</td>\n",
       "      <td>0.0</td>\n",
       "      <td>0.000</td>\n",
       "      <td>0.000</td>\n",
       "      <td>0.500</td>\n",
       "      <td>0.00</td>\n",
       "      <td>0.0</td>\n",
       "      <td>0.00</td>\n",
       "      <td>0.03</td>\n",
       "      <td>0.00</td>\n",
       "    </tr>\n",
       "    <tr>\n",
       "      <th>464</th>\n",
       "      <td>멸치젓_양념</td>\n",
       "      <td>멸치젓</td>\n",
       "      <td>장아찌·절임류</td>\n",
       "      <td>양념</td>\n",
       "      <td>90</td>\n",
       "      <td>63.2</td>\n",
       "      <td>11.40</td>\n",
       "      <td>1.60</td>\n",
       "      <td>16.40</td>\n",
       "      <td>7.40</td>\n",
       "      <td>...</td>\n",
       "      <td>32.0</td>\n",
       "      <td>268.0</td>\n",
       "      <td>0.000</td>\n",
       "      <td>0.200</td>\n",
       "      <td>0.000</td>\n",
       "      <td>2.40</td>\n",
       "      <td>0.0</td>\n",
       "      <td>117.60</td>\n",
       "      <td>0.80</td>\n",
       "      <td>0.00</td>\n",
       "    </tr>\n",
       "    <tr>\n",
       "      <th>465</th>\n",
       "      <td>무짠지</td>\n",
       "      <td>무짠지</td>\n",
       "      <td>장아찌·절임류</td>\n",
       "      <td>해당없음</td>\n",
       "      <td>11</td>\n",
       "      <td>91.0</td>\n",
       "      <td>0.54</td>\n",
       "      <td>0.12</td>\n",
       "      <td>6.34</td>\n",
       "      <td>1.98</td>\n",
       "      <td>...</td>\n",
       "      <td>0.0</td>\n",
       "      <td>0.0</td>\n",
       "      <td>0.000</td>\n",
       "      <td>0.020</td>\n",
       "      <td>0.040</td>\n",
       "      <td>0.00</td>\n",
       "      <td>0.0</td>\n",
       "      <td>0.00</td>\n",
       "      <td>0.02</td>\n",
       "      <td>0.00</td>\n",
       "    </tr>\n",
       "    <tr>\n",
       "      <th>466</th>\n",
       "      <td>무초절임(치킨무)</td>\n",
       "      <td>무초절임(치킨무)</td>\n",
       "      <td>장아찌·절임류</td>\n",
       "      <td>해당없음</td>\n",
       "      <td>17</td>\n",
       "      <td>95.4</td>\n",
       "      <td>0.52</td>\n",
       "      <td>0.30</td>\n",
       "      <td>0.71</td>\n",
       "      <td>3.05</td>\n",
       "      <td>...</td>\n",
       "      <td>0.0</td>\n",
       "      <td>0.0</td>\n",
       "      <td>0.000</td>\n",
       "      <td>0.000</td>\n",
       "      <td>0.000</td>\n",
       "      <td>0.00</td>\n",
       "      <td>0.0</td>\n",
       "      <td>0.00</td>\n",
       "      <td>0.02</td>\n",
       "      <td>0.00</td>\n",
       "    </tr>\n",
       "    <tr>\n",
       "      <th>467</th>\n",
       "      <td>새우젓_양념</td>\n",
       "      <td>새우젓</td>\n",
       "      <td>장아찌·절임류</td>\n",
       "      <td>양념</td>\n",
       "      <td>69</td>\n",
       "      <td>66.8</td>\n",
       "      <td>7.10</td>\n",
       "      <td>1.80</td>\n",
       "      <td>18.20</td>\n",
       "      <td>6.00</td>\n",
       "      <td>...</td>\n",
       "      <td>13.0</td>\n",
       "      <td>291.0</td>\n",
       "      <td>0.300</td>\n",
       "      <td>0.100</td>\n",
       "      <td>0.000</td>\n",
       "      <td>8.10</td>\n",
       "      <td>0.0</td>\n",
       "      <td>69.80</td>\n",
       "      <td>0.30</td>\n",
       "      <td>0.00</td>\n",
       "    </tr>\n",
       "    <tr>\n",
       "      <th>468</th>\n",
       "      <td>오이장아찌</td>\n",
       "      <td>오이장아찌</td>\n",
       "      <td>장아찌·절임류</td>\n",
       "      <td>해당없음</td>\n",
       "      <td>14</td>\n",
       "      <td>94.8</td>\n",
       "      <td>0.36</td>\n",
       "      <td>0.28</td>\n",
       "      <td>2.02</td>\n",
       "      <td>2.54</td>\n",
       "      <td>...</td>\n",
       "      <td>0.0</td>\n",
       "      <td>3.0</td>\n",
       "      <td>0.160</td>\n",
       "      <td>0.000</td>\n",
       "      <td>0.000</td>\n",
       "      <td>0.26</td>\n",
       "      <td>0.0</td>\n",
       "      <td>0.00</td>\n",
       "      <td>0.04</td>\n",
       "      <td>0.00</td>\n",
       "    </tr>\n",
       "    <tr>\n",
       "      <th>469</th>\n",
       "      <td>오이지</td>\n",
       "      <td>오이지</td>\n",
       "      <td>장아찌·절임류</td>\n",
       "      <td>해당없음</td>\n",
       "      <td>21</td>\n",
       "      <td>90.1</td>\n",
       "      <td>0.74</td>\n",
       "      <td>0.72</td>\n",
       "      <td>5.62</td>\n",
       "      <td>2.84</td>\n",
       "      <td>...</td>\n",
       "      <td>0.0</td>\n",
       "      <td>100.0</td>\n",
       "      <td>0.140</td>\n",
       "      <td>0.020</td>\n",
       "      <td>1.080</td>\n",
       "      <td>0.18</td>\n",
       "      <td>0.0</td>\n",
       "      <td>0.00</td>\n",
       "      <td>0.04</td>\n",
       "      <td>0.00</td>\n",
       "    </tr>\n",
       "    <tr>\n",
       "      <th>470</th>\n",
       "      <td>오징어젓_양념</td>\n",
       "      <td>오징어젓</td>\n",
       "      <td>장아찌·절임류</td>\n",
       "      <td>양념</td>\n",
       "      <td>60</td>\n",
       "      <td>79.7</td>\n",
       "      <td>10.10</td>\n",
       "      <td>0.70</td>\n",
       "      <td>6.10</td>\n",
       "      <td>3.40</td>\n",
       "      <td>...</td>\n",
       "      <td>4.0</td>\n",
       "      <td>307.0</td>\n",
       "      <td>0.100</td>\n",
       "      <td>0.100</td>\n",
       "      <td>0.000</td>\n",
       "      <td>6.90</td>\n",
       "      <td>0.0</td>\n",
       "      <td>144.70</td>\n",
       "      <td>0.20</td>\n",
       "      <td>0.00</td>\n",
       "    </tr>\n",
       "    <tr>\n",
       "      <th>728</th>\n",
       "      <td>초절임_(삼삼한밥상(Ⅶ))양파홍초절임</td>\n",
       "      <td>초절임</td>\n",
       "      <td>장아찌·절임류</td>\n",
       "      <td>해당없음</td>\n",
       "      <td>71</td>\n",
       "      <td>0.0</td>\n",
       "      <td>0.69</td>\n",
       "      <td>0.58</td>\n",
       "      <td>NaN</td>\n",
       "      <td>15.80</td>\n",
       "      <td>...</td>\n",
       "      <td>NaN</td>\n",
       "      <td>NaN</td>\n",
       "      <td>NaN</td>\n",
       "      <td>NaN</td>\n",
       "      <td>NaN</td>\n",
       "      <td>NaN</td>\n",
       "      <td>NaN</td>\n",
       "      <td>NaN</td>\n",
       "      <td>0.00</td>\n",
       "      <td>0.00</td>\n",
       "    </tr>\n",
       "    <tr>\n",
       "      <th>729</th>\n",
       "      <td>초절임_(삼삼한밥상(Ⅶ))유부초절임</td>\n",
       "      <td>초절임</td>\n",
       "      <td>장아찌·절임류</td>\n",
       "      <td>해당없음</td>\n",
       "      <td>93</td>\n",
       "      <td>0.0</td>\n",
       "      <td>3.92</td>\n",
       "      <td>1.24</td>\n",
       "      <td>NaN</td>\n",
       "      <td>16.51</td>\n",
       "      <td>...</td>\n",
       "      <td>NaN</td>\n",
       "      <td>NaN</td>\n",
       "      <td>NaN</td>\n",
       "      <td>NaN</td>\n",
       "      <td>NaN</td>\n",
       "      <td>NaN</td>\n",
       "      <td>NaN</td>\n",
       "      <td>NaN</td>\n",
       "      <td>0.00</td>\n",
       "      <td>0.00</td>\n",
       "    </tr>\n",
       "    <tr>\n",
       "      <th>730</th>\n",
       "      <td>피클_(삼삼한밥상(Ⅶ))모둠야채 수제피클</td>\n",
       "      <td>피클</td>\n",
       "      <td>장아찌·절임류</td>\n",
       "      <td>해당없음</td>\n",
       "      <td>154</td>\n",
       "      <td>0.0</td>\n",
       "      <td>0.33</td>\n",
       "      <td>0.17</td>\n",
       "      <td>NaN</td>\n",
       "      <td>37.80</td>\n",
       "      <td>...</td>\n",
       "      <td>NaN</td>\n",
       "      <td>NaN</td>\n",
       "      <td>NaN</td>\n",
       "      <td>NaN</td>\n",
       "      <td>NaN</td>\n",
       "      <td>NaN</td>\n",
       "      <td>NaN</td>\n",
       "      <td>NaN</td>\n",
       "      <td>0.00</td>\n",
       "      <td>0.00</td>\n",
       "    </tr>\n",
       "    <tr>\n",
       "      <th>1276</th>\n",
       "      <td>고추장아찌</td>\n",
       "      <td>고추장아찌</td>\n",
       "      <td>장아찌·절임류</td>\n",
       "      <td>해당없음</td>\n",
       "      <td>124</td>\n",
       "      <td>59.7</td>\n",
       "      <td>2.39</td>\n",
       "      <td>0.63</td>\n",
       "      <td>5.79</td>\n",
       "      <td>31.49</td>\n",
       "      <td>...</td>\n",
       "      <td>0.0</td>\n",
       "      <td>291.0</td>\n",
       "      <td>0.195</td>\n",
       "      <td>0.024</td>\n",
       "      <td>0.216</td>\n",
       "      <td>11.80</td>\n",
       "      <td>0.0</td>\n",
       "      <td>0.00</td>\n",
       "      <td>0.11</td>\n",
       "      <td>0.00</td>\n",
       "    </tr>\n",
       "    <tr>\n",
       "      <th>1277</th>\n",
       "      <td>들깻잎장아찌</td>\n",
       "      <td>들깻잎장아찌</td>\n",
       "      <td>장아찌·절임류</td>\n",
       "      <td>해당없음</td>\n",
       "      <td>124</td>\n",
       "      <td>63.6</td>\n",
       "      <td>4.03</td>\n",
       "      <td>0.42</td>\n",
       "      <td>5.95</td>\n",
       "      <td>26.00</td>\n",
       "      <td>...</td>\n",
       "      <td>0.0</td>\n",
       "      <td>4167.0</td>\n",
       "      <td>0.099</td>\n",
       "      <td>0.221</td>\n",
       "      <td>0.716</td>\n",
       "      <td>12.74</td>\n",
       "      <td>0.0</td>\n",
       "      <td>0.00</td>\n",
       "      <td>0.06</td>\n",
       "      <td>0.00</td>\n",
       "    </tr>\n",
       "    <tr>\n",
       "      <th>1278</th>\n",
       "      <td>마늘장아찌</td>\n",
       "      <td>마늘장아찌</td>\n",
       "      <td>장아찌·절임류</td>\n",
       "      <td>해당없음</td>\n",
       "      <td>113</td>\n",
       "      <td>68.8</td>\n",
       "      <td>2.43</td>\n",
       "      <td>0.16</td>\n",
       "      <td>3.25</td>\n",
       "      <td>25.36</td>\n",
       "      <td>...</td>\n",
       "      <td>0.0</td>\n",
       "      <td>0.0</td>\n",
       "      <td>0.043</td>\n",
       "      <td>0.025</td>\n",
       "      <td>0.194</td>\n",
       "      <td>0.00</td>\n",
       "      <td>0.0</td>\n",
       "      <td>0.00</td>\n",
       "      <td>0.04</td>\n",
       "      <td>0.00</td>\n",
       "    </tr>\n",
       "    <tr>\n",
       "      <th>1279</th>\n",
       "      <td>마늘종장아찌</td>\n",
       "      <td>마늘종장아찌</td>\n",
       "      <td>장아찌·절임류</td>\n",
       "      <td>해당없음</td>\n",
       "      <td>118</td>\n",
       "      <td>66.5</td>\n",
       "      <td>1.96</td>\n",
       "      <td>0.14</td>\n",
       "      <td>4.06</td>\n",
       "      <td>27.34</td>\n",
       "      <td>...</td>\n",
       "      <td>0.0</td>\n",
       "      <td>135.0</td>\n",
       "      <td>0.026</td>\n",
       "      <td>0.023</td>\n",
       "      <td>0.107</td>\n",
       "      <td>0.00</td>\n",
       "      <td>0.0</td>\n",
       "      <td>0.00</td>\n",
       "      <td>0.04</td>\n",
       "      <td>0.00</td>\n",
       "    </tr>\n",
       "    <tr>\n",
       "      <th>1280</th>\n",
       "      <td>마늘쫑장아찌_간장</td>\n",
       "      <td>마늘쫑장아찌</td>\n",
       "      <td>장아찌·절임류</td>\n",
       "      <td>간장</td>\n",
       "      <td>60</td>\n",
       "      <td>81.6</td>\n",
       "      <td>2.00</td>\n",
       "      <td>1.00</td>\n",
       "      <td>4.60</td>\n",
       "      <td>10.80</td>\n",
       "      <td>...</td>\n",
       "      <td>0.0</td>\n",
       "      <td>140.0</td>\n",
       "      <td>0.140</td>\n",
       "      <td>0.040</td>\n",
       "      <td>0.120</td>\n",
       "      <td>1.50</td>\n",
       "      <td>NaN</td>\n",
       "      <td>0.00</td>\n",
       "      <td>0.00</td>\n",
       "      <td>0.00</td>\n",
       "    </tr>\n",
       "    <tr>\n",
       "      <th>1281</th>\n",
       "      <td>마늘쫑장아찌_고추장</td>\n",
       "      <td>마늘쫑장아찌</td>\n",
       "      <td>장아찌·절임류</td>\n",
       "      <td>고추장</td>\n",
       "      <td>110</td>\n",
       "      <td>70.4</td>\n",
       "      <td>2.60</td>\n",
       "      <td>1.80</td>\n",
       "      <td>4.20</td>\n",
       "      <td>21.00</td>\n",
       "      <td>...</td>\n",
       "      <td>0.0</td>\n",
       "      <td>833.0</td>\n",
       "      <td>0.160</td>\n",
       "      <td>0.080</td>\n",
       "      <td>0.140</td>\n",
       "      <td>1.84</td>\n",
       "      <td>NaN</td>\n",
       "      <td>0.00</td>\n",
       "      <td>0.20</td>\n",
       "      <td>0.00</td>\n",
       "    </tr>\n",
       "    <tr>\n",
       "      <th>1282</th>\n",
       "      <td>매실장아찌</td>\n",
       "      <td>매실장아찌</td>\n",
       "      <td>장아찌·절임류</td>\n",
       "      <td>해당없음</td>\n",
       "      <td>243</td>\n",
       "      <td>36.5</td>\n",
       "      <td>1.65</td>\n",
       "      <td>0.43</td>\n",
       "      <td>3.35</td>\n",
       "      <td>58.11</td>\n",
       "      <td>...</td>\n",
       "      <td>0.0</td>\n",
       "      <td>496.0</td>\n",
       "      <td>0.079</td>\n",
       "      <td>0.036</td>\n",
       "      <td>2.923</td>\n",
       "      <td>0.00</td>\n",
       "      <td>NaN</td>\n",
       "      <td>0.00</td>\n",
       "      <td>0.08</td>\n",
       "      <td>0.00</td>\n",
       "    </tr>\n",
       "    <tr>\n",
       "      <th>1283</th>\n",
       "      <td>무장아찌</td>\n",
       "      <td>무장아찌</td>\n",
       "      <td>장아찌·절임류</td>\n",
       "      <td>해당없음</td>\n",
       "      <td>80</td>\n",
       "      <td>73.3</td>\n",
       "      <td>1.47</td>\n",
       "      <td>0.76</td>\n",
       "      <td>7.70</td>\n",
       "      <td>16.76</td>\n",
       "      <td>...</td>\n",
       "      <td>0.0</td>\n",
       "      <td>22.0</td>\n",
       "      <td>0.122</td>\n",
       "      <td>0.062</td>\n",
       "      <td>2.951</td>\n",
       "      <td>17.85</td>\n",
       "      <td>NaN</td>\n",
       "      <td>0.13</td>\n",
       "      <td>0.04</td>\n",
       "      <td>0.00</td>\n",
       "    </tr>\n",
       "  </tbody>\n",
       "</table>\n",
       "<p>25 rows × 28 columns</p>\n",
       "</div>"
      ],
      "text/plain": [
       "                         식품명      대표식품명   식품대분류명    식품중분류명  에너지(kcal)  수분(g)  \\\n",
       "457                    가자미식해      가자미식해  장아찌·절임류      해당없음        134   69.3   \n",
       "458                   갈치젓_양념        갈치젓  장아찌·절임류        양념        149   53.8   \n",
       "459                   꽃게장_간장        꽃게장  장아찌·절임류        간장         62   82.8   \n",
       "460             꽃게장_양념(고추가루)        꽃게장  장아찌·절임류  양념(고추가루)         97   73.1   \n",
       "461                      단무지        단무지  장아찌·절임류      해당없음         13   95.6   \n",
       "462                    더덕장아찌      더덕장아찌  장아찌·절임류      해당없음        141   62.0   \n",
       "463           매실장아찌_우메보시(일본)      매실장아찌  장아찌·절임류  우메보시(일본)         65   75.7   \n",
       "464                   멸치젓_양념        멸치젓  장아찌·절임류        양념         90   63.2   \n",
       "465                      무짠지        무짠지  장아찌·절임류      해당없음         11   91.0   \n",
       "466                무초절임(치킨무)  무초절임(치킨무)  장아찌·절임류      해당없음         17   95.4   \n",
       "467                   새우젓_양념        새우젓  장아찌·절임류        양념         69   66.8   \n",
       "468                    오이장아찌      오이장아찌  장아찌·절임류      해당없음         14   94.8   \n",
       "469                      오이지        오이지  장아찌·절임류      해당없음         21   90.1   \n",
       "470                  오징어젓_양념       오징어젓  장아찌·절임류        양념         60   79.7   \n",
       "728     초절임_(삼삼한밥상(Ⅶ))양파홍초절임        초절임  장아찌·절임류      해당없음         71    0.0   \n",
       "729      초절임_(삼삼한밥상(Ⅶ))유부초절임        초절임  장아찌·절임류      해당없음         93    0.0   \n",
       "730   피클_(삼삼한밥상(Ⅶ))모둠야채 수제피클         피클  장아찌·절임류      해당없음        154    0.0   \n",
       "1276                   고추장아찌      고추장아찌  장아찌·절임류      해당없음        124   59.7   \n",
       "1277                  들깻잎장아찌     들깻잎장아찌  장아찌·절임류      해당없음        124   63.6   \n",
       "1278                   마늘장아찌      마늘장아찌  장아찌·절임류      해당없음        113   68.8   \n",
       "1279                  마늘종장아찌     마늘종장아찌  장아찌·절임류      해당없음        118   66.5   \n",
       "1280               마늘쫑장아찌_간장     마늘쫑장아찌  장아찌·절임류        간장         60   81.6   \n",
       "1281              마늘쫑장아찌_고추장     마늘쫑장아찌  장아찌·절임류       고추장        110   70.4   \n",
       "1282                   매실장아찌      매실장아찌  장아찌·절임류      해당없음        243   36.5   \n",
       "1283                    무장아찌       무장아찌  장아찌·절임류      해당없음         80   73.3   \n",
       "\n",
       "      단백질(g)  지방(g)  회분(g)  탄수화물(g)  ...  레티놀(μg)  베타카로틴(μg)  티아민(mg)  \\\n",
       "457    11.09   4.81   3.16    11.64  ...      8.0     1317.0    0.268   \n",
       "458    15.53   5.08  15.33    10.28  ...    413.0      897.0    7.311   \n",
       "459     7.02   1.10   3.06     6.04  ...      7.0       15.0    0.000   \n",
       "460    10.23   0.61   3.52    12.61  ...      0.0      628.0    0.000   \n",
       "461     0.33   0.20   1.53     2.40  ...      0.0        0.0    0.000   \n",
       "462     4.47   0.89   3.77    28.90  ...      0.0      596.0    0.289   \n",
       "463     1.27   1.77  10.27    11.03  ...      0.0        0.0    0.000   \n",
       "464    11.40   1.60  16.40     7.40  ...     32.0      268.0    0.000   \n",
       "465     0.54   0.12   6.34     1.98  ...      0.0        0.0    0.000   \n",
       "466     0.52   0.30   0.71     3.05  ...      0.0        0.0    0.000   \n",
       "467     7.10   1.80  18.20     6.00  ...     13.0      291.0    0.300   \n",
       "468     0.36   0.28   2.02     2.54  ...      0.0        3.0    0.160   \n",
       "469     0.74   0.72   5.62     2.84  ...      0.0      100.0    0.140   \n",
       "470    10.10   0.70   6.10     3.40  ...      4.0      307.0    0.100   \n",
       "728     0.69   0.58    NaN    15.80  ...      NaN        NaN      NaN   \n",
       "729     3.92   1.24    NaN    16.51  ...      NaN        NaN      NaN   \n",
       "730     0.33   0.17    NaN    37.80  ...      NaN        NaN      NaN   \n",
       "1276    2.39   0.63   5.79    31.49  ...      0.0      291.0    0.195   \n",
       "1277    4.03   0.42   5.95    26.00  ...      0.0     4167.0    0.099   \n",
       "1278    2.43   0.16   3.25    25.36  ...      0.0        0.0    0.043   \n",
       "1279    1.96   0.14   4.06    27.34  ...      0.0      135.0    0.026   \n",
       "1280    2.00   1.00   4.60    10.80  ...      0.0      140.0    0.140   \n",
       "1281    2.60   1.80   4.20    21.00  ...      0.0      833.0    0.160   \n",
       "1282    1.65   0.43   3.35    58.11  ...      0.0      496.0    0.079   \n",
       "1283    1.47   0.76   7.70    16.76  ...      0.0       22.0    0.122   \n",
       "\n",
       "      리보플라빈(mg)  니아신(mg)  비타민 C(mg)  비타민 D(μg)  콜레스테롤(mg)  포화지방산(g)  트랜스지방산(g)  \n",
       "457       0.132    0.000       2.56        0.0      73.81      0.70       0.03  \n",
       "458       0.178    0.000       0.00        0.0     112.27      1.87       0.03  \n",
       "459       0.112   13.544      17.11        0.0      48.91      0.16       0.00  \n",
       "460       0.150   13.585      22.05        0.0      46.16      0.24       0.01  \n",
       "461       0.000    0.000       3.13        0.0       0.00      0.03       0.00  \n",
       "462       0.044    0.767       2.12        0.0       0.00      0.23       0.00  \n",
       "463       0.000    0.500       0.00        0.0       0.00      0.03       0.00  \n",
       "464       0.200    0.000       2.40        0.0     117.60      0.80       0.00  \n",
       "465       0.020    0.040       0.00        0.0       0.00      0.02       0.00  \n",
       "466       0.000    0.000       0.00        0.0       0.00      0.02       0.00  \n",
       "467       0.100    0.000       8.10        0.0      69.80      0.30       0.00  \n",
       "468       0.000    0.000       0.26        0.0       0.00      0.04       0.00  \n",
       "469       0.020    1.080       0.18        0.0       0.00      0.04       0.00  \n",
       "470       0.100    0.000       6.90        0.0     144.70      0.20       0.00  \n",
       "728         NaN      NaN        NaN        NaN        NaN      0.00       0.00  \n",
       "729         NaN      NaN        NaN        NaN        NaN      0.00       0.00  \n",
       "730         NaN      NaN        NaN        NaN        NaN      0.00       0.00  \n",
       "1276      0.024    0.216      11.80        0.0       0.00      0.11       0.00  \n",
       "1277      0.221    0.716      12.74        0.0       0.00      0.06       0.00  \n",
       "1278      0.025    0.194       0.00        0.0       0.00      0.04       0.00  \n",
       "1279      0.023    0.107       0.00        0.0       0.00      0.04       0.00  \n",
       "1280      0.040    0.120       1.50        NaN       0.00      0.00       0.00  \n",
       "1281      0.080    0.140       1.84        NaN       0.00      0.20       0.00  \n",
       "1282      0.036    2.923       0.00        NaN       0.00      0.08       0.00  \n",
       "1283      0.062    2.951      17.85        NaN       0.13      0.04       0.00  \n",
       "\n",
       "[25 rows x 28 columns]"
      ]
     },
     "execution_count": 16,
     "metadata": {},
     "output_type": "execute_result"
    }
   ],
   "source": [
    "df[df['식품대분류명'] == '장아찌·절임류']"
   ]
  },
  {
   "cell_type": "code",
   "execution_count": 17,
   "id": "47b2efa9",
   "metadata": {},
   "outputs": [],
   "source": [
    "ls = ['꽃게장']\n",
    "dummy = df[df['대표식품명'].isin(ls)]"
   ]
  },
  {
   "cell_type": "code",
   "execution_count": 18,
   "id": "48a5404f",
   "metadata": {},
   "outputs": [],
   "source": [
    "remove = df[df['식품대분류명'].str.contains('장아찌·절임류')].index\n",
    "df = df.drop(remove)"
   ]
  },
  {
   "cell_type": "code",
   "execution_count": 19,
   "id": "1e2e6ec9",
   "metadata": {},
   "outputs": [
    {
     "data": {
      "text/plain": [
       "904"
      ]
     },
     "execution_count": 19,
     "metadata": {},
     "output_type": "execute_result"
    }
   ],
   "source": [
    "df = pd.concat([df, dummy], axis = 0)\n",
    "len(df)"
   ]
  },
  {
   "cell_type": "code",
   "execution_count": 20,
   "id": "ecf23fad",
   "metadata": {},
   "outputs": [],
   "source": [
    "#분석의 편이를 위해 식품대분류명이 빵 및 과자류인 데이터프레임 형성. 이후 분석에는 쓰이지 않음.\n",
    "dummy = df[df['식품대분류명'] == '빵 및 과자류']"
   ]
  },
  {
   "cell_type": "code",
   "execution_count": 21,
   "id": "fc16a7f6",
   "metadata": {},
   "outputs": [],
   "source": [
    "ls = ['샌드위치', '피자', '햄버거']\n",
    "tmp = df[df['대표식품명'].isin(ls)]"
   ]
  },
  {
   "cell_type": "code",
   "execution_count": 22,
   "id": "c2462d18",
   "metadata": {},
   "outputs": [],
   "source": [
    "remove = df[df['식품대분류명'].str.contains('빵 및 과자류')].index\n",
    "df = df.drop(remove)"
   ]
  },
  {
   "cell_type": "code",
   "execution_count": 23,
   "id": "d9969773",
   "metadata": {},
   "outputs": [
    {
     "data": {
      "text/plain": [
       "821"
      ]
     },
     "execution_count": 23,
     "metadata": {},
     "output_type": "execute_result"
    }
   ],
   "source": [
    "df = pd.concat([df, tmp], axis = 0)\n",
    "len(df)"
   ]
  },
  {
   "cell_type": "code",
   "execution_count": 24,
   "id": "dced0662",
   "metadata": {},
   "outputs": [],
   "source": [
    "df.reset_index(inplace = True)"
   ]
  },
  {
   "cell_type": "code",
   "execution_count": 25,
   "id": "9b32d2d4",
   "metadata": {},
   "outputs": [],
   "source": [
    "df = df.drop('index', axis = 1)"
   ]
  },
  {
   "cell_type": "code",
   "execution_count": 26,
   "id": "aab7a9f4",
   "metadata": {
    "scrolled": true
   },
   "outputs": [
    {
     "name": "stdout",
     "output_type": "stream",
     "text": [
      "<class 'pandas.core.frame.DataFrame'>\n",
      "RangeIndex: 821 entries, 0 to 820\n",
      "Data columns (total 28 columns):\n",
      " #   Column         Non-Null Count  Dtype  \n",
      "---  ------         --------------  -----  \n",
      " 0   식품명            821 non-null    object \n",
      " 1   대표식품명          821 non-null    object \n",
      " 2   식품대분류명         821 non-null    object \n",
      " 3   식품중분류명         821 non-null    object \n",
      " 4   에너지(kcal)      821 non-null    int64  \n",
      " 5   수분(g)          821 non-null    float64\n",
      " 6   단백질(g)         821 non-null    float64\n",
      " 7   지방(g)          821 non-null    float64\n",
      " 8   회분(g)          649 non-null    float64\n",
      " 9   탄수화물(g)        821 non-null    float64\n",
      " 10  당류(g)          753 non-null    float64\n",
      " 11  식이섬유(g)        644 non-null    float64\n",
      " 12  칼슘(mg)         649 non-null    float64\n",
      " 13  철(mg)          649 non-null    float64\n",
      " 14  인(mg)          649 non-null    float64\n",
      " 15  칼륨(mg)         649 non-null    float64\n",
      " 16  나트륨(mg)        821 non-null    float64\n",
      " 17  비타민 A(μg RAE)  648 non-null    float64\n",
      " 18  레티놀(μg)        648 non-null    float64\n",
      " 19  베타카로틴(μg)      644 non-null    float64\n",
      " 20  티아민(mg)        648 non-null    float64\n",
      " 21  리보플라빈(mg)      649 non-null    float64\n",
      " 22  니아신(mg)        648 non-null    float64\n",
      " 23  비타민 C(mg)      649 non-null    float64\n",
      " 24  비타민 D(μg)      391 non-null    float64\n",
      " 25  콜레스테롤(mg)      622 non-null    float64\n",
      " 26  포화지방산(g)       821 non-null    float64\n",
      " 27  트랜스지방산(g)      821 non-null    float64\n",
      "dtypes: float64(23), int64(1), object(4)\n",
      "memory usage: 179.7+ KB\n"
     ]
    }
   ],
   "source": [
    "df.info()"
   ]
  },
  {
   "cell_type": "code",
   "execution_count": 27,
   "id": "a8571384",
   "metadata": {},
   "outputs": [],
   "source": [
    "df.to_csv('food_preprocessing.csv')"
   ]
  },
  {
   "cell_type": "markdown",
   "id": "e330206a",
   "metadata": {},
   "source": [
    "수분을 기준으로 클러스터링(0 --> 국물 없음, 1 --> 국물 있음) 이에 대해 국물 없음, 국물 있음이 아닌 다른 기준으로 라벨링을 할 필요가 있음."
   ]
  },
  {
   "cell_type": "markdown",
   "id": "aa18d6a2",
   "metadata": {},
   "source": [
    "NULL값에 대한 전처리 진행하기"
   ]
  },
  {
   "cell_type": "code",
   "execution_count": 28,
   "id": "36b740d6",
   "metadata": {
    "scrolled": true
   },
   "outputs": [
    {
     "data": {
      "text/html": [
       "<div>\n",
       "<style scoped>\n",
       "    .dataframe tbody tr th:only-of-type {\n",
       "        vertical-align: middle;\n",
       "    }\n",
       "\n",
       "    .dataframe tbody tr th {\n",
       "        vertical-align: top;\n",
       "    }\n",
       "\n",
       "    .dataframe thead th {\n",
       "        text-align: right;\n",
       "    }\n",
       "</style>\n",
       "<table border=\"1\" class=\"dataframe\">\n",
       "  <thead>\n",
       "    <tr style=\"text-align: right;\">\n",
       "      <th></th>\n",
       "      <th>식품명</th>\n",
       "      <th>대표식품명</th>\n",
       "      <th>식품대분류명</th>\n",
       "      <th>식품중분류명</th>\n",
       "      <th>에너지(kcal)</th>\n",
       "      <th>수분(g)</th>\n",
       "      <th>단백질(g)</th>\n",
       "      <th>지방(g)</th>\n",
       "      <th>회분(g)</th>\n",
       "      <th>탄수화물(g)</th>\n",
       "      <th>...</th>\n",
       "      <th>레티놀(μg)</th>\n",
       "      <th>베타카로틴(μg)</th>\n",
       "      <th>티아민(mg)</th>\n",
       "      <th>리보플라빈(mg)</th>\n",
       "      <th>니아신(mg)</th>\n",
       "      <th>비타민 C(mg)</th>\n",
       "      <th>비타민 D(μg)</th>\n",
       "      <th>콜레스테롤(mg)</th>\n",
       "      <th>포화지방산(g)</th>\n",
       "      <th>트랜스지방산(g)</th>\n",
       "    </tr>\n",
       "  </thead>\n",
       "  <tbody>\n",
       "    <tr>\n",
       "      <th>56</th>\n",
       "      <td>초밥_한치</td>\n",
       "      <td>초밥</td>\n",
       "      <td>밥류</td>\n",
       "      <td>한치</td>\n",
       "      <td>150</td>\n",
       "      <td>61.6</td>\n",
       "      <td>5.48</td>\n",
       "      <td>0.34</td>\n",
       "      <td>1.43</td>\n",
       "      <td>31.17</td>\n",
       "      <td>...</td>\n",
       "      <td>0.0</td>\n",
       "      <td>3.0</td>\n",
       "      <td>0.001</td>\n",
       "      <td>0.016</td>\n",
       "      <td>0.578</td>\n",
       "      <td>2.59</td>\n",
       "      <td>NaN</td>\n",
       "      <td>40.03</td>\n",
       "      <td>0.18</td>\n",
       "      <td>0.00</td>\n",
       "    </tr>\n",
       "    <tr>\n",
       "      <th>265</th>\n",
       "      <td>국밥_돼지고기</td>\n",
       "      <td>국밥</td>\n",
       "      <td>밥류</td>\n",
       "      <td>돼지고기</td>\n",
       "      <td>76</td>\n",
       "      <td>84.7</td>\n",
       "      <td>5.53</td>\n",
       "      <td>3.22</td>\n",
       "      <td>0.36</td>\n",
       "      <td>6.23</td>\n",
       "      <td>...</td>\n",
       "      <td>0.0</td>\n",
       "      <td>34.0</td>\n",
       "      <td>0.043</td>\n",
       "      <td>0.034</td>\n",
       "      <td>0.428</td>\n",
       "      <td>0.00</td>\n",
       "      <td>NaN</td>\n",
       "      <td>11.88</td>\n",
       "      <td>0.70</td>\n",
       "      <td>0.02</td>\n",
       "    </tr>\n",
       "    <tr>\n",
       "      <th>341</th>\n",
       "      <td>국밥_굴</td>\n",
       "      <td>국밥</td>\n",
       "      <td>밥류</td>\n",
       "      <td>굴</td>\n",
       "      <td>105</td>\n",
       "      <td>76.1</td>\n",
       "      <td>6.52</td>\n",
       "      <td>2.74</td>\n",
       "      <td>1.05</td>\n",
       "      <td>13.60</td>\n",
       "      <td>...</td>\n",
       "      <td>15.0</td>\n",
       "      <td>164.0</td>\n",
       "      <td>0.049</td>\n",
       "      <td>0.094</td>\n",
       "      <td>0.412</td>\n",
       "      <td>0.00</td>\n",
       "      <td>NaN</td>\n",
       "      <td>79.75</td>\n",
       "      <td>0.60</td>\n",
       "      <td>0.02</td>\n",
       "    </tr>\n",
       "    <tr>\n",
       "      <th>343</th>\n",
       "      <td>초밥_(삼삼한밥상(Ⅶ))채소 초밥</td>\n",
       "      <td>초밥</td>\n",
       "      <td>밥류</td>\n",
       "      <td>해당없음</td>\n",
       "      <td>140</td>\n",
       "      <td>0.0</td>\n",
       "      <td>2.71</td>\n",
       "      <td>0.49</td>\n",
       "      <td>NaN</td>\n",
       "      <td>31.30</td>\n",
       "      <td>...</td>\n",
       "      <td>NaN</td>\n",
       "      <td>NaN</td>\n",
       "      <td>NaN</td>\n",
       "      <td>NaN</td>\n",
       "      <td>NaN</td>\n",
       "      <td>NaN</td>\n",
       "      <td>NaN</td>\n",
       "      <td>NaN</td>\n",
       "      <td>0.00</td>\n",
       "      <td>0.00</td>\n",
       "    </tr>\n",
       "    <tr>\n",
       "      <th>344</th>\n",
       "      <td>군만두_(눈치떡)군만두</td>\n",
       "      <td>군만두</td>\n",
       "      <td>면 및 만두류</td>\n",
       "      <td>해당없음</td>\n",
       "      <td>293</td>\n",
       "      <td>0.0</td>\n",
       "      <td>8.89</td>\n",
       "      <td>17.78</td>\n",
       "      <td>NaN</td>\n",
       "      <td>24.44</td>\n",
       "      <td>...</td>\n",
       "      <td>NaN</td>\n",
       "      <td>NaN</td>\n",
       "      <td>NaN</td>\n",
       "      <td>NaN</td>\n",
       "      <td>NaN</td>\n",
       "      <td>NaN</td>\n",
       "      <td>NaN</td>\n",
       "      <td>NaN</td>\n",
       "      <td>6.11</td>\n",
       "      <td>0.00</td>\n",
       "    </tr>\n",
       "    <tr>\n",
       "      <th>...</th>\n",
       "      <td>...</td>\n",
       "      <td>...</td>\n",
       "      <td>...</td>\n",
       "      <td>...</td>\n",
       "      <td>...</td>\n",
       "      <td>...</td>\n",
       "      <td>...</td>\n",
       "      <td>...</td>\n",
       "      <td>...</td>\n",
       "      <td>...</td>\n",
       "      <td>...</td>\n",
       "      <td>...</td>\n",
       "      <td>...</td>\n",
       "      <td>...</td>\n",
       "      <td>...</td>\n",
       "      <td>...</td>\n",
       "      <td>...</td>\n",
       "      <td>...</td>\n",
       "      <td>...</td>\n",
       "      <td>...</td>\n",
       "      <td>...</td>\n",
       "    </tr>\n",
       "    <tr>\n",
       "      <th>815</th>\n",
       "      <td>피자_불고기피자</td>\n",
       "      <td>피자</td>\n",
       "      <td>빵 및 과자류</td>\n",
       "      <td>불고기피자</td>\n",
       "      <td>253</td>\n",
       "      <td>45.3</td>\n",
       "      <td>13.70</td>\n",
       "      <td>8.35</td>\n",
       "      <td>2.05</td>\n",
       "      <td>30.60</td>\n",
       "      <td>...</td>\n",
       "      <td>42.0</td>\n",
       "      <td>68.0</td>\n",
       "      <td>0.305</td>\n",
       "      <td>0.135</td>\n",
       "      <td>0.270</td>\n",
       "      <td>1.28</td>\n",
       "      <td>NaN</td>\n",
       "      <td>22.85</td>\n",
       "      <td>4.65</td>\n",
       "      <td>0.20</td>\n",
       "    </tr>\n",
       "    <tr>\n",
       "      <th>816</th>\n",
       "      <td>피자_치즈피자</td>\n",
       "      <td>피자</td>\n",
       "      <td>빵 및 과자류</td>\n",
       "      <td>치즈피자</td>\n",
       "      <td>277</td>\n",
       "      <td>38.5</td>\n",
       "      <td>15.70</td>\n",
       "      <td>7.90</td>\n",
       "      <td>2.25</td>\n",
       "      <td>35.60</td>\n",
       "      <td>...</td>\n",
       "      <td>60.0</td>\n",
       "      <td>86.0</td>\n",
       "      <td>0.100</td>\n",
       "      <td>0.135</td>\n",
       "      <td>0.085</td>\n",
       "      <td>0.19</td>\n",
       "      <td>NaN</td>\n",
       "      <td>24.02</td>\n",
       "      <td>5.75</td>\n",
       "      <td>0.20</td>\n",
       "    </tr>\n",
       "    <tr>\n",
       "      <th>817</th>\n",
       "      <td>피자_페퍼로니피자</td>\n",
       "      <td>피자</td>\n",
       "      <td>빵 및 과자류</td>\n",
       "      <td>페퍼로니피자</td>\n",
       "      <td>266</td>\n",
       "      <td>40.6</td>\n",
       "      <td>14.70</td>\n",
       "      <td>7.40</td>\n",
       "      <td>2.20</td>\n",
       "      <td>35.15</td>\n",
       "      <td>...</td>\n",
       "      <td>56.0</td>\n",
       "      <td>106.0</td>\n",
       "      <td>0.185</td>\n",
       "      <td>0.140</td>\n",
       "      <td>0.445</td>\n",
       "      <td>1.60</td>\n",
       "      <td>NaN</td>\n",
       "      <td>20.87</td>\n",
       "      <td>5.45</td>\n",
       "      <td>0.20</td>\n",
       "    </tr>\n",
       "    <tr>\n",
       "      <th>818</th>\n",
       "      <td>피자_포테이토피자</td>\n",
       "      <td>피자</td>\n",
       "      <td>빵 및 과자류</td>\n",
       "      <td>포테이토피자</td>\n",
       "      <td>251</td>\n",
       "      <td>48.0</td>\n",
       "      <td>11.20</td>\n",
       "      <td>10.20</td>\n",
       "      <td>1.92</td>\n",
       "      <td>28.64</td>\n",
       "      <td>...</td>\n",
       "      <td>37.0</td>\n",
       "      <td>84.0</td>\n",
       "      <td>0.200</td>\n",
       "      <td>0.100</td>\n",
       "      <td>0.224</td>\n",
       "      <td>0.83</td>\n",
       "      <td>NaN</td>\n",
       "      <td>19.58</td>\n",
       "      <td>4.12</td>\n",
       "      <td>0.12</td>\n",
       "    </tr>\n",
       "    <tr>\n",
       "      <th>819</th>\n",
       "      <td>햄버거_소고기패티</td>\n",
       "      <td>햄버거</td>\n",
       "      <td>빵 및 과자류</td>\n",
       "      <td>소고기패티</td>\n",
       "      <td>271</td>\n",
       "      <td>41.3</td>\n",
       "      <td>11.94</td>\n",
       "      <td>8.94</td>\n",
       "      <td>2.06</td>\n",
       "      <td>35.76</td>\n",
       "      <td>...</td>\n",
       "      <td>0.0</td>\n",
       "      <td>326.0</td>\n",
       "      <td>0.107</td>\n",
       "      <td>0.092</td>\n",
       "      <td>1.635</td>\n",
       "      <td>0.53</td>\n",
       "      <td>0.0</td>\n",
       "      <td>14.77</td>\n",
       "      <td>4.21</td>\n",
       "      <td>0.33</td>\n",
       "    </tr>\n",
       "  </tbody>\n",
       "</table>\n",
       "<p>433 rows × 28 columns</p>\n",
       "</div>"
      ],
      "text/plain": [
       "                    식품명 대표식품명   식품대분류명  식품중분류명  에너지(kcal)  수분(g)  단백질(g)  \\\n",
       "56                초밥_한치    초밥       밥류      한치        150   61.6    5.48   \n",
       "265             국밥_돼지고기    국밥       밥류    돼지고기         76   84.7    5.53   \n",
       "341                국밥_굴    국밥       밥류       굴        105   76.1    6.52   \n",
       "343  초밥_(삼삼한밥상(Ⅶ))채소 초밥    초밥       밥류    해당없음        140    0.0    2.71   \n",
       "344        군만두_(눈치떡)군만두   군만두  면 및 만두류    해당없음        293    0.0    8.89   \n",
       "..                  ...   ...      ...     ...        ...    ...     ...   \n",
       "815            피자_불고기피자    피자  빵 및 과자류   불고기피자        253   45.3   13.70   \n",
       "816             피자_치즈피자    피자  빵 및 과자류    치즈피자        277   38.5   15.70   \n",
       "817           피자_페퍼로니피자    피자  빵 및 과자류  페퍼로니피자        266   40.6   14.70   \n",
       "818           피자_포테이토피자    피자  빵 및 과자류  포테이토피자        251   48.0   11.20   \n",
       "819           햄버거_소고기패티   햄버거  빵 및 과자류   소고기패티        271   41.3   11.94   \n",
       "\n",
       "     지방(g)  회분(g)  탄수화물(g)  ...  레티놀(μg)  베타카로틴(μg)  티아민(mg)  리보플라빈(mg)  \\\n",
       "56    0.34   1.43    31.17  ...      0.0        3.0    0.001      0.016   \n",
       "265   3.22   0.36     6.23  ...      0.0       34.0    0.043      0.034   \n",
       "341   2.74   1.05    13.60  ...     15.0      164.0    0.049      0.094   \n",
       "343   0.49    NaN    31.30  ...      NaN        NaN      NaN        NaN   \n",
       "344  17.78    NaN    24.44  ...      NaN        NaN      NaN        NaN   \n",
       "..     ...    ...      ...  ...      ...        ...      ...        ...   \n",
       "815   8.35   2.05    30.60  ...     42.0       68.0    0.305      0.135   \n",
       "816   7.90   2.25    35.60  ...     60.0       86.0    0.100      0.135   \n",
       "817   7.40   2.20    35.15  ...     56.0      106.0    0.185      0.140   \n",
       "818  10.20   1.92    28.64  ...     37.0       84.0    0.200      0.100   \n",
       "819   8.94   2.06    35.76  ...      0.0      326.0    0.107      0.092   \n",
       "\n",
       "     니아신(mg)  비타민 C(mg)  비타민 D(μg)  콜레스테롤(mg)  포화지방산(g)  트랜스지방산(g)  \n",
       "56     0.578       2.59        NaN      40.03      0.18       0.00  \n",
       "265    0.428       0.00        NaN      11.88      0.70       0.02  \n",
       "341    0.412       0.00        NaN      79.75      0.60       0.02  \n",
       "343      NaN        NaN        NaN        NaN      0.00       0.00  \n",
       "344      NaN        NaN        NaN        NaN      6.11       0.00  \n",
       "..       ...        ...        ...        ...       ...        ...  \n",
       "815    0.270       1.28        NaN      22.85      4.65       0.20  \n",
       "816    0.085       0.19        NaN      24.02      5.75       0.20  \n",
       "817    0.445       1.60        NaN      20.87      5.45       0.20  \n",
       "818    0.224       0.83        NaN      19.58      4.12       0.12  \n",
       "819    1.635       0.53        0.0      14.77      4.21       0.33  \n",
       "\n",
       "[433 rows x 28 columns]"
      ]
     },
     "execution_count": 28,
     "metadata": {},
     "output_type": "execute_result"
    }
   ],
   "source": [
    "nutrient_names = df.columns[4:]\n",
    "\n",
    "nullArray = df[nutrient_names[0]].isnull()\n",
    "for tag in nutrient_names:\n",
    "  nullArray |= df[tag].isnull()\n",
    "\n",
    "has_null_data = df[nullArray]\n",
    "has_null_data"
   ]
  },
  {
   "cell_type": "code",
   "execution_count": 29,
   "id": "2f9bfd11",
   "metadata": {},
   "outputs": [],
   "source": [
    "# column_name 별 평균값 구하기\n",
    "def getMeanDf(column_name):\n",
    "  tags = df[column_name].unique()\n",
    "  mean_dict = {'index': tags,\n",
    "               'count': []}\n",
    "\n",
    "  for name in nutrient_names:\n",
    "    mean_dict[name] = []\n",
    "\n",
    "  for tag in tags:\n",
    "    tag_data = df[df[column_name] == tag][nutrient_names]\n",
    "    mean_dict['count'].append(len(tag_data))\n",
    "    for name in nutrient_names:\n",
    "      notnull_data = tag_data[tag_data[name].notnull()][name]\n",
    "      mean_dict[name].append(np.round(np.mean(notnull_data), 2))\n",
    "\n",
    "  return pd.DataFrame(mean_dict)\n",
    "\n",
    "# tag를 빠르게 찾을 수 있는 해시 맵 반환\n",
    "def getIndexTable(column_name):\n",
    "  tags = df[column_name].unique()\n",
    "\n",
    "  table = {}\n",
    "  for index, tag in enumerate(tags):\n",
    "    table[tag] = index\n",
    "  return table"
   ]
  },
  {
   "cell_type": "code",
   "execution_count": 30,
   "id": "b2128365",
   "metadata": {},
   "outputs": [],
   "source": [
    "# 대표식품명 별 평균치 구하기\n",
    "mean_table = getMeanDf('대표식품명')\n",
    "index_table = getIndexTable('대표식품명')"
   ]
  },
  {
   "cell_type": "code",
   "execution_count": 31,
   "id": "f63893a8",
   "metadata": {},
   "outputs": [],
   "source": [
    "# 식품대분류명 별 평균치 구하기\n",
    "big_mean_table = getMeanDf('식품대분류명')\n",
    "big_index_table = getIndexTable('식품대분류명')"
   ]
  },
  {
   "cell_type": "code",
   "execution_count": 32,
   "id": "c8db2b3f",
   "metadata": {
    "scrolled": true
   },
   "outputs": [
    {
     "data": {
      "text/html": [
       "<div>\n",
       "<style scoped>\n",
       "    .dataframe tbody tr th:only-of-type {\n",
       "        vertical-align: middle;\n",
       "    }\n",
       "\n",
       "    .dataframe tbody tr th {\n",
       "        vertical-align: top;\n",
       "    }\n",
       "\n",
       "    .dataframe thead th {\n",
       "        text-align: right;\n",
       "    }\n",
       "</style>\n",
       "<table border=\"1\" class=\"dataframe\">\n",
       "  <thead>\n",
       "    <tr style=\"text-align: right;\">\n",
       "      <th></th>\n",
       "      <th>식품명</th>\n",
       "      <th>대표식품명</th>\n",
       "      <th>식품대분류명</th>\n",
       "      <th>식품중분류명</th>\n",
       "      <th>에너지(kcal)</th>\n",
       "      <th>수분(g)</th>\n",
       "      <th>단백질(g)</th>\n",
       "      <th>지방(g)</th>\n",
       "      <th>회분(g)</th>\n",
       "      <th>탄수화물(g)</th>\n",
       "      <th>...</th>\n",
       "      <th>레티놀(μg)</th>\n",
       "      <th>베타카로틴(μg)</th>\n",
       "      <th>티아민(mg)</th>\n",
       "      <th>리보플라빈(mg)</th>\n",
       "      <th>니아신(mg)</th>\n",
       "      <th>비타민 C(mg)</th>\n",
       "      <th>비타민 D(μg)</th>\n",
       "      <th>콜레스테롤(mg)</th>\n",
       "      <th>포화지방산(g)</th>\n",
       "      <th>트랜스지방산(g)</th>\n",
       "    </tr>\n",
       "  </thead>\n",
       "  <tbody>\n",
       "    <tr>\n",
       "      <th>0</th>\n",
       "      <td>국밥_돼지머리</td>\n",
       "      <td>국밥</td>\n",
       "      <td>밥류</td>\n",
       "      <td>돼지머리</td>\n",
       "      <td>137</td>\n",
       "      <td>71.6</td>\n",
       "      <td>6.70</td>\n",
       "      <td>5.16</td>\n",
       "      <td>0.63</td>\n",
       "      <td>15.94</td>\n",
       "      <td>...</td>\n",
       "      <td>0.0</td>\n",
       "      <td>61.0</td>\n",
       "      <td>0.090</td>\n",
       "      <td>0.053</td>\n",
       "      <td>0.000</td>\n",
       "      <td>0.04</td>\n",
       "      <td>0.0</td>\n",
       "      <td>23.82</td>\n",
       "      <td>1.47</td>\n",
       "      <td>0.03</td>\n",
       "    </tr>\n",
       "    <tr>\n",
       "      <th>1</th>\n",
       "      <td>국밥_순대국밥</td>\n",
       "      <td>국밥</td>\n",
       "      <td>밥류</td>\n",
       "      <td>순대국밥</td>\n",
       "      <td>75</td>\n",
       "      <td>83.7</td>\n",
       "      <td>3.17</td>\n",
       "      <td>2.28</td>\n",
       "      <td>0.48</td>\n",
       "      <td>10.38</td>\n",
       "      <td>...</td>\n",
       "      <td>0.0</td>\n",
       "      <td>55.0</td>\n",
       "      <td>0.062</td>\n",
       "      <td>0.024</td>\n",
       "      <td>0.000</td>\n",
       "      <td>0.21</td>\n",
       "      <td>0.0</td>\n",
       "      <td>48.69</td>\n",
       "      <td>1.26</td>\n",
       "      <td>0.01</td>\n",
       "    </tr>\n",
       "    <tr>\n",
       "      <th>2</th>\n",
       "      <td>국밥_콩나물</td>\n",
       "      <td>국밥</td>\n",
       "      <td>밥류</td>\n",
       "      <td>콩나물</td>\n",
       "      <td>52</td>\n",
       "      <td>86.8</td>\n",
       "      <td>1.45</td>\n",
       "      <td>0.24</td>\n",
       "      <td>0.56</td>\n",
       "      <td>10.93</td>\n",
       "      <td>...</td>\n",
       "      <td>0.0</td>\n",
       "      <td>22.0</td>\n",
       "      <td>0.140</td>\n",
       "      <td>0.022</td>\n",
       "      <td>0.173</td>\n",
       "      <td>1.26</td>\n",
       "      <td>0.0</td>\n",
       "      <td>0.00</td>\n",
       "      <td>0.12</td>\n",
       "      <td>0.00</td>\n",
       "    </tr>\n",
       "    <tr>\n",
       "      <th>3</th>\n",
       "      <td>기장밥</td>\n",
       "      <td>기장밥</td>\n",
       "      <td>밥류</td>\n",
       "      <td>해당없음</td>\n",
       "      <td>166</td>\n",
       "      <td>59.1</td>\n",
       "      <td>3.44</td>\n",
       "      <td>0.57</td>\n",
       "      <td>0.15</td>\n",
       "      <td>36.77</td>\n",
       "      <td>...</td>\n",
       "      <td>0.0</td>\n",
       "      <td>0.0</td>\n",
       "      <td>0.000</td>\n",
       "      <td>0.005</td>\n",
       "      <td>0.205</td>\n",
       "      <td>0.29</td>\n",
       "      <td>0.0</td>\n",
       "      <td>0.00</td>\n",
       "      <td>0.08</td>\n",
       "      <td>0.00</td>\n",
       "    </tr>\n",
       "    <tr>\n",
       "      <th>4</th>\n",
       "      <td>김밥</td>\n",
       "      <td>김밥</td>\n",
       "      <td>밥류</td>\n",
       "      <td>해당없음</td>\n",
       "      <td>140</td>\n",
       "      <td>69.5</td>\n",
       "      <td>4.84</td>\n",
       "      <td>4.55</td>\n",
       "      <td>1.11</td>\n",
       "      <td>19.98</td>\n",
       "      <td>...</td>\n",
       "      <td>3.0</td>\n",
       "      <td>1318.0</td>\n",
       "      <td>0.157</td>\n",
       "      <td>0.043</td>\n",
       "      <td>0.674</td>\n",
       "      <td>3.76</td>\n",
       "      <td>0.0</td>\n",
       "      <td>19.30</td>\n",
       "      <td>1.10</td>\n",
       "      <td>0.02</td>\n",
       "    </tr>\n",
       "    <tr>\n",
       "      <th>...</th>\n",
       "      <td>...</td>\n",
       "      <td>...</td>\n",
       "      <td>...</td>\n",
       "      <td>...</td>\n",
       "      <td>...</td>\n",
       "      <td>...</td>\n",
       "      <td>...</td>\n",
       "      <td>...</td>\n",
       "      <td>...</td>\n",
       "      <td>...</td>\n",
       "      <td>...</td>\n",
       "      <td>...</td>\n",
       "      <td>...</td>\n",
       "      <td>...</td>\n",
       "      <td>...</td>\n",
       "      <td>...</td>\n",
       "      <td>...</td>\n",
       "      <td>...</td>\n",
       "      <td>...</td>\n",
       "      <td>...</td>\n",
       "      <td>...</td>\n",
       "    </tr>\n",
       "    <tr>\n",
       "      <th>816</th>\n",
       "      <td>피자_치즈피자</td>\n",
       "      <td>피자</td>\n",
       "      <td>빵 및 과자류</td>\n",
       "      <td>치즈피자</td>\n",
       "      <td>277</td>\n",
       "      <td>38.5</td>\n",
       "      <td>15.70</td>\n",
       "      <td>7.90</td>\n",
       "      <td>2.25</td>\n",
       "      <td>35.60</td>\n",
       "      <td>...</td>\n",
       "      <td>60.0</td>\n",
       "      <td>86.0</td>\n",
       "      <td>0.100</td>\n",
       "      <td>0.135</td>\n",
       "      <td>0.085</td>\n",
       "      <td>0.19</td>\n",
       "      <td>0.0</td>\n",
       "      <td>24.02</td>\n",
       "      <td>5.75</td>\n",
       "      <td>0.20</td>\n",
       "    </tr>\n",
       "    <tr>\n",
       "      <th>817</th>\n",
       "      <td>피자_페퍼로니피자</td>\n",
       "      <td>피자</td>\n",
       "      <td>빵 및 과자류</td>\n",
       "      <td>페퍼로니피자</td>\n",
       "      <td>266</td>\n",
       "      <td>40.6</td>\n",
       "      <td>14.70</td>\n",
       "      <td>7.40</td>\n",
       "      <td>2.20</td>\n",
       "      <td>35.15</td>\n",
       "      <td>...</td>\n",
       "      <td>56.0</td>\n",
       "      <td>106.0</td>\n",
       "      <td>0.185</td>\n",
       "      <td>0.140</td>\n",
       "      <td>0.445</td>\n",
       "      <td>1.60</td>\n",
       "      <td>0.0</td>\n",
       "      <td>20.87</td>\n",
       "      <td>5.45</td>\n",
       "      <td>0.20</td>\n",
       "    </tr>\n",
       "    <tr>\n",
       "      <th>818</th>\n",
       "      <td>피자_포테이토피자</td>\n",
       "      <td>피자</td>\n",
       "      <td>빵 및 과자류</td>\n",
       "      <td>포테이토피자</td>\n",
       "      <td>251</td>\n",
       "      <td>48.0</td>\n",
       "      <td>11.20</td>\n",
       "      <td>10.20</td>\n",
       "      <td>1.92</td>\n",
       "      <td>28.64</td>\n",
       "      <td>...</td>\n",
       "      <td>37.0</td>\n",
       "      <td>84.0</td>\n",
       "      <td>0.200</td>\n",
       "      <td>0.100</td>\n",
       "      <td>0.224</td>\n",
       "      <td>0.83</td>\n",
       "      <td>0.0</td>\n",
       "      <td>19.58</td>\n",
       "      <td>4.12</td>\n",
       "      <td>0.12</td>\n",
       "    </tr>\n",
       "    <tr>\n",
       "      <th>819</th>\n",
       "      <td>햄버거_소고기패티</td>\n",
       "      <td>햄버거</td>\n",
       "      <td>빵 및 과자류</td>\n",
       "      <td>소고기패티</td>\n",
       "      <td>271</td>\n",
       "      <td>41.3</td>\n",
       "      <td>11.94</td>\n",
       "      <td>8.94</td>\n",
       "      <td>2.06</td>\n",
       "      <td>35.76</td>\n",
       "      <td>...</td>\n",
       "      <td>0.0</td>\n",
       "      <td>326.0</td>\n",
       "      <td>0.107</td>\n",
       "      <td>0.092</td>\n",
       "      <td>1.635</td>\n",
       "      <td>0.53</td>\n",
       "      <td>0.0</td>\n",
       "      <td>14.77</td>\n",
       "      <td>4.21</td>\n",
       "      <td>0.33</td>\n",
       "    </tr>\n",
       "    <tr>\n",
       "      <th>820</th>\n",
       "      <td>햄버거_소고기패티_토마토_양상추</td>\n",
       "      <td>햄버거</td>\n",
       "      <td>빵 및 과자류</td>\n",
       "      <td>소고기패티</td>\n",
       "      <td>229</td>\n",
       "      <td>57.8</td>\n",
       "      <td>9.55</td>\n",
       "      <td>13.23</td>\n",
       "      <td>1.41</td>\n",
       "      <td>18.01</td>\n",
       "      <td>...</td>\n",
       "      <td>1.0</td>\n",
       "      <td>49.0</td>\n",
       "      <td>0.301</td>\n",
       "      <td>0.077</td>\n",
       "      <td>1.676</td>\n",
       "      <td>0.80</td>\n",
       "      <td>0.0</td>\n",
       "      <td>15.02</td>\n",
       "      <td>4.46</td>\n",
       "      <td>0.19</td>\n",
       "    </tr>\n",
       "  </tbody>\n",
       "</table>\n",
       "<p>821 rows × 28 columns</p>\n",
       "</div>"
      ],
      "text/plain": [
       "                   식품명 대표식품명   식품대분류명  식품중분류명  에너지(kcal)  수분(g)  단백질(g)  \\\n",
       "0              국밥_돼지머리    국밥       밥류    돼지머리        137   71.6    6.70   \n",
       "1              국밥_순대국밥    국밥       밥류    순대국밥         75   83.7    3.17   \n",
       "2               국밥_콩나물    국밥       밥류     콩나물         52   86.8    1.45   \n",
       "3                  기장밥   기장밥       밥류    해당없음        166   59.1    3.44   \n",
       "4                   김밥    김밥       밥류    해당없음        140   69.5    4.84   \n",
       "..                 ...   ...      ...     ...        ...    ...     ...   \n",
       "816            피자_치즈피자    피자  빵 및 과자류    치즈피자        277   38.5   15.70   \n",
       "817          피자_페퍼로니피자    피자  빵 및 과자류  페퍼로니피자        266   40.6   14.70   \n",
       "818          피자_포테이토피자    피자  빵 및 과자류  포테이토피자        251   48.0   11.20   \n",
       "819          햄버거_소고기패티   햄버거  빵 및 과자류   소고기패티        271   41.3   11.94   \n",
       "820  햄버거_소고기패티_토마토_양상추   햄버거  빵 및 과자류   소고기패티        229   57.8    9.55   \n",
       "\n",
       "     지방(g)  회분(g)  탄수화물(g)  ...  레티놀(μg)  베타카로틴(μg)  티아민(mg)  리보플라빈(mg)  \\\n",
       "0     5.16   0.63    15.94  ...      0.0       61.0    0.090      0.053   \n",
       "1     2.28   0.48    10.38  ...      0.0       55.0    0.062      0.024   \n",
       "2     0.24   0.56    10.93  ...      0.0       22.0    0.140      0.022   \n",
       "3     0.57   0.15    36.77  ...      0.0        0.0    0.000      0.005   \n",
       "4     4.55   1.11    19.98  ...      3.0     1318.0    0.157      0.043   \n",
       "..     ...    ...      ...  ...      ...        ...      ...        ...   \n",
       "816   7.90   2.25    35.60  ...     60.0       86.0    0.100      0.135   \n",
       "817   7.40   2.20    35.15  ...     56.0      106.0    0.185      0.140   \n",
       "818  10.20   1.92    28.64  ...     37.0       84.0    0.200      0.100   \n",
       "819   8.94   2.06    35.76  ...      0.0      326.0    0.107      0.092   \n",
       "820  13.23   1.41    18.01  ...      1.0       49.0    0.301      0.077   \n",
       "\n",
       "     니아신(mg)  비타민 C(mg)  비타민 D(μg)  콜레스테롤(mg)  포화지방산(g)  트랜스지방산(g)  \n",
       "0      0.000       0.04        0.0      23.82      1.47       0.03  \n",
       "1      0.000       0.21        0.0      48.69      1.26       0.01  \n",
       "2      0.173       1.26        0.0       0.00      0.12       0.00  \n",
       "3      0.205       0.29        0.0       0.00      0.08       0.00  \n",
       "4      0.674       3.76        0.0      19.30      1.10       0.02  \n",
       "..       ...        ...        ...        ...       ...        ...  \n",
       "816    0.085       0.19        0.0      24.02      5.75       0.20  \n",
       "817    0.445       1.60        0.0      20.87      5.45       0.20  \n",
       "818    0.224       0.83        0.0      19.58      4.12       0.12  \n",
       "819    1.635       0.53        0.0      14.77      4.21       0.33  \n",
       "820    1.676       0.80        0.0      15.02      4.46       0.19  \n",
       "\n",
       "[821 rows x 28 columns]"
      ]
     },
     "execution_count": 32,
     "metadata": {},
     "output_type": "execute_result"
    }
   ],
   "source": [
    "# null 값 대표식품명 별 평균으로 바꾸기\n",
    "# 대표식품 개수가 1개 -> 대표식품명 평균 == NaN -> 식품대분류 평균;\n",
    "\n",
    "for i in has_null_data.index:\n",
    "  for tag in nutrient_names[4:]:\n",
    "    if np.isnan(df.loc[i, tag]):\n",
    "      field = has_null_data.loc[i, '대표식품명']\n",
    "      value = mean_table.loc[index_table[field], tag]\n",
    "      if np.isnan(value):\n",
    "        field = has_null_data.loc[i, '식품대분류명']\n",
    "        value = big_mean_table.loc[big_index_table[field], tag]\n",
    "\n",
    "      df.loc[i, tag] = value\n",
    "df"
   ]
  },
  {
   "cell_type": "code",
   "execution_count": 33,
   "id": "3480f13d",
   "metadata": {
    "scrolled": true
   },
   "outputs": [
    {
     "name": "stdout",
     "output_type": "stream",
     "text": [
      "<class 'pandas.core.frame.DataFrame'>\n",
      "RangeIndex: 821 entries, 0 to 820\n",
      "Data columns (total 28 columns):\n",
      " #   Column         Non-Null Count  Dtype  \n",
      "---  ------         --------------  -----  \n",
      " 0   식품명            821 non-null    object \n",
      " 1   대표식품명          821 non-null    object \n",
      " 2   식품대분류명         821 non-null    object \n",
      " 3   식품중분류명         821 non-null    object \n",
      " 4   에너지(kcal)      821 non-null    int64  \n",
      " 5   수분(g)          821 non-null    float64\n",
      " 6   단백질(g)         821 non-null    float64\n",
      " 7   지방(g)          821 non-null    float64\n",
      " 8   회분(g)          821 non-null    float64\n",
      " 9   탄수화물(g)        821 non-null    float64\n",
      " 10  당류(g)          821 non-null    float64\n",
      " 11  식이섬유(g)        821 non-null    float64\n",
      " 12  칼슘(mg)         821 non-null    float64\n",
      " 13  철(mg)          821 non-null    float64\n",
      " 14  인(mg)          821 non-null    float64\n",
      " 15  칼륨(mg)         821 non-null    float64\n",
      " 16  나트륨(mg)        821 non-null    float64\n",
      " 17  비타민 A(μg RAE)  821 non-null    float64\n",
      " 18  레티놀(μg)        821 non-null    float64\n",
      " 19  베타카로틴(μg)      821 non-null    float64\n",
      " 20  티아민(mg)        821 non-null    float64\n",
      " 21  리보플라빈(mg)      821 non-null    float64\n",
      " 22  니아신(mg)        821 non-null    float64\n",
      " 23  비타민 C(mg)      821 non-null    float64\n",
      " 24  비타민 D(μg)      821 non-null    float64\n",
      " 25  콜레스테롤(mg)      821 non-null    float64\n",
      " 26  포화지방산(g)       821 non-null    float64\n",
      " 27  트랜스지방산(g)      821 non-null    float64\n",
      "dtypes: float64(23), int64(1), object(4)\n",
      "memory usage: 179.7+ KB\n"
     ]
    }
   ],
   "source": [
    "df.info()"
   ]
  },
  {
   "cell_type": "markdown",
   "id": "762c5278",
   "metadata": {},
   "source": [
    "클러스터링 시작"
   ]
  },
  {
   "cell_type": "code",
   "execution_count": 34,
   "id": "8609ccbf",
   "metadata": {},
   "outputs": [],
   "source": [
    "df_preprocess = df"
   ]
  },
  {
   "cell_type": "code",
   "execution_count": 35,
   "id": "1c4573d6",
   "metadata": {},
   "outputs": [],
   "source": [
    "df_train = df_preprocess.drop(['식품명', '대표식품명', '식품대분류명', '식품중분류명'], axis = 1)"
   ]
  },
  {
   "cell_type": "code",
   "execution_count": 36,
   "id": "c604a9cd",
   "metadata": {},
   "outputs": [
    {
     "data": {
      "image/png": "[encoded data removed]",
      "text/plain": [
       "<Figure size 432x288 with 1 Axes>"
      ]
     },
     "metadata": {
      "needs_background": "light"
     },
     "output_type": "display_data"
    }
   ],
   "source": [
    "from sklearn.cluster import KMeans\n",
    "import matplotlib.pyplot as plt\n",
    "\n",
    "inertia = []\n",
    "\n",
    "for k in range(1, 10) : \n",
    "    km = KMeans(n_clusters = k, random_state = 42)\n",
    "    km.fit(df_train)\n",
    "    inertia.append(km.inertia_)\n",
    "    \n",
    "plt.plot(range(1, 10), inertia)\n",
    "plt.xlabel('k')\n",
    "plt.ylabel('inertia')\n",
    "plt.show()"
   ]
  },
  {
   "cell_type": "code",
   "execution_count": 37,
   "id": "660a3768",
   "metadata": {
    "scrolled": true
   },
   "outputs": [
    {
     "name": "stdout",
     "output_type": "stream",
     "text": [
      "444\n",
      "11\n",
      "262\n",
      "98\n",
      "6\n"
     ]
    }
   ],
   "source": [
    "from sklearn import decomposition\n",
    "\n",
    "pca = decomposition.PCA(n_components = 7).fit(df_train)\n",
    "reduced_X = pca.transform(df_train)\n",
    "\n",
    "from sklearn.cluster import KMeans\n",
    "from sklearn.metrics import accuracy_score\n",
    "\n",
    "km = KMeans(init = 'k-means++', n_clusters = 5, random_state = 42)\n",
    "km.fit(reduced_X)\n",
    "y_pred = km.labels_\n",
    "\n",
    "print(sum(y_pred == 0))\n",
    "print(sum(y_pred == 1))\n",
    "print(sum(y_pred == 2))\n",
    "print(sum(y_pred == 3))\n",
    "print(sum(y_pred == 4))"
   ]
  },
  {
   "cell_type": "code",
   "execution_count": 38,
   "id": "7fa4a19f",
   "metadata": {},
   "outputs": [
    {
     "data": {
      "text/plain": [
       "array([[3.94000000e+02, 3.95000000e+02, 0.00000000e+00, 2.00000000e+00],\n",
       "       [3.96000000e+02, 3.97000000e+02, 0.00000000e+00, 2.00000000e+00],\n",
       "       [3.98000000e+02, 3.99000000e+02, 0.00000000e+00, 2.00000000e+00],\n",
       "       ...,\n",
       "       [1.63500000e+03, 1.63700000e+03, 6.90615548e+03, 8.04000000e+02],\n",
       "       [1.63200000e+03, 1.63600000e+03, 7.16276955e+03, 1.70000000e+01],\n",
       "       [1.63800000e+03, 1.63900000e+03, 1.25154336e+04, 8.21000000e+02]])"
      ]
     },
     "execution_count": 38,
     "metadata": {},
     "output_type": "execute_result"
    }
   ],
   "source": [
    "from scipy.cluster.hierarchy import linkage, dendrogram\n",
    "\n",
    "z = linkage(df_train, 'ward')\n",
    "z"
   ]
  },
  {
   "cell_type": "code",
   "execution_count": 39,
   "id": "4c6baf0f",
   "metadata": {
    "scrolled": true
   },
   "outputs": [
    {
     "data": {
      "image/png": "[encoded data removed]",
      "text/plain": [
       "<Figure size 1080x432 with 1 Axes>"
      ]
     },
     "metadata": {
      "needs_background": "light"
     },
     "output_type": "display_data"
    }
   ],
   "source": [
    "from matplotlib.offsetbox import OffsetImage, AnnotationBbox\n",
    "from scipy.cluster.hierarchy import linkage, dendrogram\n",
    "\n",
    "z = linkage(df_train, 'ward')\n",
    "\n",
    "plt.figure(figsize = (15,6))\n",
    "ax = plt.subplot()\n",
    "\n",
    "ddata = dendrogram(z)"
   ]
  },
  {
   "cell_type": "code",
   "execution_count": 40,
   "id": "cc46e1ac",
   "metadata": {},
   "outputs": [],
   "source": [
    "from sklearn.preprocessing import StandardScaler\n",
    "\n",
    "ss = StandardScaler()\n",
    "df_scaled = ss.fit_transform(df_train)"
   ]
  },
  {
   "cell_type": "code",
   "execution_count": 41,
   "id": "c92d442f",
   "metadata": {
    "scrolled": true
   },
   "outputs": [
    {
     "data": {
      "text/plain": [
       "array([ 0,  0,  0,  0,  0,  0,  0,  0,  0,  0,  0,  0,  0,  0,  0,  0,  0,\n",
       "        0,  0,  0,  0,  0,  0,  0,  0,  0,  0,  0,  0,  0,  0,  0,  0,  0,\n",
       "       -1,  0,  0,  0,  0,  0,  0,  0, -1,  0,  0,  0,  0,  0,  0,  0, -1,\n",
       "        0,  0,  0,  0,  0,  0,  0,  0,  0,  0,  0,  0,  0,  0,  0,  0,  0,\n",
       "        0,  0,  0,  0,  0,  0,  0,  0,  0,  0,  0,  0,  0,  0,  0,  0,  0,\n",
       "        0,  0,  0,  0,  0,  0,  0,  0,  0,  0,  0,  0,  0,  0,  0,  0,  0,\n",
       "        0,  0,  0,  0,  0,  0,  0,  0,  0,  0,  0,  0,  0,  0,  0,  0,  0,\n",
       "        0,  0,  0,  0,  0,  0,  0,  0,  0,  0,  0,  0,  0,  0,  0,  0,  0,\n",
       "        0,  0,  0,  0,  0,  0,  0,  0,  0,  0,  0, -1,  0,  0,  0,  0,  0,\n",
       "        0, -1,  0,  0,  0,  0,  0,  0,  0,  0,  0,  0,  0,  0,  0,  0,  0,\n",
       "        0,  0,  0,  0,  0,  0,  0,  0,  0,  0,  0,  0,  0, -1,  0,  0,  0,\n",
       "        0,  0,  0,  0,  0,  0,  0,  0,  0, -1,  0,  0,  0,  0,  0,  0, -1,\n",
       "        0, -1,  0,  0,  0,  0, -1, -1,  0,  0,  0,  0,  0, -1, -1, -1,  0,\n",
       "        0,  0,  0,  0, -1,  0,  0, -1,  0,  0,  0,  0,  0,  0,  0,  0,  0,\n",
       "        0,  0,  0,  0,  0,  0,  0,  0,  0,  0,  0,  0,  0,  0,  0, -1,  0,\n",
       "        0,  0,  0,  0,  0,  0,  0,  0,  0,  0,  0,  0,  0,  0,  0,  0, -1,\n",
       "       -1, -1, -1, -1, -1,  0,  0,  0,  0,  0,  0,  0,  0,  0,  0,  0,  0,\n",
       "        0,  0,  0,  0,  0, -1, -1, -1, -1,  0,  0,  0,  0,  0,  0,  0,  0,\n",
       "        0, -1,  0,  0,  0,  0, -1, -1,  0,  0,  0,  0, -1,  0,  0,  0,  0,\n",
       "        0,  0,  0,  0,  0,  0,  0,  0,  0,  0, -1, -1,  0,  0,  0, -1,  0,\n",
       "        0,  0,  0,  0,  0,  0,  0,  0,  0,  0,  0,  0,  0,  0,  0,  0,  0,\n",
       "        0,  0,  0,  0,  0,  0,  0,  0,  0,  0,  0,  0,  0,  0,  0,  0,  0,\n",
       "        0,  0,  0,  0,  0,  0,  0,  0,  0,  0,  0,  0,  0,  0,  0,  0,  0,\n",
       "        0,  0,  0,  0,  0,  0,  0,  0,  0,  0,  0,  0,  0,  0,  0,  0,  0,\n",
       "        0,  0,  0,  0,  0,  0,  0,  0,  0,  0,  0,  0,  0,  0,  0,  0,  0,\n",
       "        0,  0,  0,  0,  0,  0,  0,  0,  0,  0,  0,  0,  0,  0,  0,  0,  0,\n",
       "        0,  0,  0,  0,  0,  0,  0,  0,  0,  0,  0,  0,  0,  0,  0,  0,  0,\n",
       "        0,  0,  0,  0,  0,  0,  0,  0,  0,  0,  0,  0,  0,  0,  0,  0,  0,\n",
       "        0,  0,  0,  0,  0,  0,  0,  0,  0,  0,  0,  0,  0,  0,  0,  0,  0,\n",
       "        0,  0,  0,  0,  0,  0,  0,  0,  0,  0,  0,  0,  0,  0,  0,  0,  0,\n",
       "        0,  0,  0,  0,  0,  0,  0,  0,  0,  0,  0,  0,  0,  0,  0,  0,  0,\n",
       "        0,  0,  0,  0,  0,  0,  0,  0,  0,  0,  0,  0,  0,  0,  0,  0,  0,\n",
       "        0,  0,  0,  0,  0,  0,  0,  0,  0,  0,  0,  0,  0,  0,  0,  0,  0,\n",
       "        0,  0,  0, -1,  0,  0,  0,  0,  0,  0,  0,  0,  0,  0,  0,  0,  0,\n",
       "        0,  0,  0,  0,  0,  0,  0,  0,  0,  0,  0,  0,  0,  0,  0,  0,  0,\n",
       "        0,  0,  0,  0,  0,  0,  0,  0,  0,  0,  0,  0,  0,  0,  0,  0,  0,\n",
       "        0,  0,  0,  0,  0,  0, -1,  0,  0,  0, -1, -1, -1,  0,  0,  0,  0,\n",
       "        0,  0,  0,  0, -1, -1,  0,  0,  0,  0,  0,  0,  0,  0,  0,  0,  0,\n",
       "        0,  0,  0,  0,  0, -1,  0,  0,  0,  0,  0,  0,  0,  0,  0,  0,  0,\n",
       "        0,  0,  0,  0, -1,  0,  0,  0,  0,  0,  0,  0,  0,  0,  0,  0,  0,\n",
       "        0,  0,  0,  0, -1,  0,  0,  0,  0,  0,  0,  0,  0,  0,  0,  0,  0,\n",
       "        0,  0,  0,  0,  0,  0,  0,  0,  0,  0,  0,  0,  0,  0,  0,  0,  0,\n",
       "        0,  0,  0,  0,  0,  0,  0,  0,  0,  0,  0,  0,  0,  0,  0,  0,  0,\n",
       "        0, -1,  0,  0,  0,  0,  0,  0,  0,  0,  0,  0,  0,  0,  0,  0,  0,\n",
       "        0,  0,  0,  0,  0,  0,  0,  0,  0,  0,  0,  0,  0,  0,  0,  0,  0,\n",
       "        0,  0,  0,  0,  0,  0,  0,  0,  0,  0,  0,  0,  0,  0,  0,  0,  0,\n",
       "        0,  0,  0,  0,  0,  0,  0,  0,  0,  0,  0,  0,  0,  0,  0,  0,  0,\n",
       "        0,  0,  0,  0,  0,  0,  0,  0,  0,  0,  0,  0,  0,  0,  0,  0,  0,\n",
       "        0,  0,  0,  0,  0], dtype=int64)"
      ]
     },
     "execution_count": 41,
     "metadata": {},
     "output_type": "execute_result"
    }
   ],
   "source": [
    "from sklearn.cluster import DBSCAN\n",
    "\n",
    "dbscan = DBSCAN(eps = 5, min_samples = 6)\n",
    "clusters = dbscan.fit_predict(df_scaled)\n",
    "\n",
    "clusters"
   ]
  },
  {
   "cell_type": "markdown",
   "id": "6bff9bc2",
   "metadata": {},
   "source": [
    "모든 컬럼을 기준으로 clustering을 진행하기에는 무리가 있다고 판단. 주요 컬럼들을 가지고 클러스터링을 진행하자."
   ]
  },
  {
   "cell_type": "code",
   "execution_count": 42,
   "id": "ccda3b4b",
   "metadata": {},
   "outputs": [
    {
     "data": {
      "text/plain": [
       "Index(['에너지(kcal)', '수분(g)', '단백질(g)', '지방(g)', '회분(g)', '탄수화물(g)', '당류(g)',\n",
       "       '식이섬유(g)', '칼슘(mg)', '철(mg)', '인(mg)', '칼륨(mg)', '나트륨(mg)',\n",
       "       '비타민 A(μg RAE)', '레티놀(μg)', '베타카로틴(μg)', '티아민(mg)', '리보플라빈(mg)',\n",
       "       '니아신(mg)', '비타민 C(mg)', '비타민 D(μg)', '콜레스테롤(mg)', '포화지방산(g)',\n",
       "       '트랜스지방산(g)'],\n",
       "      dtype='object')"
      ]
     },
     "execution_count": 42,
     "metadata": {},
     "output_type": "execute_result"
    }
   ],
   "source": [
    "#에너지, 수분, 단백질, 지방, 탄수화물, 당류, 나트륨\n",
    "df_train.columns"
   ]
  },
  {
   "cell_type": "code",
   "execution_count": 43,
   "id": "7c97a410",
   "metadata": {},
   "outputs": [],
   "source": [
    "df_select = df_train[['수분(g)', '단백질(g)', '지방(g)', '탄수화물(g)', '나트륨(mg)', '당류(g)']]"
   ]
  },
  {
   "cell_type": "code",
   "execution_count": 44,
   "id": "e292c4f9",
   "metadata": {
    "scrolled": true
   },
   "outputs": [
    {
     "data": {
      "image/png": "[encoded data removed]",
      "text/plain": [
       "<Figure size 432x288 with 1 Axes>"
      ]
     },
     "metadata": {
      "needs_background": "light"
     },
     "output_type": "display_data"
    }
   ],
   "source": [
    "from sklearn.cluster import KMeans\n",
    "import matplotlib.pyplot as plt\n",
    "\n",
    "inertia = []\n",
    "\n",
    "for k in range(1, 10) : \n",
    "    km = KMeans(n_clusters = k, random_state = 42)\n",
    "    km.fit(df_select)\n",
    "    inertia.append(km.inertia_)\n",
    "    \n",
    "plt.plot(range(1, 10), inertia)\n",
    "plt.xlabel('k')\n",
    "plt.ylabel('inertia')\n",
    "plt.show()"
   ]
  },
  {
   "cell_type": "code",
   "execution_count": 45,
   "id": "fbf9eede",
   "metadata": {},
   "outputs": [
    {
     "name": "stdout",
     "output_type": "stream",
     "text": [
      "143\n",
      "6\n",
      "86\n",
      "1\n",
      "18\n",
      "292\n",
      "46\n",
      "2\n",
      "227\n"
     ]
    }
   ],
   "source": [
    "from sklearn import decomposition\n",
    "\n",
    "pca = decomposition.PCA(n_components = 6).fit(df_select)\n",
    "reduced_X = pca.transform(df_select)\n",
    "\n",
    "from sklearn.cluster import KMeans\n",
    "from sklearn.metrics import accuracy_score\n",
    "\n",
    "km = KMeans(init = 'k-means++', n_clusters = 9, random_state = 42)\n",
    "km.fit(reduced_X)\n",
    "y_pred = km.labels_\n",
    "\n",
    "print(sum(y_pred == 0))\n",
    "print(sum(y_pred == 1))\n",
    "print(sum(y_pred == 2))\n",
    "print(sum(y_pred == 3))\n",
    "print(sum(y_pred == 4))\n",
    "print(sum(y_pred == 5))\n",
    "print(sum(y_pred == 6))\n",
    "print(sum(y_pred == 7))\n",
    "print(sum(y_pred == 8))"
   ]
  },
  {
   "cell_type": "code",
   "execution_count": 46,
   "id": "fe3b6d32",
   "metadata": {},
   "outputs": [
    {
     "data": {
      "image/png": "[encoded data removed]",
      "text/plain": [
       "<Figure size 1080x432 with 1 Axes>"
      ]
     },
     "metadata": {
      "needs_background": "light"
     },
     "output_type": "display_data"
    }
   ],
   "source": [
    "from matplotlib.offsetbox import OffsetImage, AnnotationBbox\n",
    "from scipy.cluster.hierarchy import linkage, dendrogram\n",
    "\n",
    "z = linkage(df_select, 'ward')\n",
    "\n",
    "plt.figure(figsize = (15,6))\n",
    "ax = plt.subplot()\n",
    "\n",
    "ddata = dendrogram(z)"
   ]
  },
  {
   "cell_type": "code",
   "execution_count": 47,
   "id": "ffc53a5b",
   "metadata": {},
   "outputs": [],
   "source": [
    "from sklearn.preprocessing import StandardScaler\n",
    "\n",
    "ss = StandardScaler()\n",
    "df_scaled = ss.fit_transform(df_train)"
   ]
  },
  {
   "cell_type": "code",
   "execution_count": 48,
   "id": "5fe07aba",
   "metadata": {
    "scrolled": true
   },
   "outputs": [
    {
     "data": {
      "text/plain": [
       "array([ 0,  0,  0,  1, -1, -1, -1, -1, -1, -1, -1, -1, -1, -1, -1, -1, -1,\n",
       "       -1,  1, -1, -1, -1, -1, -1, -1, -1, -1, -1, -1, -1, -1,  1, -1,  1,\n",
       "       -1, -1, -1, -1, -1,  0,  1,  1, -1, -1,  0, -1, -1, -1,  0,  1, -1,\n",
       "       -1, -1, -1,  0, -1, -1, -1, -1, -1,  0,  0,  0,  0,  0, -1, -1, -1,\n",
       "       -1, -1,  0,  0, -1, -1, -1, -1, -1,  0,  0,  0, -1, -1, -1,  0,  0,\n",
       "       -1, -1, -1,  0,  0,  0,  0, -1,  0,  0, -1, -1,  0,  0,  0, -1, -1,\n",
       "        0, -1,  0,  0,  0,  0,  0, -1,  0,  0,  0,  0,  0,  0,  0,  0,  0,\n",
       "        0,  0, -1,  0,  0,  0,  0, -1, -1,  0,  0, -1, -1,  0,  0, -1,  0,\n",
       "       -1,  0,  0,  0,  0,  0, -1,  0, -1, -1, -1, -1,  0,  0,  0, -1, -1,\n",
       "        0, -1,  0,  0, -1, -1,  0,  0,  0,  0,  0, -1, -1, -1, -1, -1, -1,\n",
       "        0, -1, -1, -1,  0,  0, -1, -1,  0, -1, -1, -1, -1, -1, -1, -1, -1,\n",
       "       -1, -1, -1, -1, -1, -1, -1, -1, -1, -1, -1, -1, -1, -1, -1, -1, -1,\n",
       "       -1, -1, -1, -1, -1, -1, -1, -1, -1, -1, -1, -1, -1, -1, -1, -1, -1,\n",
       "       -1, -1, -1, -1, -1, -1, -1, -1, -1, -1, -1, -1, -1, -1, -1, -1, -1,\n",
       "       -1, -1,  1, -1, -1, -1, -1, -1, -1, -1, -1, -1, -1, -1, -1, -1, -1,\n",
       "       -1, -1, -1, -1, -1, -1, -1, -1, -1, -1,  0, -1, -1, -1, -1, -1, -1,\n",
       "       -1, -1, -1, -1, -1, -1, -1, -1, -1, -1, -1, -1, -1, -1, -1, -1,  0,\n",
       "       -1, -1, -1, -1, -1, -1, -1, -1, -1, -1, -1, -1, -1, -1, -1, -1, -1,\n",
       "       -1, -1, -1, -1, -1, -1, -1, -1, -1, -1, -1, -1, -1, -1, -1, -1, -1,\n",
       "       -1, -1, -1, -1, -1, -1, -1, -1, -1, -1, -1, -1, -1, -1, -1, -1, -1,\n",
       "        0,  0, -1, -1, -1, -1, -1, -1,  2, -1, -1, -1,  2,  2, -1,  2,  2,\n",
       "       -1, -1, -1, -1,  3,  3,  3,  3,  3,  3,  3, -1,  3, -1, -1, -1, -1,\n",
       "       -1, -1, -1, -1, -1, -1, -1, -1, -1, -1, -1, -1, -1, -1, -1, -1, -1,\n",
       "       -1, -1, -1,  4,  4, -1, -1,  4,  4,  4,  4,  4, -1, -1, -1, -1, -1,\n",
       "       -1, -1, -1, -1, -1, -1, -1, -1, -1, -1, -1, -1, -1, -1, -1, -1, -1,\n",
       "       -1, -1, -1, -1, -1, -1,  0, -1,  0, -1, -1, -1, -1,  0, -1, -1,  0,\n",
       "       -1,  0, -1, -1,  0,  0, -1, -1, -1, -1, -1, -1, -1, -1, -1, -1, -1,\n",
       "       -1, -1, -1,  1, -1,  0, -1, -1, -1, -1, -1, -1, -1, -1, -1, -1, -1,\n",
       "       -1, -1,  0,  0,  0,  0, -1, -1,  0,  0,  0, -1, -1,  0,  0,  0, -1,\n",
       "       -1, -1,  0,  0, -1, -1, -1, -1, -1, -1, -1, -1, -1, -1,  0,  0,  0,\n",
       "        0,  0,  0,  0,  0,  0,  0,  0,  0, -1,  0,  0,  0,  0,  0,  0,  0,\n",
       "       -1,  0,  0, -1,  0,  0,  0,  0,  0,  0,  0,  0,  0,  0,  0,  0,  0,\n",
       "        0,  0, -1,  0,  0, -1,  0,  0,  0,  0, -1, -1,  0, -1,  0,  0,  0,\n",
       "        0,  0,  0, -1,  0, -1,  0, -1,  0,  0, -1,  0,  0,  0, -1,  0,  0,\n",
       "        0,  0, -1,  0,  0, -1,  0, -1, -1, -1, -1, -1,  0,  0,  0, -1,  0,\n",
       "        0,  0, -1, -1,  0,  0, -1, -1, -1, -1, -1, -1, -1, -1, -1, -1, -1,\n",
       "       -1, -1, -1, -1, -1, -1, -1, -1, -1, -1, -1, -1, -1, -1, -1, -1, -1,\n",
       "       -1, -1, -1, -1, -1, -1, -1, -1, -1, -1, -1, -1, -1, -1, -1, -1, -1,\n",
       "       -1, -1, -1, -1, -1, -1, -1, -1, -1, -1, -1, -1, -1, -1, -1, -1, -1,\n",
       "       -1, -1, -1, -1, -1, -1, -1, -1, -1, -1, -1, -1, -1, -1, -1, -1, -1,\n",
       "       -1, -1, -1, -1, -1, -1, -1, -1, -1, -1, -1, -1, -1, -1, -1, -1, -1,\n",
       "       -1, -1, -1, -1, -1, -1, -1, -1, -1, -1, -1, -1, -1,  0,  0,  0, -1,\n",
       "       -1, -1, -1, -1, -1, -1, -1, -1, -1, -1, -1, -1, -1, -1, -1, -1, -1,\n",
       "       -1, -1, -1,  5,  6,  6,  6,  6,  6,  6,  6,  6,  6,  5,  6,  6,  6,\n",
       "        5,  5,  5,  6,  6,  6,  6,  6,  6,  6,  6,  6,  6,  6,  6,  6,  6,\n",
       "        6,  6,  6,  6,  6,  6,  6,  6,  6,  6,  6,  6,  6,  6,  6,  6,  6,\n",
       "        6,  6,  6,  6,  6,  6,  6,  6,  6,  6,  6,  6,  6,  6,  6,  6,  6,\n",
       "        6,  6,  6,  6,  6,  6,  6,  6,  6,  6, -1, -1, -1, -1, -1, -1, -1,\n",
       "       -1, -1, -1, -1, -1], dtype=int64)"
      ]
     },
     "execution_count": 48,
     "metadata": {},
     "output_type": "execute_result"
    }
   ],
   "source": [
    "from sklearn.cluster import DBSCAN\n",
    "\n",
    "dbscan = DBSCAN(eps = 1)\n",
    "clusters = dbscan.fit_predict(df_scaled)\n",
    "\n",
    "clusters"
   ]
  },
  {
   "cell_type": "code",
   "execution_count": 49,
   "id": "9031dc99",
   "metadata": {
    "scrolled": false
   },
   "outputs": [
    {
     "name": "stdout",
     "output_type": "stream",
     "text": [
      "255\n",
      "61\n",
      "183\n",
      "3\n",
      "13\n",
      "134\n",
      "4\n",
      "73\n",
      "95\n"
     ]
    }
   ],
   "source": [
    "from sklearn import decomposition\n",
    "from sklearn.cluster import KMeans\n",
    "from sklearn.metrics import accuracy_score\n",
    "\n",
    "pca = decomposition.PCA(n_components = 6).fit(df_scaled)\n",
    "reduced_X = pca.transform(df_scaled)\n",
    "\n",
    "km = KMeans(init = 'k-means++', n_clusters = 9, random_state =  42)\n",
    "km.fit(reduced_X)\n",
    "y_pred = km.labels_\n",
    "\n",
    "print(sum(y_pred == 0))\n",
    "print(sum(y_pred == 1))\n",
    "print(sum(y_pred == 2))\n",
    "print(sum(y_pred == 3))\n",
    "print(sum(y_pred == 4))\n",
    "print(sum(y_pred == 5))\n",
    "print(sum(y_pred == 6))\n",
    "print(sum(y_pred == 7))\n",
    "print(sum(y_pred == 8))"
   ]
  },
  {
   "cell_type": "code",
   "execution_count": 50,
   "id": "8e7508fe",
   "metadata": {},
   "outputs": [],
   "source": [
    "df['label_kmeans'] = y_pred"
   ]
  },
  {
   "cell_type": "code",
   "execution_count": 51,
   "id": "215b94fe",
   "metadata": {
    "scrolled": true
   },
   "outputs": [
    {
     "data": {
      "text/plain": [
       "['김치찌개_꽁치',\n",
       " '김치찌개_돼지고기',\n",
       " '동태찌개',\n",
       " '오리백숙',\n",
       " '오리탕',\n",
       " '달걀찜_우유',\n",
       " '닭찜',\n",
       " '사태찜_쇠고기',\n",
       " '수육_쇠고기',\n",
       " '코다리찜',\n",
       " '가자미구이',\n",
       " '갈치구이_기름',\n",
       " '닭구이',\n",
       " '닭발구이',\n",
       " '삼치구이',\n",
       " '새우구이',\n",
       " '스테이크_소안심',\n",
       " '조기구이',\n",
       " '함박스테이크',\n",
       " '가지전',\n",
       " '달걀말이',\n",
       " '달걀부침(달걀후라이)',\n",
       " '두부부침',\n",
       " '버섯전_표고버섯',\n",
       " '산적_돼지고기',\n",
       " '스크램블드에그',\n",
       " '완자전_돼지고기',\n",
       " '완자전_쇠고기',\n",
       " '완자전_참치',\n",
       " '완자전_해물',\n",
       " '닭발볶음',\n",
       " '닭볶음',\n",
       " '돼지고기볶음_김치',\n",
       " '돼지고기볶음_채소',\n",
       " '쇠고기볶음_버섯',\n",
       " '고등어조림',\n",
       " '닭볶음탕',\n",
       " '닭조림',\n",
       " '병어조림',\n",
       " '삼치조림',\n",
       " '오징어조림',\n",
       " '장조림_달걀',\n",
       " '장조림_메추리알',\n",
       " '장조림_쇠고기_메추리알',\n",
       " '달걀찜_(삼삼한밥상(Ⅶ))토마토 채소 계란찜',\n",
       " '두부찜_(삼삼한밥상(Ⅶ))닭가슴살 두부선',\n",
       " '보쌈/수육_(삼삼한밥상(Ⅶ))돈수육 & 해물냉채',\n",
       " '두부구이_(삼삼한밥상(Ⅶ))두부구이 & 버섯소스',\n",
       " '달걀말이_(삼삼한밥상(Ⅶ))일본식 계란말이',\n",
       " '닭튀김_(고피자)치킨텐더',\n",
       " '닭튀김_(삼삼한밥상(Ⅶ))유린기',\n",
       " '스파게티_해물_크림소스',\n",
       " '매운탕_광어',\n",
       " '매운탕_조기',\n",
       " '선짓국',\n",
       " '매운탕_우럭',\n",
       " '오리백숙_한방',\n",
       " '갈비찜_고춧가루',\n",
       " '꼬막찜_참꼬막',\n",
       " '달걀_수란_중탕',\n",
       " '도미찜',\n",
       " '병어찜',\n",
       " '북어찜',\n",
       " '숙회_문어',\n",
       " '오징어순대',\n",
       " '조기찜',\n",
       " '도미구이',\n",
       " '불고기_삼겹살_오징어',\n",
       " '황태구이',\n",
       " '굴전',\n",
       " '깻잎전',\n",
       " '꼬치구치_낙지',\n",
       " '두부전',\n",
       " '버섯전',\n",
       " '생선전_가자미',\n",
       " '생성전_동태',\n",
       " '소라산적',\n",
       " '스크램블에그',\n",
       " '오징어산적',\n",
       " '완자전_쇠고기(동그랑땡/육원전)',\n",
       " '채소전',\n",
       " '홍합산적',\n",
       " '화양적',\n",
       " '난자완스',\n",
       " '가자미조림',\n",
       " '동태조림',\n",
       " '북어조림',\n",
       " '장조림_돼지고기_메추리알',\n",
       " '장조림_쇠고기_메추리알',\n",
       " '조기조림',\n",
       " '깐풍기',\n",
       " '닭튀김_닭가슴살',\n",
       " '라조기',\n",
       " '샌드위치_모듬',\n",
       " '샌드위치_햄_달걀']"
      ]
     },
     "execution_count": 51,
     "metadata": {},
     "output_type": "execute_result"
    }
   ],
   "source": [
    "list(df[df['label_kmeans'] == 8]['식품명'])"
   ]
  },
  {
   "cell_type": "code",
   "execution_count": 52,
   "id": "5bf540d2",
   "metadata": {},
   "outputs": [],
   "source": [
    "from sklearn.cluster import AgglomerativeClustering\n",
    "\n",
    "pca = decomposition.PCA(n_components = 6).fit(df_scaled)\n",
    "reduced_X = pca.transform(df_scaled)\n",
    "\n",
    "ac = AgglomerativeClustering(n_clusters = 9, affinity = 'euclidean', linkage = 'ward')\n",
    "ac.fit(reduced_X)\n",
    "\n",
    "labels = ac.labels_"
   ]
  },
  {
   "cell_type": "code",
   "execution_count": 53,
   "id": "f2756bc7",
   "metadata": {},
   "outputs": [
    {
     "data": {
      "text/plain": [
       "3"
      ]
     },
     "execution_count": 53,
     "metadata": {},
     "output_type": "execute_result"
    }
   ],
   "source": [
    "sum(labels == 0)\n",
    "sum(labels == 1)\n",
    "sum(labels == 2)\n",
    "sum(labels == 3)\n",
    "sum(labels == 4)\n",
    "sum(labels == 5)\n",
    "sum(labels == 6)\n",
    "sum(labels == 7)\n",
    "sum(labels == 8)"
   ]
  },
  {
   "cell_type": "code",
   "execution_count": 54,
   "id": "820ddc39",
   "metadata": {},
   "outputs": [],
   "source": [
    "df['label_hierachy'] = labels"
   ]
  },
  {
   "cell_type": "code",
   "execution_count": 55,
   "id": "fe0eed98",
   "metadata": {},
   "outputs": [
    {
     "data": {
      "text/plain": [
       "['김치찌개_돼지고기', '동태찌개', '선짓국']"
      ]
     },
     "execution_count": 55,
     "metadata": {},
     "output_type": "execute_result"
    }
   ],
   "source": [
    "list(df[df['label_hierachy'] == 8]['식품명'])"
   ]
  },
  {
   "cell_type": "markdown",
   "id": "c5201cef",
   "metadata": {},
   "source": [
    "### KMeans로 분류한 클러스터 중 한쪽에 과도하게 집결된 클러스터에 대해 재클러스터링 진행\n",
    "\n",
    "진행 후 클러스터 라벨에 각각 숫자를 더해 다른 클러스터임을 보이기"
   ]
  },
  {
   "cell_type": "code",
   "execution_count": 56,
   "id": "a752bfdb",
   "metadata": {},
   "outputs": [],
   "source": [
    "renew_df_kmeans = pd.DataFrame()"
   ]
  },
  {
   "cell_type": "code",
   "execution_count": 57,
   "id": "5ca90a26",
   "metadata": {},
   "outputs": [],
   "source": [
    "renew_df_kmeans = pd.concat([renew_df_kmeans,df[df['label_kmeans'] == 1]])"
   ]
  },
  {
   "cell_type": "code",
   "execution_count": 58,
   "id": "dbce2432",
   "metadata": {},
   "outputs": [],
   "source": [
    "renew_df_kmeans = pd.concat([renew_df_kmeans,df[df['label_kmeans'] == 4]])"
   ]
  },
  {
   "cell_type": "code",
   "execution_count": 59,
   "id": "624c4839",
   "metadata": {},
   "outputs": [],
   "source": [
    "renew_df_kmeans = pd.concat([renew_df_kmeans,df[df['label_kmeans'] == 3]])"
   ]
  },
  {
   "cell_type": "code",
   "execution_count": 60,
   "id": "98ee5e12",
   "metadata": {},
   "outputs": [],
   "source": [
    "renew_df_kmeans = pd.concat([renew_df_kmeans,df[df['label_kmeans'] == 6]])"
   ]
  },
  {
   "cell_type": "code",
   "execution_count": 61,
   "id": "5dea6359",
   "metadata": {},
   "outputs": [],
   "source": [
    "renew_df_kmeans.loc[renew_df_kmeans['label_kmeans'] == 1, 'label_kmeans'] = 0\n",
    "renew_df_kmeans.loc[renew_df_kmeans['label_kmeans'] == 4, 'label_kmeans'] = 1\n",
    "renew_df_kmeans.loc[renew_df_kmeans['label_kmeans'] == 6, 'label_kmeans'] = 2"
   ]
  },
  {
   "cell_type": "code",
   "execution_count": 62,
   "id": "0e12d64d",
   "metadata": {},
   "outputs": [
    {
     "data": {
      "text/plain": [
       "0    255\n",
       "2    183\n",
       "5    134\n",
       "8     95\n",
       "7     73\n",
       "1     61\n",
       "4     13\n",
       "6      4\n",
       "3      3\n",
       "Name: label_kmeans, dtype: int64"
      ]
     },
     "execution_count": 62,
     "metadata": {},
     "output_type": "execute_result"
    }
   ],
   "source": [
    "df['label_kmeans'].value_counts()"
   ]
  },
  {
   "cell_type": "code",
   "execution_count": 63,
   "id": "de226024",
   "metadata": {},
   "outputs": [],
   "source": [
    "#0,2,5,8 <- 클러스터링 5개, 7 <- 클러스터링 3개만\n",
    "\n",
    "df_cluster = df[df['label_kmeans'] == 7]"
   ]
  },
  {
   "cell_type": "markdown",
   "id": "b058d240",
   "metadata": {},
   "source": [
    "#### 7번 클러스터부터 시작"
   ]
  },
  {
   "cell_type": "code",
   "execution_count": 64,
   "id": "a8f9a9b0",
   "metadata": {},
   "outputs": [
    {
     "data": {
      "text/html": [
       "<div>\n",
       "<style scoped>\n",
       "    .dataframe tbody tr th:only-of-type {\n",
       "        vertical-align: middle;\n",
       "    }\n",
       "\n",
       "    .dataframe tbody tr th {\n",
       "        vertical-align: top;\n",
       "    }\n",
       "\n",
       "    .dataframe thead th {\n",
       "        text-align: right;\n",
       "    }\n",
       "</style>\n",
       "<table border=\"1\" class=\"dataframe\">\n",
       "  <thead>\n",
       "    <tr style=\"text-align: right;\">\n",
       "      <th></th>\n",
       "      <th>수분(g)</th>\n",
       "      <th>단백질(g)</th>\n",
       "      <th>지방(g)</th>\n",
       "      <th>탄수화물(g)</th>\n",
       "      <th>나트륨(mg)</th>\n",
       "      <th>당류(g)</th>\n",
       "    </tr>\n",
       "  </thead>\n",
       "  <tbody>\n",
       "    <tr>\n",
       "      <th>4</th>\n",
       "      <td>69.5</td>\n",
       "      <td>4.84</td>\n",
       "      <td>4.55</td>\n",
       "      <td>19.98</td>\n",
       "      <td>307.0</td>\n",
       "      <td>0.00</td>\n",
       "    </tr>\n",
       "    <tr>\n",
       "      <th>10</th>\n",
       "      <td>63.8</td>\n",
       "      <td>4.60</td>\n",
       "      <td>3.65</td>\n",
       "      <td>26.65</td>\n",
       "      <td>309.0</td>\n",
       "      <td>0.14</td>\n",
       "    </tr>\n",
       "    <tr>\n",
       "      <th>12</th>\n",
       "      <td>61.9</td>\n",
       "      <td>4.88</td>\n",
       "      <td>4.41</td>\n",
       "      <td>27.52</td>\n",
       "      <td>327.0</td>\n",
       "      <td>0.09</td>\n",
       "    </tr>\n",
       "    <tr>\n",
       "      <th>20</th>\n",
       "      <td>56.6</td>\n",
       "      <td>6.62</td>\n",
       "      <td>11.28</td>\n",
       "      <td>24.23</td>\n",
       "      <td>318.0</td>\n",
       "      <td>0.17</td>\n",
       "    </tr>\n",
       "    <tr>\n",
       "      <th>27</th>\n",
       "      <td>68.9</td>\n",
       "      <td>6.86</td>\n",
       "      <td>4.32</td>\n",
       "      <td>18.84</td>\n",
       "      <td>232.0</td>\n",
       "      <td>0.05</td>\n",
       "    </tr>\n",
       "  </tbody>\n",
       "</table>\n",
       "</div>"
      ],
      "text/plain": [
       "    수분(g)  단백질(g)  지방(g)  탄수화물(g)  나트륨(mg)  당류(g)\n",
       "4    69.5    4.84   4.55    19.98    307.0   0.00\n",
       "10   63.8    4.60   3.65    26.65    309.0   0.14\n",
       "12   61.9    4.88   4.41    27.52    327.0   0.09\n",
       "20   56.6    6.62  11.28    24.23    318.0   0.17\n",
       "27   68.9    6.86   4.32    18.84    232.0   0.05"
      ]
     },
     "execution_count": 64,
     "metadata": {},
     "output_type": "execute_result"
    }
   ],
   "source": [
    "df_cluster7 = df_cluster[['수분(g)', '단백질(g)', '지방(g)', '탄수화물(g)', '나트륨(mg)', '당류(g)']]\n",
    "df_cluster7.head()"
   ]
  },
  {
   "cell_type": "code",
   "execution_count": 65,
   "id": "f5193e09",
   "metadata": {},
   "outputs": [],
   "source": [
    "from sklearn.preprocessing import StandardScaler\n",
    "\n",
    "ss = StandardScaler()\n",
    "ss.fit(df_cluster7)\n",
    "df_cluster7_scaled = ss.transform(df_cluster7)"
   ]
  },
  {
   "cell_type": "code",
   "execution_count": 66,
   "id": "14fa6998",
   "metadata": {
    "scrolled": true
   },
   "outputs": [],
   "source": [
    "from sklearn import decomposition\n",
    "from sklearn.cluster import KMeans\n",
    "from sklearn.metrics import accuracy_score\n",
    "\n",
    "pca = decomposition.PCA(n_components = 6).fit(df_cluster7_scaled)\n",
    "reduced_X = pca.transform(df_cluster7_scaled)\n",
    "\n",
    "km = KMeans(init = 'k-means++', n_clusters = 3, random_state = 42)\n",
    "km.fit(reduced_X)\n",
    "y_pred = km.labels_"
   ]
  },
  {
   "cell_type": "code",
   "execution_count": 67,
   "id": "ea2ef801",
   "metadata": {
    "scrolled": false
   },
   "outputs": [
    {
     "name": "stdout",
     "output_type": "stream",
     "text": [
      "18\n",
      "25\n",
      "30\n"
     ]
    }
   ],
   "source": [
    "print(sum(y_pred == 0))\n",
    "print(sum(y_pred == 1))\n",
    "print(sum(y_pred == 2))"
   ]
  },
  {
   "cell_type": "code",
   "execution_count": 68,
   "id": "7f82cbc6",
   "metadata": {},
   "outputs": [
    {
     "name": "stderr",
     "output_type": "stream",
     "text": [
      "C:\\Users\\bbiga\\anaconda3\\envs\\leblanc\\lib\\site-packages\\ipykernel_launcher.py:1: SettingWithCopyWarning: \n",
      "A value is trying to be set on a copy of a slice from a DataFrame.\n",
      "Try using .loc[row_indexer,col_indexer] = value instead\n",
      "\n",
      "See the caveats in the documentation: https://pandas.pydata.org/pandas-docs/stable/user_guide/indexing.html#returning-a-view-versus-a-copy\n",
      "  \"\"\"Entry point for launching an IPython kernel.\n"
     ]
    }
   ],
   "source": [
    "df_cluster['label_kmeans'] = y_pred + 100"
   ]
  },
  {
   "cell_type": "code",
   "execution_count": 69,
   "id": "083ca045",
   "metadata": {},
   "outputs": [],
   "source": [
    "renew_df_kmeans = pd.concat([renew_df_kmeans, df_cluster])"
   ]
  },
  {
   "cell_type": "markdown",
   "id": "668f9526",
   "metadata": {},
   "source": [
    "다음으로 0,2,5,8에 대한 재클러스터링 진행"
   ]
  },
  {
   "cell_type": "code",
   "execution_count": 70,
   "id": "dd11b604",
   "metadata": {},
   "outputs": [],
   "source": [
    "#0번 클러스터는 255개의 항목을 가지고 있었음\n",
    "df_cluster = df[df['label_kmeans'] == 0]"
   ]
  },
  {
   "cell_type": "code",
   "execution_count": 71,
   "id": "fc3ba231",
   "metadata": {},
   "outputs": [],
   "source": [
    "df_cluster0 = df_cluster[['수분(g)', '단백질(g)', '지방(g)', '탄수화물(g)', '나트륨(mg)', '당류(g)']]"
   ]
  },
  {
   "cell_type": "code",
   "execution_count": 72,
   "id": "2e8fe7ef",
   "metadata": {},
   "outputs": [],
   "source": [
    "from sklearn.preprocessing import StandardScaler\n",
    "\n",
    "ss = StandardScaler()\n",
    "ss.fit(df_cluster0)\n",
    "df_cluster0_scaled = ss.transform(df_cluster0)"
   ]
  },
  {
   "cell_type": "code",
   "execution_count": 73,
   "id": "7d3467aa",
   "metadata": {},
   "outputs": [],
   "source": [
    "from sklearn import decomposition\n",
    "from sklearn.cluster import KMeans\n",
    "from sklearn.metrics import accuracy_score\n",
    "\n",
    "pca = decomposition.PCA(n_components = 6).fit(df_cluster0_scaled)\n",
    "reduced_X = pca.transform(df_cluster0_scaled)\n",
    "\n",
    "km = KMeans(init = 'k-means++', n_clusters = 9, random_state = 42)\n",
    "km.fit(reduced_X)\n",
    "y_pred = km.labels_"
   ]
  },
  {
   "cell_type": "code",
   "execution_count": 74,
   "id": "88a286af",
   "metadata": {},
   "outputs": [
    {
     "name": "stdout",
     "output_type": "stream",
     "text": [
      "24\n",
      "47\n",
      "46\n",
      "10\n",
      "11\n",
      "55\n",
      "19\n",
      "24\n",
      "19\n"
     ]
    }
   ],
   "source": [
    "print(sum(y_pred == 0))\n",
    "print(sum(y_pred == 1))\n",
    "print(sum(y_pred == 2))\n",
    "print(sum(y_pred == 3))\n",
    "print(sum(y_pred == 4))\n",
    "print(sum(y_pred == 5))\n",
    "print(sum(y_pred == 6))\n",
    "print(sum(y_pred == 7))\n",
    "print(sum(y_pred == 8))"
   ]
  },
  {
   "cell_type": "code",
   "execution_count": 75,
   "id": "e4837cb7",
   "metadata": {},
   "outputs": [
    {
     "name": "stderr",
     "output_type": "stream",
     "text": [
      "C:\\Users\\bbiga\\anaconda3\\envs\\leblanc\\lib\\site-packages\\ipykernel_launcher.py:1: SettingWithCopyWarning: \n",
      "A value is trying to be set on a copy of a slice from a DataFrame.\n",
      "Try using .loc[row_indexer,col_indexer] = value instead\n",
      "\n",
      "See the caveats in the documentation: https://pandas.pydata.org/pandas-docs/stable/user_guide/indexing.html#returning-a-view-versus-a-copy\n",
      "  \"\"\"Entry point for launching an IPython kernel.\n"
     ]
    },
    {
     "data": {
      "text/plain": [
       "array([  0,   1,   3,   2, 100, 102, 101, 201, 206, 205, 204, 207, 208,\n",
       "       200, 202, 203])"
      ]
     },
     "execution_count": 75,
     "metadata": {},
     "output_type": "execute_result"
    }
   ],
   "source": [
    "df_cluster['label_kmeans'] = y_pred + 200\n",
    "renew_df_kmeans = pd.concat([renew_df_kmeans, df_cluster])\n",
    "renew_df_kmeans['label_kmeans'].unique()"
   ]
  },
  {
   "cell_type": "code",
   "execution_count": 76,
   "id": "aec0320a",
   "metadata": {},
   "outputs": [],
   "source": [
    "#2번 클러스터는 원래 183개의 항목을 가지고 있었음\n",
    "\n",
    "df_cluster = df[df['label_kmeans'] == 2]\n",
    "df_cluster2 = df_cluster[['수분(g)', '단백질(g)', '지방(g)', '탄수화물(g)', '나트륨(mg)', '당류(g)']]"
   ]
  },
  {
   "cell_type": "code",
   "execution_count": 77,
   "id": "86d92432",
   "metadata": {},
   "outputs": [],
   "source": [
    "from sklearn.preprocessing import StandardScaler\n",
    "\n",
    "ss.fit(df_cluster2)\n",
    "df_cluster2_scaled = ss.transform(df_cluster2)"
   ]
  },
  {
   "cell_type": "code",
   "execution_count": 78,
   "id": "6a2223b9",
   "metadata": {},
   "outputs": [],
   "source": [
    "from sklearn import decomposition\n",
    "from sklearn.cluster import KMeans\n",
    "from sklearn.metrics import accuracy_score\n",
    "\n",
    "pca = decomposition.PCA(n_components = 6).fit(df_cluster2_scaled)\n",
    "reduced_X = pca.transform(df_cluster2_scaled)\n",
    "\n",
    "km = KMeans(init = 'k-means++', n_clusters = 7, random_state = 42)\n",
    "km.fit(reduced_X)\n",
    "y_pred = km.labels_"
   ]
  },
  {
   "cell_type": "code",
   "execution_count": 79,
   "id": "724e5720",
   "metadata": {},
   "outputs": [
    {
     "name": "stdout",
     "output_type": "stream",
     "text": [
      "4\n",
      "35\n",
      "33\n",
      "24\n",
      "19\n",
      "10\n",
      "58\n"
     ]
    }
   ],
   "source": [
    "print(sum(y_pred == 0))\n",
    "print(sum(y_pred == 1))\n",
    "print(sum(y_pred == 2))\n",
    "print(sum(y_pred == 3))\n",
    "print(sum(y_pred == 4))\n",
    "print(sum(y_pred == 5))\n",
    "print(sum(y_pred == 6))"
   ]
  },
  {
   "cell_type": "code",
   "execution_count": 80,
   "id": "91f2985b",
   "metadata": {},
   "outputs": [
    {
     "name": "stderr",
     "output_type": "stream",
     "text": [
      "C:\\Users\\bbiga\\anaconda3\\envs\\leblanc\\lib\\site-packages\\ipykernel_launcher.py:1: SettingWithCopyWarning: \n",
      "A value is trying to be set on a copy of a slice from a DataFrame.\n",
      "Try using .loc[row_indexer,col_indexer] = value instead\n",
      "\n",
      "See the caveats in the documentation: https://pandas.pydata.org/pandas-docs/stable/user_guide/indexing.html#returning-a-view-versus-a-copy\n",
      "  \"\"\"Entry point for launching an IPython kernel.\n"
     ]
    },
    {
     "data": {
      "text/plain": [
       "array([  0,   1,   3,   2, 100, 102, 101, 201, 206, 205, 204, 207, 208,\n",
       "       200, 202, 203, 301, 304, 306, 300, 303, 305, 302])"
      ]
     },
     "execution_count": 80,
     "metadata": {},
     "output_type": "execute_result"
    }
   ],
   "source": [
    "df_cluster['label_kmeans'] = y_pred + 300\n",
    "renew_df_kmeans = pd.concat([renew_df_kmeans, df_cluster])\n",
    "renew_df_kmeans['label_kmeans'].unique()"
   ]
  },
  {
   "cell_type": "code",
   "execution_count": 81,
   "id": "c67cfd3d",
   "metadata": {},
   "outputs": [],
   "source": [
    "#5번 클러스터는 원래 134개의 항목을 가지고 있었음\n",
    "\n",
    "df_cluster = df[df['label_kmeans'] == 5]\n",
    "df_cluster5 = df_cluster[['수분(g)', '단백질(g)', '지방(g)', '탄수화물(g)', '나트륨(mg)', '당류(g)']]"
   ]
  },
  {
   "cell_type": "code",
   "execution_count": 82,
   "id": "39292919",
   "metadata": {},
   "outputs": [],
   "source": [
    "from sklearn.preprocessing import StandardScaler\n",
    "\n",
    "ss.fit(df_cluster5)\n",
    "df_cluster5_scaled = ss.transform(df_cluster5)"
   ]
  },
  {
   "cell_type": "code",
   "execution_count": 83,
   "id": "a01ac55c",
   "metadata": {},
   "outputs": [],
   "source": [
    "from sklearn import decomposition\n",
    "from sklearn.cluster import KMeans\n",
    "from sklearn.metrics import accuracy_score\n",
    "\n",
    "pca = decomposition.PCA(n_components = 6).fit(df_cluster5_scaled)\n",
    "reduced_X = pca.transform(df_cluster5_scaled)\n",
    "\n",
    "km = KMeans(init = 'k-means++', n_clusters = 5, random_state = 42)\n",
    "km.fit(df_cluster5_scaled)\n",
    "y_pred = km.labels_"
   ]
  },
  {
   "cell_type": "code",
   "execution_count": 84,
   "id": "b35629f6",
   "metadata": {},
   "outputs": [
    {
     "name": "stdout",
     "output_type": "stream",
     "text": [
      "18\n",
      "95\n",
      "12\n",
      "3\n",
      "6\n"
     ]
    }
   ],
   "source": [
    "#5-1번 클러스터 다시 확인해보기\n",
    "print(sum(y_pred == 0))\n",
    "print(sum(y_pred == 1))\n",
    "print(sum(y_pred == 2))\n",
    "print(sum(y_pred == 3))\n",
    "print(sum(y_pred == 4))"
   ]
  },
  {
   "cell_type": "code",
   "execution_count": 85,
   "id": "852035a5",
   "metadata": {},
   "outputs": [
    {
     "name": "stderr",
     "output_type": "stream",
     "text": [
      "C:\\Users\\bbiga\\anaconda3\\envs\\leblanc\\lib\\site-packages\\ipykernel_launcher.py:1: SettingWithCopyWarning: \n",
      "A value is trying to be set on a copy of a slice from a DataFrame.\n",
      "Try using .loc[row_indexer,col_indexer] = value instead\n",
      "\n",
      "See the caveats in the documentation: https://pandas.pydata.org/pandas-docs/stable/user_guide/indexing.html#returning-a-view-versus-a-copy\n",
      "  \"\"\"Entry point for launching an IPython kernel.\n"
     ]
    },
    {
     "data": {
      "text/plain": [
       "array([  0,   1,   3,   2, 100, 102, 101, 201, 206, 205, 204, 207, 208,\n",
       "       200, 202, 203, 301, 304, 306, 300, 303, 305, 302, 400, 402, 403,\n",
       "       401, 404])"
      ]
     },
     "execution_count": 85,
     "metadata": {},
     "output_type": "execute_result"
    }
   ],
   "source": [
    "df_cluster['label_kmeans'] = y_pred + 400\n",
    "renew_df_kmeans = pd.concat([renew_df_kmeans, df_cluster])\n",
    "renew_df_kmeans['label_kmeans'].unique()"
   ]
  },
  {
   "cell_type": "code",
   "execution_count": 86,
   "id": "fad67b43",
   "metadata": {},
   "outputs": [],
   "source": [
    "#8번 클러스터는 원래 95개의 항목을 가지고 있었음\n",
    "\n",
    "df_cluster = df[df['label_kmeans'] == 8]\n",
    "df_cluster8 = df_cluster[['수분(g)', '단백질(g)', '지방(g)', '탄수화물(g)', '나트륨(mg)', '당류(g)']]\n",
    "\n",
    "from sklearn.preprocessing import StandardScaler\n",
    "\n",
    "ss.fit(df_cluster8)\n",
    "df_cluster8_scaled = ss.transform(df_cluster8)"
   ]
  },
  {
   "cell_type": "code",
   "execution_count": 87,
   "id": "7090902c",
   "metadata": {},
   "outputs": [],
   "source": [
    "from sklearn import decomposition\n",
    "from sklearn.cluster import KMeans\n",
    "from sklearn.metrics import accuracy_score\n",
    "\n",
    "pca = decomposition.PCA(n_components = 6).fit(df_cluster8_scaled)\n",
    "reduced_X = pca.transform(df_cluster8_scaled)\n",
    "\n",
    "km = KMeans(init = 'k-means++', n_clusters = 5, random_state = 42)\n",
    "km.fit(df_cluster8_scaled)\n",
    "y_pred = km.labels_"
   ]
  },
  {
   "cell_type": "code",
   "execution_count": 88,
   "id": "cb53e486",
   "metadata": {
    "scrolled": true
   },
   "outputs": [
    {
     "name": "stdout",
     "output_type": "stream",
     "text": [
      "24\n",
      "27\n",
      "21\n",
      "16\n",
      "7\n"
     ]
    }
   ],
   "source": [
    "print(sum(y_pred == 0))\n",
    "print(sum(y_pred == 1))\n",
    "print(sum(y_pred == 2))\n",
    "print(sum(y_pred == 3))\n",
    "print(sum(y_pred == 4))"
   ]
  },
  {
   "cell_type": "code",
   "execution_count": 89,
   "id": "78e226f4",
   "metadata": {
    "scrolled": false
   },
   "outputs": [
    {
     "name": "stderr",
     "output_type": "stream",
     "text": [
      "C:\\Users\\bbiga\\anaconda3\\envs\\leblanc\\lib\\site-packages\\ipykernel_launcher.py:1: SettingWithCopyWarning: \n",
      "A value is trying to be set on a copy of a slice from a DataFrame.\n",
      "Try using .loc[row_indexer,col_indexer] = value instead\n",
      "\n",
      "See the caveats in the documentation: https://pandas.pydata.org/pandas-docs/stable/user_guide/indexing.html#returning-a-view-versus-a-copy\n",
      "  \"\"\"Entry point for launching an IPython kernel.\n"
     ]
    },
    {
     "data": {
      "text/plain": [
       "array([  0,   1,   3,   2, 100, 102, 101, 201, 206, 205, 204, 207, 208,\n",
       "       200, 202, 203, 301, 304, 306, 300, 303, 305, 302, 400, 402, 403,\n",
       "       401, 404, 501, 502, 500, 503, 504])"
      ]
     },
     "execution_count": 89,
     "metadata": {},
     "output_type": "execute_result"
    }
   ],
   "source": [
    "df_cluster['label_kmeans'] = y_pred + 500\n",
    "renew_df_kmeans = pd.concat([renew_df_kmeans, df_cluster])\n",
    "renew_df_kmeans['label_kmeans'].unique()"
   ]
  },
  {
   "cell_type": "code",
   "execution_count": 90,
   "id": "b3fe81b1",
   "metadata": {},
   "outputs": [],
   "source": [
    "reset_cluster_number = {'label_kmeans' : {100 : 4, 101 : 5, 102 : 6, 200 : 7, 201 : 8, 202 : 9, 203 : 10, 204 : 11, 205 : 12, 206 : 13,\n",
    "                                          207 : 14, 208 : 15, 300 : 16, 301 : 17, 302 : 18, 303 : 19, 304 : 20, 305 : 21, 306 : 22,\n",
    "                                          400 : 23, 401 : 24, 402 : 25, 403 : 26, 404 : 27, 500 : 28, 501 : 29, 502 : 30, 503 : 31,\n",
    "                                          504 : 32}}"
   ]
  },
  {
   "cell_type": "code",
   "execution_count": 91,
   "id": "15408215",
   "metadata": {},
   "outputs": [],
   "source": [
    "renew_df_kmeans = renew_df_kmeans.replace(reset_cluster_number)"
   ]
  },
  {
   "cell_type": "code",
   "execution_count": 92,
   "id": "e2167c10",
   "metadata": {},
   "outputs": [],
   "source": [
    "renew_df_kmeans.reset_index(inplace = True)\n",
    "renew_df_kmeans.drop(['index'], axis = 1, inplace = True)"
   ]
  },
  {
   "cell_type": "code",
   "execution_count": 93,
   "id": "3f2fe077",
   "metadata": {},
   "outputs": [
    {
     "data": {
      "text/plain": [
       "Index(['식품명', '대표식품명', '식품대분류명', '식품중분류명', '에너지(kcal)', '수분(g)', '단백질(g)',\n",
       "       '지방(g)', '회분(g)', '탄수화물(g)', '당류(g)', '식이섬유(g)', '칼슘(mg)', '철(mg)',\n",
       "       '인(mg)', '칼륨(mg)', '나트륨(mg)', '비타민 A(μg RAE)', '레티놀(μg)', '베타카로틴(μg)',\n",
       "       '티아민(mg)', '리보플라빈(mg)', '니아신(mg)', '비타민 C(mg)', '비타민 D(μg)',\n",
       "       '콜레스테롤(mg)', '포화지방산(g)', '트랜스지방산(g)', 'label_kmeans', 'label_hierachy'],\n",
       "      dtype='object')"
      ]
     },
     "execution_count": 93,
     "metadata": {},
     "output_type": "execute_result"
    }
   ],
   "source": [
    "renew_df_kmeans.columns"
   ]
  },
  {
   "cell_type": "code",
   "execution_count": 94,
   "id": "26dae4d4",
   "metadata": {},
   "outputs": [],
   "source": [
    "renew_df_kmeans[['식품명', '대표식품명', '식품대분류명', '식품중분류명', 'label_kmeans']].to_csv('renew_labeling_of_kmeans.csv')"
   ]
  },
  {
   "cell_type": "markdown",
   "id": "083929db",
   "metadata": {},
   "source": [
    "### 지금까지는 kmeans에 대한 재클러스터링이었다. hierarchy clustering에 대해서도 재클러스터링을 진행"
   ]
  },
  {
   "cell_type": "code",
   "execution_count": 95,
   "id": "d54c3481",
   "metadata": {},
   "outputs": [],
   "source": [
    "renew_df_hierarchy = pd.DataFrame()"
   ]
  },
  {
   "cell_type": "code",
   "execution_count": 96,
   "id": "f6782a1a",
   "metadata": {},
   "outputs": [],
   "source": [
    "renew_df_hierarchy = pd.concat([renew_df_hierarchy,df[df['label_hierachy'] == 1]])\n",
    "renew_df_hierarchy = pd.concat([renew_df_hierarchy,df[df['label_hierachy'] == 3]])\n",
    "renew_df_hierarchy = pd.concat([renew_df_hierarchy,df[df['label_hierachy'] == 7]])\n",
    "renew_df_hierarchy = pd.concat([renew_df_hierarchy,df[df['label_hierachy'] == 8]])\n",
    "renew_df_hierarchy = pd.concat([renew_df_hierarchy,df[df['label_hierachy'] == 5]])"
   ]
  },
  {
   "cell_type": "code",
   "execution_count": 97,
   "id": "3e32f69b",
   "metadata": {},
   "outputs": [],
   "source": [
    "renew_df_hierarchy.loc[renew_df_hierarchy['label_hierachy'] == 1, 'label_hierachy'] = 0\n",
    "renew_df_hierarchy.loc[renew_df_hierarchy['label_hierachy'] == 3, 'label_hierachy'] = 1\n",
    "renew_df_hierarchy.loc[renew_df_hierarchy['label_hierachy'] == 7, 'label_hierachy'] = 2\n",
    "renew_df_hierarchy.loc[renew_df_hierarchy['label_hierachy'] == 8, 'label_hierachy'] = 3\n",
    "renew_df_hierarchy.loc[renew_df_hierarchy['label_hierachy'] == 5, 'label_hierachy'] = 4"
   ]
  },
  {
   "cell_type": "code",
   "execution_count": 98,
   "id": "a2df7acc",
   "metadata": {
    "scrolled": true
   },
   "outputs": [
    {
     "data": {
      "text/plain": [
       "2    249\n",
       "6    228\n",
       "0    170\n",
       "4    144\n",
       "1     13\n",
       "3      7\n",
       "7      4\n",
       "8      3\n",
       "5      3\n",
       "Name: label_hierachy, dtype: int64"
      ]
     },
     "execution_count": 98,
     "metadata": {},
     "output_type": "execute_result"
    }
   ],
   "source": [
    "df['label_hierachy'].value_counts()"
   ]
  },
  {
   "cell_type": "markdown",
   "id": "9e1971cd",
   "metadata": {},
   "source": [
    "hierachy clustering의 재클러스터링의 대상이 되는 라벨은 2,6,0,4이다. 이에 대해 각각 재클러스터링을 진행"
   ]
  },
  {
   "cell_type": "code",
   "execution_count": 99,
   "id": "a8cbd2fd",
   "metadata": {},
   "outputs": [],
   "source": [
    "#2는 249개의 항목을 가지고 있었음\n",
    "\n",
    "df_cluster = df[df['label_hierachy'] == 2]\n",
    "df_cluster2 = df_cluster[['수분(g)', '단백질(g)', '지방(g)', '탄수화물(g)', '나트륨(mg)', '당류(g)']]"
   ]
  },
  {
   "cell_type": "code",
   "execution_count": 100,
   "id": "93988269",
   "metadata": {},
   "outputs": [],
   "source": [
    "from sklearn.preprocessing import StandardScaler\n",
    "\n",
    "ss.fit(df_cluster2)\n",
    "df_cluster2_scaled = ss.transform(df_cluster2)"
   ]
  },
  {
   "cell_type": "code",
   "execution_count": 101,
   "id": "5975325a",
   "metadata": {
    "scrolled": true
   },
   "outputs": [
    {
     "data": {
      "image/png": "[encoded data removed]",
      "text/plain": [
       "<Figure size 1080x432 with 1 Axes>"
      ]
     },
     "metadata": {
      "needs_background": "light"
     },
     "output_type": "display_data"
    }
   ],
   "source": [
    "from matplotlib.offsetbox import OffsetImage, AnnotationBbox\n",
    "from scipy.cluster.hierarchy import linkage, dendrogram\n",
    "\n",
    "z = linkage(df_cluster2_scaled, 'ward')\n",
    "\n",
    "plt.figure(figsize = (15,6))\n",
    "ax = plt.subplot()\n",
    "\n",
    "ddata = dendrogram(z)"
   ]
  },
  {
   "cell_type": "code",
   "execution_count": 102,
   "id": "f8d0418c",
   "metadata": {},
   "outputs": [],
   "source": [
    "from sklearn.cluster import AgglomerativeClustering\n",
    "\n",
    "pca = decomposition.PCA(n_components = 6).fit(df_cluster2_scaled)\n",
    "reduced_X = pca.transform(df_cluster2_scaled)\n",
    "\n",
    "ac = AgglomerativeClustering(n_clusters = 7, affinity = 'euclidean', linkage = 'ward')\n",
    "ac.fit(reduced_X)\n",
    "\n",
    "labels = ac.labels_"
   ]
  },
  {
   "cell_type": "code",
   "execution_count": 103,
   "id": "d0353960",
   "metadata": {
    "scrolled": true
   },
   "outputs": [
    {
     "data": {
      "text/html": [
       "<div>\n",
       "<style scoped>\n",
       "    .dataframe tbody tr th:only-of-type {\n",
       "        vertical-align: middle;\n",
       "    }\n",
       "\n",
       "    .dataframe tbody tr th {\n",
       "        vertical-align: top;\n",
       "    }\n",
       "\n",
       "    .dataframe thead th {\n",
       "        text-align: right;\n",
       "    }\n",
       "</style>\n",
       "<table border=\"1\" class=\"dataframe\">\n",
       "  <thead>\n",
       "    <tr style=\"text-align: right;\">\n",
       "      <th></th>\n",
       "      <th>수분(g)</th>\n",
       "      <th>단백질(g)</th>\n",
       "      <th>지방(g)</th>\n",
       "      <th>탄수화물(g)</th>\n",
       "      <th>나트륨(mg)</th>\n",
       "      <th>당류(g)</th>\n",
       "    </tr>\n",
       "  </thead>\n",
       "  <tbody>\n",
       "    <tr>\n",
       "      <th>0</th>\n",
       "      <td>0.422951</td>\n",
       "      <td>0.323573</td>\n",
       "      <td>0.322312</td>\n",
       "      <td>-0.298012</td>\n",
       "      <td>-0.889169</td>\n",
       "      <td>-0.861492</td>\n",
       "    </tr>\n",
       "    <tr>\n",
       "      <th>3</th>\n",
       "      <td>-0.088346</td>\n",
       "      <td>-0.704277</td>\n",
       "      <td>-1.125583</td>\n",
       "      <td>1.791377</td>\n",
       "      <td>-2.013454</td>\n",
       "      <td>-0.940582</td>\n",
       "    </tr>\n",
       "    <tr>\n",
       "      <th>4</th>\n",
       "      <td>0.337054</td>\n",
       "      <td>-0.262869</td>\n",
       "      <td>0.129890</td>\n",
       "      <td>0.107227</td>\n",
       "      <td>-0.102169</td>\n",
       "      <td>-0.940582</td>\n",
       "    </tr>\n",
       "    <tr>\n",
       "      <th>5</th>\n",
       "      <td>0.406590</td>\n",
       "      <td>-0.433127</td>\n",
       "      <td>-0.034142</td>\n",
       "      <td>0.025979</td>\n",
       "      <td>0.160164</td>\n",
       "      <td>-0.797231</td>\n",
       "    </tr>\n",
       "    <tr>\n",
       "      <th>6</th>\n",
       "      <td>-0.059713</td>\n",
       "      <td>0.134398</td>\n",
       "      <td>0.038411</td>\n",
       "      <td>0.977890</td>\n",
       "      <td>-0.152137</td>\n",
       "      <td>-0.233716</td>\n",
       "    </tr>\n",
       "  </tbody>\n",
       "</table>\n",
       "</div>"
      ],
      "text/plain": [
       "      수분(g)    단백질(g)     지방(g)   탄수화물(g)   나트륨(mg)     당류(g)\n",
       "0  0.422951  0.323573  0.322312 -0.298012 -0.889169 -0.861492\n",
       "3 -0.088346 -0.704277 -1.125583  1.791377 -2.013454 -0.940582\n",
       "4  0.337054 -0.262869  0.129890  0.107227 -0.102169 -0.940582\n",
       "5  0.406590 -0.433127 -0.034142  0.025979  0.160164 -0.797231\n",
       "6 -0.059713  0.134398  0.038411  0.977890 -0.152137 -0.233716"
      ]
     },
     "execution_count": 103,
     "metadata": {},
     "output_type": "execute_result"
    }
   ],
   "source": [
    "std_df = pd.DataFrame(df_cluster2_scaled, index=df_cluster2.index, columns=df_cluster2.columns)\n",
    "data = std_df\n",
    "data.head()"
   ]
  },
  {
   "cell_type": "code",
   "execution_count": 104,
   "id": "c49dd21a",
   "metadata": {
    "scrolled": true
   },
   "outputs": [
    {
     "data": {
      "text/html": [
       "<div>\n",
       "<style scoped>\n",
       "    .dataframe tbody tr th:only-of-type {\n",
       "        vertical-align: middle;\n",
       "    }\n",
       "\n",
       "    .dataframe tbody tr th {\n",
       "        vertical-align: top;\n",
       "    }\n",
       "\n",
       "    .dataframe thead th {\n",
       "        text-align: right;\n",
       "    }\n",
       "</style>\n",
       "<table border=\"1\" class=\"dataframe\">\n",
       "  <thead>\n",
       "    <tr style=\"text-align: right;\">\n",
       "      <th></th>\n",
       "      <th>설명가능한 분산 비율(고윳값)</th>\n",
       "      <th>기여율</th>\n",
       "      <th>누적기여율</th>\n",
       "    </tr>\n",
       "  </thead>\n",
       "  <tbody>\n",
       "    <tr>\n",
       "      <th>pca1</th>\n",
       "      <td>1.704165</td>\n",
       "      <td>0.282887</td>\n",
       "      <td>0.282887</td>\n",
       "    </tr>\n",
       "    <tr>\n",
       "      <th>pca2</th>\n",
       "      <td>1.236210</td>\n",
       "      <td>0.205208</td>\n",
       "      <td>0.488094</td>\n",
       "    </tr>\n",
       "    <tr>\n",
       "      <th>pca3</th>\n",
       "      <td>1.086897</td>\n",
       "      <td>0.180422</td>\n",
       "      <td>0.668516</td>\n",
       "    </tr>\n",
       "    <tr>\n",
       "      <th>pca4</th>\n",
       "      <td>0.793498</td>\n",
       "      <td>0.131718</td>\n",
       "      <td>0.800235</td>\n",
       "    </tr>\n",
       "    <tr>\n",
       "      <th>pca5</th>\n",
       "      <td>0.634812</td>\n",
       "      <td>0.105377</td>\n",
       "      <td>0.905612</td>\n",
       "    </tr>\n",
       "    <tr>\n",
       "      <th>pca6</th>\n",
       "      <td>0.568612</td>\n",
       "      <td>0.094388</td>\n",
       "      <td>1.000000</td>\n",
       "    </tr>\n",
       "  </tbody>\n",
       "</table>\n",
       "</div>"
      ],
      "text/plain": [
       "      설명가능한 분산 비율(고윳값)       기여율     누적기여율\n",
       "pca1          1.704165  0.282887  0.282887\n",
       "pca2          1.236210  0.205208  0.488094\n",
       "pca3          1.086897  0.180422  0.668516\n",
       "pca4          0.793498  0.131718  0.800235\n",
       "pca5          0.634812  0.105377  0.905612\n",
       "pca6          0.568612  0.094388  1.000000"
      ]
     },
     "execution_count": 104,
     "metadata": {},
     "output_type": "execute_result"
    }
   ],
   "source": [
    "result = pd.DataFrame({'설명가능한 분산 비율(고윳값)':pca.explained_variance_,\n",
    "             '기여율':pca.explained_variance_ratio_},\n",
    "            index=np.array([f\"pca{num+1}\" for num in range(data.shape[1])]))\n",
    "result['누적기여율'] = result['기여율'].cumsum()\n",
    "result"
   ]
  },
  {
   "cell_type": "markdown",
   "id": "e34f8c65",
   "metadata": {},
   "source": [
    "2번 클러스터에 대한 PCA n_conponets의 적절한 값은 4이다. 이를 이용하여 pca를 다시 한 번 진행"
   ]
  },
  {
   "cell_type": "code",
   "execution_count": 105,
   "id": "86195322",
   "metadata": {},
   "outputs": [],
   "source": [
    "from sklearn.cluster import AgglomerativeClustering\n",
    "\n",
    "pca = decomposition.PCA(n_components = 4).fit(df_cluster2_scaled)\n",
    "reduced_X = pca.transform(df_cluster2_scaled)\n",
    "\n",
    "ac = AgglomerativeClustering(n_clusters = 7, affinity = 'euclidean', linkage = 'ward')\n",
    "ac.fit(reduced_X)\n",
    "\n",
    "labels = ac.labels_"
   ]
  },
  {
   "cell_type": "code",
   "execution_count": 106,
   "id": "6516adb1",
   "metadata": {
    "scrolled": false
   },
   "outputs": [
    {
     "name": "stdout",
     "output_type": "stream",
     "text": [
      "122\n",
      "36\n",
      "10\n",
      "26\n",
      "21\n",
      "33\n",
      "1\n"
     ]
    }
   ],
   "source": [
    "print(sum(labels == 0))\n",
    "print(sum(labels == 1))\n",
    "print(sum(labels == 2))\n",
    "print(sum(labels == 3))\n",
    "print(sum(labels == 4))\n",
    "print(sum(labels == 5))\n",
    "print(sum(labels == 6))"
   ]
  },
  {
   "cell_type": "code",
   "execution_count": 107,
   "id": "f2caa01a",
   "metadata": {},
   "outputs": [
    {
     "name": "stderr",
     "output_type": "stream",
     "text": [
      "C:\\Users\\bbiga\\anaconda3\\envs\\leblanc\\lib\\site-packages\\ipykernel_launcher.py:1: SettingWithCopyWarning: \n",
      "A value is trying to be set on a copy of a slice from a DataFrame.\n",
      "Try using .loc[row_indexer,col_indexer] = value instead\n",
      "\n",
      "See the caveats in the documentation: https://pandas.pydata.org/pandas-docs/stable/user_guide/indexing.html#returning-a-view-versus-a-copy\n",
      "  \"\"\"Entry point for launching an IPython kernel.\n"
     ]
    }
   ],
   "source": [
    "df_cluster['label_hierarchy'] = labels"
   ]
  },
  {
   "cell_type": "code",
   "execution_count": 108,
   "id": "0c331859",
   "metadata": {
    "scrolled": true
   },
   "outputs": [
    {
     "data": {
      "text/plain": [
       "['비빔밥_육회',\n",
       " '국수_막국수',\n",
       " '국수_쟁반막국수',\n",
       " '초밥_한치',\n",
       " '깻잎찜',\n",
       " '풋고추찜',\n",
       " '버섯구이_새송이',\n",
       " '부추전',\n",
       " '김치볶음',\n",
       " '낙지볶음',\n",
       " '마늘쫑볶음',\n",
       " '마늘쫑볶음_멸치',\n",
       " '버섯볶음_느타리',\n",
       " '잡채_콩나물',\n",
       " '감자조림',\n",
       " '무조림',\n",
       " '양미리조림',\n",
       " '탕수육_새우',\n",
       " '감자조림_(삼삼한밥상(Ⅶ))곤약 감자조림',\n",
       " '초밥_농어',\n",
       " '초밥_문어',\n",
       " '초밥_새우',\n",
       " '초밥_연어',\n",
       " '고추조림',\n",
       " '식혜',\n",
       " '꽃게장_양념(고추가루)']"
      ]
     },
     "execution_count": 108,
     "metadata": {},
     "output_type": "execute_result"
    }
   ],
   "source": [
    "list(df_cluster[df_cluster['label_hierarchy'] == 3]['식품명'])"
   ]
  },
  {
   "cell_type": "code",
   "execution_count": 109,
   "id": "52095d82",
   "metadata": {},
   "outputs": [
    {
     "name": "stderr",
     "output_type": "stream",
     "text": [
      "C:\\Users\\bbiga\\anaconda3\\envs\\leblanc\\lib\\site-packages\\ipykernel_launcher.py:1: SettingWithCopyWarning: \n",
      "A value is trying to be set on a copy of a slice from a DataFrame.\n",
      "Try using .loc[row_indexer,col_indexer] = value instead\n",
      "\n",
      "See the caveats in the documentation: https://pandas.pydata.org/pandas-docs/stable/user_guide/indexing.html#returning-a-view-versus-a-copy\n",
      "  \"\"\"Entry point for launching an IPython kernel.\n"
     ]
    },
    {
     "data": {
      "text/plain": [
       "array([  0,   1,   2,   3,   4, 100, 105, 101, 103, 106, 104, 102],\n",
       "      dtype=int64)"
      ]
     },
     "execution_count": 109,
     "metadata": {},
     "output_type": "execute_result"
    }
   ],
   "source": [
    "df_cluster['label_hierachy'] = labels + 100\n",
    "renew_df_hierarchy = pd.concat([renew_df_hierarchy, df_cluster])\n",
    "renew_df_hierarchy['label_hierachy'].unique()"
   ]
  },
  {
   "cell_type": "code",
   "execution_count": 110,
   "id": "7416a5cd",
   "metadata": {},
   "outputs": [],
   "source": [
    "#6은 224개의 항목을 가지고 있었음\n",
    "\n",
    "df_cluster = df[df['label_hierachy'] == 6]\n",
    "df_cluster6 = df_cluster[['수분(g)', '단백질(g)', '지방(g)', '탄수화물(g)', '나트륨(mg)', '당류(g)']]"
   ]
  },
  {
   "cell_type": "code",
   "execution_count": 111,
   "id": "522dff55",
   "metadata": {},
   "outputs": [],
   "source": [
    "from sklearn.preprocessing import StandardScaler\n",
    "\n",
    "ss = StandardScaler()\n",
    "ss.fit(df_cluster6)\n",
    "df_cluster6_scaled = ss.transform(df_cluster6)"
   ]
  },
  {
   "cell_type": "code",
   "execution_count": 112,
   "id": "005d13e6",
   "metadata": {},
   "outputs": [
    {
     "data": {
      "image/png": "[encoded data removed]",
      "text/plain": [
       "<Figure size 1080x432 with 1 Axes>"
      ]
     },
     "metadata": {
      "needs_background": "light"
     },
     "output_type": "display_data"
    }
   ],
   "source": [
    "from matplotlib.offsetbox import OffsetImage, AnnotationBbox\n",
    "from scipy.cluster.hierarchy import dendrogram, linkage\n",
    "\n",
    "z = linkage(df_cluster6_scaled, 'ward')\n",
    "\n",
    "plt.figure(figsize = (15,6))\n",
    "ax = plt.subplot()\n",
    "\n",
    "ddata = dendrogram(z)"
   ]
  },
  {
   "cell_type": "code",
   "execution_count": 113,
   "id": "6b236fa4",
   "metadata": {},
   "outputs": [],
   "source": [
    "from sklearn import decomposition\n",
    "from sklearn.cluster import AgglomerativeClustering\n",
    "\n",
    "pca = decomposition.PCA(n_components = 6).fit(df_cluster6_scaled)\n",
    "reduced_X = pca.transform(df_cluster6_scaled)\n",
    "\n",
    "ac = AgglomerativeClustering(n_clusters = 9, affinity = 'euclidean', linkage = 'ward')\n",
    "ac.fit(reduced_X)\n",
    "\n",
    "labels = ac.labels_"
   ]
  },
  {
   "cell_type": "code",
   "execution_count": 114,
   "id": "459a4930",
   "metadata": {},
   "outputs": [
    {
     "data": {
      "text/html": [
       "<div>\n",
       "<style scoped>\n",
       "    .dataframe tbody tr th:only-of-type {\n",
       "        vertical-align: middle;\n",
       "    }\n",
       "\n",
       "    .dataframe tbody tr th {\n",
       "        vertical-align: top;\n",
       "    }\n",
       "\n",
       "    .dataframe thead th {\n",
       "        text-align: right;\n",
       "    }\n",
       "</style>\n",
       "<table border=\"1\" class=\"dataframe\">\n",
       "  <thead>\n",
       "    <tr style=\"text-align: right;\">\n",
       "      <th></th>\n",
       "      <th>수분(g)</th>\n",
       "      <th>단백질(g)</th>\n",
       "      <th>지방(g)</th>\n",
       "      <th>탄수화물(g)</th>\n",
       "      <th>나트륨(mg)</th>\n",
       "      <th>당류(g)</th>\n",
       "    </tr>\n",
       "  </thead>\n",
       "  <tbody>\n",
       "    <tr>\n",
       "      <th>1</th>\n",
       "      <td>-0.131536</td>\n",
       "      <td>-0.095016</td>\n",
       "      <td>0.714520</td>\n",
       "      <td>1.232142</td>\n",
       "      <td>-0.943297</td>\n",
       "      <td>-0.372755</td>\n",
       "    </tr>\n",
       "    <tr>\n",
       "      <th>2</th>\n",
       "      <td>0.049233</td>\n",
       "      <td>-0.665812</td>\n",
       "      <td>-0.874699</td>\n",
       "      <td>1.357528</td>\n",
       "      <td>-0.557473</td>\n",
       "      <td>-0.520259</td>\n",
       "    </tr>\n",
       "    <tr>\n",
       "      <th>39</th>\n",
       "      <td>-0.184017</td>\n",
       "      <td>-0.085061</td>\n",
       "      <td>0.028974</td>\n",
       "      <td>1.521671</td>\n",
       "      <td>-0.037449</td>\n",
       "      <td>0.642418</td>\n",
       "    </tr>\n",
       "    <tr>\n",
       "      <th>54</th>\n",
       "      <td>0.171690</td>\n",
       "      <td>-0.506521</td>\n",
       "      <td>-0.679942</td>\n",
       "      <td>0.700957</td>\n",
       "      <td>-0.188424</td>\n",
       "      <td>-0.485552</td>\n",
       "    </tr>\n",
       "    <tr>\n",
       "      <th>57</th>\n",
       "      <td>0.031739</td>\n",
       "      <td>-0.496565</td>\n",
       "      <td>-0.563088</td>\n",
       "      <td>1.216183</td>\n",
       "      <td>-0.649736</td>\n",
       "      <td>3.401607</td>\n",
       "    </tr>\n",
       "  </tbody>\n",
       "</table>\n",
       "</div>"
      ],
      "text/plain": [
       "       수분(g)    단백질(g)     지방(g)   탄수화물(g)   나트륨(mg)     당류(g)\n",
       "1  -0.131536 -0.095016  0.714520  1.232142 -0.943297 -0.372755\n",
       "2   0.049233 -0.665812 -0.874699  1.357528 -0.557473 -0.520259\n",
       "39 -0.184017 -0.085061  0.028974  1.521671 -0.037449  0.642418\n",
       "54  0.171690 -0.506521 -0.679942  0.700957 -0.188424 -0.485552\n",
       "57  0.031739 -0.496565 -0.563088  1.216183 -0.649736  3.401607"
      ]
     },
     "execution_count": 114,
     "metadata": {},
     "output_type": "execute_result"
    }
   ],
   "source": [
    "std_df = pd.DataFrame(df_cluster6_scaled, index=df_cluster6.index, columns=df_cluster6.columns)\n",
    "data = std_df\n",
    "data.head()"
   ]
  },
  {
   "cell_type": "code",
   "execution_count": 115,
   "id": "fc1b378d",
   "metadata": {},
   "outputs": [
    {
     "data": {
      "text/html": [
       "<div>\n",
       "<style scoped>\n",
       "    .dataframe tbody tr th:only-of-type {\n",
       "        vertical-align: middle;\n",
       "    }\n",
       "\n",
       "    .dataframe tbody tr th {\n",
       "        vertical-align: top;\n",
       "    }\n",
       "\n",
       "    .dataframe thead th {\n",
       "        text-align: right;\n",
       "    }\n",
       "</style>\n",
       "<table border=\"1\" class=\"dataframe\">\n",
       "  <thead>\n",
       "    <tr style=\"text-align: right;\">\n",
       "      <th></th>\n",
       "      <th>설명가능한 분산 비율(고윳값)</th>\n",
       "      <th>기여율</th>\n",
       "      <th>누적기여율</th>\n",
       "    </tr>\n",
       "  </thead>\n",
       "  <tbody>\n",
       "    <tr>\n",
       "      <th>pca1</th>\n",
       "      <td>1.568268</td>\n",
       "      <td>0.260232</td>\n",
       "      <td>0.260232</td>\n",
       "    </tr>\n",
       "    <tr>\n",
       "      <th>pca2</th>\n",
       "      <td>1.213063</td>\n",
       "      <td>0.201291</td>\n",
       "      <td>0.461522</td>\n",
       "    </tr>\n",
       "    <tr>\n",
       "      <th>pca3</th>\n",
       "      <td>1.135834</td>\n",
       "      <td>0.188475</td>\n",
       "      <td>0.649997</td>\n",
       "    </tr>\n",
       "    <tr>\n",
       "      <th>pca4</th>\n",
       "      <td>0.855087</td>\n",
       "      <td>0.141890</td>\n",
       "      <td>0.791887</td>\n",
       "    </tr>\n",
       "    <tr>\n",
       "      <th>pca5</th>\n",
       "      <td>0.671746</td>\n",
       "      <td>0.111467</td>\n",
       "      <td>0.903354</td>\n",
       "    </tr>\n",
       "    <tr>\n",
       "      <th>pca6</th>\n",
       "      <td>0.582432</td>\n",
       "      <td>0.096646</td>\n",
       "      <td>1.000000</td>\n",
       "    </tr>\n",
       "  </tbody>\n",
       "</table>\n",
       "</div>"
      ],
      "text/plain": [
       "      설명가능한 분산 비율(고윳값)       기여율     누적기여율\n",
       "pca1          1.568268  0.260232  0.260232\n",
       "pca2          1.213063  0.201291  0.461522\n",
       "pca3          1.135834  0.188475  0.649997\n",
       "pca4          0.855087  0.141890  0.791887\n",
       "pca5          0.671746  0.111467  0.903354\n",
       "pca6          0.582432  0.096646  1.000000"
      ]
     },
     "execution_count": 115,
     "metadata": {},
     "output_type": "execute_result"
    }
   ],
   "source": [
    "result = pd.DataFrame({'설명가능한 분산 비율(고윳값)':pca.explained_variance_,\n",
    "             '기여율':pca.explained_variance_ratio_},\n",
    "            index=np.array([f\"pca{num+1}\" for num in range(data.shape[1])]))\n",
    "result['누적기여율'] = result['기여율'].cumsum()\n",
    "result"
   ]
  },
  {
   "cell_type": "markdown",
   "id": "4f24ecfc",
   "metadata": {},
   "source": [
    "6번 클러스터에 대한 적절한 pca n_componets 값은 4이다. 이를 이용하여 재클러스터링 진행"
   ]
  },
  {
   "cell_type": "code",
   "execution_count": 116,
   "id": "41fcff3a",
   "metadata": {},
   "outputs": [],
   "source": [
    "from sklearn import decomposition\n",
    "from sklearn.cluster import AgglomerativeClustering\n",
    "\n",
    "pca = decomposition.PCA(n_components = 4).fit(df_cluster6_scaled)\n",
    "reduced_X = pca.transform(df_cluster6_scaled)\n",
    "\n",
    "ac = AgglomerativeClustering(n_clusters = 9, affinity = 'euclidean', linkage = 'ward')\n",
    "ac.fit(reduced_X)\n",
    "\n",
    "labels = ac.labels_"
   ]
  },
  {
   "cell_type": "code",
   "execution_count": 117,
   "id": "4e3e971f",
   "metadata": {},
   "outputs": [
    {
     "name": "stdout",
     "output_type": "stream",
     "text": [
      "50\n",
      "35\n",
      "19\n",
      "40\n",
      "8\n",
      "8\n",
      "7\n",
      "36\n",
      "25\n"
     ]
    }
   ],
   "source": [
    "print(sum(labels == 0))\n",
    "print(sum(labels == 1))\n",
    "print(sum(labels == 2))\n",
    "print(sum(labels == 3))\n",
    "print(sum(labels == 4))\n",
    "print(sum(labels == 5))\n",
    "print(sum(labels == 6))\n",
    "print(sum(labels == 7))\n",
    "print(sum(labels == 8))"
   ]
  },
  {
   "cell_type": "code",
   "execution_count": 118,
   "id": "0d7c7676",
   "metadata": {},
   "outputs": [
    {
     "name": "stderr",
     "output_type": "stream",
     "text": [
      "C:\\Users\\bbiga\\anaconda3\\envs\\leblanc\\lib\\site-packages\\ipykernel_launcher.py:1: SettingWithCopyWarning: \n",
      "A value is trying to be set on a copy of a slice from a DataFrame.\n",
      "Try using .loc[row_indexer,col_indexer] = value instead\n",
      "\n",
      "See the caveats in the documentation: https://pandas.pydata.org/pandas-docs/stable/user_guide/indexing.html#returning-a-view-versus-a-copy\n",
      "  \"\"\"Entry point for launching an IPython kernel.\n"
     ]
    }
   ],
   "source": [
    "df_cluster['label_hierarchy'] = labels"
   ]
  },
  {
   "cell_type": "code",
   "execution_count": 119,
   "id": "2f11832b",
   "metadata": {
    "scrolled": false
   },
   "outputs": [
    {
     "data": {
      "text/plain": [
       "['국밥_콩나물',\n",
       " '닭죽',\n",
       " '미역국_새우',\n",
       " '재첩국',\n",
       " '감자_찐감자',\n",
       " '누룽지_뜨거운물첨가',\n",
       " '미음',\n",
       " '미음_칠분도미',\n",
       " '미음_현미',\n",
       " '참깨죽',\n",
       " '현미죽',\n",
       " '흰죽(쌀죽)',\n",
       " '흰죽(쌀죽)_삼광',\n",
       " '흰죽(쌀죽)_새일미',\n",
       " '흰죽(쌀죽)_신동진',\n",
       " '흰죽(쌀죽)_오대',\n",
       " '흰죽(쌀죽)_칠분도미',\n",
       " '액상커피_커피가루_설탕(중량2.7g)',\n",
       " '액상커피_커피가루(중량1g)']"
      ]
     },
     "execution_count": 119,
     "metadata": {},
     "output_type": "execute_result"
    }
   ],
   "source": [
    "list(df_cluster[df_cluster['label_hierarchy'] == 2]['식품명'])"
   ]
  },
  {
   "cell_type": "code",
   "execution_count": 120,
   "id": "d79077ad",
   "metadata": {},
   "outputs": [
    {
     "name": "stderr",
     "output_type": "stream",
     "text": [
      "C:\\Users\\bbiga\\anaconda3\\envs\\leblanc\\lib\\site-packages\\ipykernel_launcher.py:1: SettingWithCopyWarning: \n",
      "A value is trying to be set on a copy of a slice from a DataFrame.\n",
      "Try using .loc[row_indexer,col_indexer] = value instead\n",
      "\n",
      "See the caveats in the documentation: https://pandas.pydata.org/pandas-docs/stable/user_guide/indexing.html#returning-a-view-versus-a-copy\n",
      "  \"\"\"Entry point for launching an IPython kernel.\n"
     ]
    },
    {
     "data": {
      "text/plain": [
       "array([  0,   1,   2,   3,   4, 100, 105, 101, 103, 106, 104, 102, 200,\n",
       "       202, 204, 201, 203, 208, 207, 206, 205], dtype=int64)"
      ]
     },
     "execution_count": 120,
     "metadata": {},
     "output_type": "execute_result"
    }
   ],
   "source": [
    "df_cluster['label_hierachy'] = labels + 200\n",
    "renew_df_hierarchy = pd.concat([renew_df_hierarchy, df_cluster])\n",
    "renew_df_hierarchy['label_hierachy'].unique()"
   ]
  },
  {
   "cell_type": "code",
   "execution_count": 121,
   "id": "ef341dfa",
   "metadata": {},
   "outputs": [],
   "source": [
    "#4는 163개의 항목을 가지고 있었음\n",
    "\n",
    "df_cluster = df[df['label_hierachy'] == 4]\n",
    "df_cluster4 = df_cluster[['수분(g)', '단백질(g)', '지방(g)', '탄수화물(g)', '나트륨(mg)', '당류(g)']]"
   ]
  },
  {
   "cell_type": "code",
   "execution_count": 122,
   "id": "3825b59f",
   "metadata": {},
   "outputs": [],
   "source": [
    "from sklearn.preprocessing import StandardScaler\n",
    "\n",
    "ss = StandardScaler()\n",
    "ss.fit(df_cluster4)\n",
    "df_cluster4_scaled = ss.transform(df_cluster4)"
   ]
  },
  {
   "cell_type": "code",
   "execution_count": 123,
   "id": "cee6a73e",
   "metadata": {
    "scrolled": true
   },
   "outputs": [
    {
     "data": {
      "image/png": "[encoded data removed]",
      "text/plain": [
       "<Figure size 1080x432 with 1 Axes>"
      ]
     },
     "metadata": {
      "needs_background": "light"
     },
     "output_type": "display_data"
    }
   ],
   "source": [
    "from matplotlib.offsetbox import OffsetImage, AnnotationBbox\n",
    "from scipy.cluster.hierarchy import dendrogram, linkage\n",
    "\n",
    "z = linkage(df_cluster4_scaled, 'ward')\n",
    "\n",
    "plt.figure(figsize = (15,6))\n",
    "ax = plt.subplot()\n",
    "\n",
    "ddata = dendrogram(z)"
   ]
  },
  {
   "cell_type": "code",
   "execution_count": 124,
   "id": "1c79cc09",
   "metadata": {},
   "outputs": [],
   "source": [
    "from sklearn.cluster import AgglomerativeClustering\n",
    "from sklearn import decomposition\n",
    "\n",
    "pca = decomposition.PCA(n_components = 6).fit(df_cluster4_scaled)\n",
    "reduced_X = pca.transform(df_cluster4_scaled)\n",
    "\n",
    "ac = AgglomerativeClustering(n_clusters = 7, affinity = 'euclidean', linkage = 'ward')\n",
    "ac.fit(reduced_X)\n",
    "\n",
    "labels = ac.labels_"
   ]
  },
  {
   "cell_type": "code",
   "execution_count": 125,
   "id": "7f05a4ca",
   "metadata": {},
   "outputs": [
    {
     "data": {
      "text/html": [
       "<div>\n",
       "<style scoped>\n",
       "    .dataframe tbody tr th:only-of-type {\n",
       "        vertical-align: middle;\n",
       "    }\n",
       "\n",
       "    .dataframe tbody tr th {\n",
       "        vertical-align: top;\n",
       "    }\n",
       "\n",
       "    .dataframe thead th {\n",
       "        text-align: right;\n",
       "    }\n",
       "</style>\n",
       "<table border=\"1\" class=\"dataframe\">\n",
       "  <thead>\n",
       "    <tr style=\"text-align: right;\">\n",
       "      <th></th>\n",
       "      <th>수분(g)</th>\n",
       "      <th>단백질(g)</th>\n",
       "      <th>지방(g)</th>\n",
       "      <th>탄수화물(g)</th>\n",
       "      <th>나트륨(mg)</th>\n",
       "      <th>당류(g)</th>\n",
       "    </tr>\n",
       "  </thead>\n",
       "  <tbody>\n",
       "    <tr>\n",
       "      <th>21</th>\n",
       "      <td>3.211658</td>\n",
       "      <td>-0.990706</td>\n",
       "      <td>-0.076668</td>\n",
       "      <td>-1.859554</td>\n",
       "      <td>0.472230</td>\n",
       "      <td>2.148485</td>\n",
       "    </tr>\n",
       "    <tr>\n",
       "      <th>182</th>\n",
       "      <td>3.023521</td>\n",
       "      <td>-1.652520</td>\n",
       "      <td>-2.030324</td>\n",
       "      <td>0.256516</td>\n",
       "      <td>-1.871406</td>\n",
       "      <td>2.729087</td>\n",
       "    </tr>\n",
       "    <tr>\n",
       "      <th>233</th>\n",
       "      <td>2.356978</td>\n",
       "      <td>-1.425871</td>\n",
       "      <td>-0.338903</td>\n",
       "      <td>0.701738</td>\n",
       "      <td>-1.479102</td>\n",
       "      <td>2.236889</td>\n",
       "    </tr>\n",
       "    <tr>\n",
       "      <th>267</th>\n",
       "      <td>1.539925</td>\n",
       "      <td>-1.389608</td>\n",
       "      <td>-1.671935</td>\n",
       "      <td>3.366747</td>\n",
       "      <td>-0.551837</td>\n",
       "      <td>-0.699569</td>\n",
       "    </tr>\n",
       "    <tr>\n",
       "      <th>285</th>\n",
       "      <td>2.883762</td>\n",
       "      <td>0.648416</td>\n",
       "      <td>0.275165</td>\n",
       "      <td>-2.497032</td>\n",
       "      <td>0.900198</td>\n",
       "      <td>1.147365</td>\n",
       "    </tr>\n",
       "  </tbody>\n",
       "</table>\n",
       "</div>"
      ],
      "text/plain": [
       "        수분(g)    단백질(g)     지방(g)   탄수화물(g)   나트륨(mg)     당류(g)\n",
       "21   3.211658 -0.990706 -0.076668 -1.859554  0.472230  2.148485\n",
       "182  3.023521 -1.652520 -2.030324  0.256516 -1.871406  2.729087\n",
       "233  2.356978 -1.425871 -0.338903  0.701738 -1.479102  2.236889\n",
       "267  1.539925 -1.389608 -1.671935  3.366747 -0.551837 -0.699569\n",
       "285  2.883762  0.648416  0.275165 -2.497032  0.900198  1.147365"
      ]
     },
     "execution_count": 125,
     "metadata": {},
     "output_type": "execute_result"
    }
   ],
   "source": [
    "std_df = pd.DataFrame(df_cluster4_scaled, index=df_cluster4.index, columns=df_cluster4.columns)\n",
    "data = std_df\n",
    "data.head()"
   ]
  },
  {
   "cell_type": "code",
   "execution_count": 126,
   "id": "6b48da47",
   "metadata": {},
   "outputs": [
    {
     "data": {
      "text/html": [
       "<div>\n",
       "<style scoped>\n",
       "    .dataframe tbody tr th:only-of-type {\n",
       "        vertical-align: middle;\n",
       "    }\n",
       "\n",
       "    .dataframe tbody tr th {\n",
       "        vertical-align: top;\n",
       "    }\n",
       "\n",
       "    .dataframe thead th {\n",
       "        text-align: right;\n",
       "    }\n",
       "</style>\n",
       "<table border=\"1\" class=\"dataframe\">\n",
       "  <thead>\n",
       "    <tr style=\"text-align: right;\">\n",
       "      <th></th>\n",
       "      <th>설명가능한 분산 비율(고윳값)</th>\n",
       "      <th>기여율</th>\n",
       "      <th>누적기여율</th>\n",
       "    </tr>\n",
       "  </thead>\n",
       "  <tbody>\n",
       "    <tr>\n",
       "      <th>pca1</th>\n",
       "      <td>1.970510</td>\n",
       "      <td>0.326138</td>\n",
       "      <td>0.326138</td>\n",
       "    </tr>\n",
       "    <tr>\n",
       "      <th>pca2</th>\n",
       "      <td>1.307260</td>\n",
       "      <td>0.216364</td>\n",
       "      <td>0.542501</td>\n",
       "    </tr>\n",
       "    <tr>\n",
       "      <th>pca3</th>\n",
       "      <td>0.978371</td>\n",
       "      <td>0.161929</td>\n",
       "      <td>0.704431</td>\n",
       "    </tr>\n",
       "    <tr>\n",
       "      <th>pca4</th>\n",
       "      <td>0.862694</td>\n",
       "      <td>0.142784</td>\n",
       "      <td>0.847215</td>\n",
       "    </tr>\n",
       "    <tr>\n",
       "      <th>pca5</th>\n",
       "      <td>0.481470</td>\n",
       "      <td>0.079688</td>\n",
       "      <td>0.926902</td>\n",
       "    </tr>\n",
       "    <tr>\n",
       "      <th>pca6</th>\n",
       "      <td>0.441654</td>\n",
       "      <td>0.073098</td>\n",
       "      <td>1.000000</td>\n",
       "    </tr>\n",
       "  </tbody>\n",
       "</table>\n",
       "</div>"
      ],
      "text/plain": [
       "      설명가능한 분산 비율(고윳값)       기여율     누적기여율\n",
       "pca1          1.970510  0.326138  0.326138\n",
       "pca2          1.307260  0.216364  0.542501\n",
       "pca3          0.978371  0.161929  0.704431\n",
       "pca4          0.862694  0.142784  0.847215\n",
       "pca5          0.481470  0.079688  0.926902\n",
       "pca6          0.441654  0.073098  1.000000"
      ]
     },
     "execution_count": 126,
     "metadata": {},
     "output_type": "execute_result"
    }
   ],
   "source": [
    "result = pd.DataFrame({'설명가능한 분산 비율(고윳값)':pca.explained_variance_,\n",
    "             '기여율':pca.explained_variance_ratio_},\n",
    "            index=np.array([f\"pca{num+1}\" for num in range(data.shape[1])]))\n",
    "result['누적기여율'] = result['기여율'].cumsum()\n",
    "result"
   ]
  },
  {
   "cell_type": "markdown",
   "id": "919163b5",
   "metadata": {},
   "source": [
    "4번 클러스터에 대한 적절한 pca n_componets 값은 4이다. 이를 이용하여 재클러스터링 진행"
   ]
  },
  {
   "cell_type": "code",
   "execution_count": 127,
   "id": "239e5859",
   "metadata": {},
   "outputs": [],
   "source": [
    "from sklearn.cluster import AgglomerativeClustering\n",
    "from sklearn import decomposition\n",
    "\n",
    "pca = decomposition.PCA(n_components = 4).fit(df_cluster4_scaled)\n",
    "reduced_X = pca.transform(df_cluster4_scaled)\n",
    "\n",
    "ac = AgglomerativeClustering(n_clusters = 7, affinity = 'euclidean', linkage = 'ward')\n",
    "ac.fit(reduced_X)\n",
    "\n",
    "labels = ac.labels_"
   ]
  },
  {
   "cell_type": "code",
   "execution_count": 128,
   "id": "113dc0df",
   "metadata": {},
   "outputs": [
    {
     "name": "stdout",
     "output_type": "stream",
     "text": [
      "90\n",
      "5\n",
      "14\n",
      "3\n",
      "14\n",
      "8\n",
      "10\n"
     ]
    }
   ],
   "source": [
    "print(sum(labels == 0))\n",
    "print(sum(labels == 1))\n",
    "print(sum(labels == 2))\n",
    "print(sum(labels == 3))\n",
    "print(sum(labels == 4))\n",
    "print(sum(labels == 5))\n",
    "print(sum(labels == 6))"
   ]
  },
  {
   "cell_type": "code",
   "execution_count": 129,
   "id": "4539b0fe",
   "metadata": {},
   "outputs": [
    {
     "name": "stderr",
     "output_type": "stream",
     "text": [
      "C:\\Users\\bbiga\\anaconda3\\envs\\leblanc\\lib\\site-packages\\ipykernel_launcher.py:1: SettingWithCopyWarning: \n",
      "A value is trying to be set on a copy of a slice from a DataFrame.\n",
      "Try using .loc[row_indexer,col_indexer] = value instead\n",
      "\n",
      "See the caveats in the documentation: https://pandas.pydata.org/pandas-docs/stable/user_guide/indexing.html#returning-a-view-versus-a-copy\n",
      "  \"\"\"Entry point for launching an IPython kernel.\n"
     ]
    }
   ],
   "source": [
    "df_cluster['label_hierarchy'] = labels"
   ]
  },
  {
   "cell_type": "code",
   "execution_count": 130,
   "id": "193f0a0f",
   "metadata": {
    "scrolled": true
   },
   "outputs": [
    {
     "data": {
      "text/plain": [
       "['땅콩조림',\n",
       " '군만두_(눈치떡)군만두',\n",
       " '잡채_(삼삼한밥상(Ⅶ))유부 우엉 잡채',\n",
       " '게맛살튀김_(꾸브라꼬 숯불두마리 치킨)게살튀김',\n",
       " '삼치튀김_(삼삼한밥상(Ⅶ))삼치튀김 & 타르타르소스',\n",
       " '새우튀김_(꾸브라꼬 숯불두마리 치킨)새우링튀김',\n",
       " '치즈_(고피자)치즈스틱',\n",
       " '치즈_(꾸브라꼬 숯불두마리 치킨)치즈스틱',\n",
       " '치즈_(눈치떡)치즈스틱',\n",
       " '미꾸라지튀김']"
      ]
     },
     "execution_count": 130,
     "metadata": {},
     "output_type": "execute_result"
    }
   ],
   "source": [
    "list(df_cluster[df_cluster['label_hierarchy'] == 6]['식품명'])"
   ]
  },
  {
   "cell_type": "code",
   "execution_count": 131,
   "id": "64bf1765",
   "metadata": {},
   "outputs": [
    {
     "name": "stderr",
     "output_type": "stream",
     "text": [
      "C:\\Users\\bbiga\\anaconda3\\envs\\leblanc\\lib\\site-packages\\ipykernel_launcher.py:1: SettingWithCopyWarning: \n",
      "A value is trying to be set on a copy of a slice from a DataFrame.\n",
      "Try using .loc[row_indexer,col_indexer] = value instead\n",
      "\n",
      "See the caveats in the documentation: https://pandas.pydata.org/pandas-docs/stable/user_guide/indexing.html#returning-a-view-versus-a-copy\n",
      "  \"\"\"Entry point for launching an IPython kernel.\n"
     ]
    },
    {
     "data": {
      "text/plain": [
       "array([  0,   1,   2,   3,   4, 100, 105, 101, 103, 106, 104, 102, 200,\n",
       "       202, 204, 201, 203, 208, 207, 206, 205, 302, 305, 306, 303, 301,\n",
       "       300, 304], dtype=int64)"
      ]
     },
     "execution_count": 131,
     "metadata": {},
     "output_type": "execute_result"
    }
   ],
   "source": [
    "df_cluster['label_hierachy'] = labels + 300\n",
    "renew_df_hierarchy = pd.concat([renew_df_hierarchy, df_cluster])\n",
    "renew_df_hierarchy['label_hierachy'].unique()"
   ]
  },
  {
   "cell_type": "code",
   "execution_count": 132,
   "id": "5f519956",
   "metadata": {},
   "outputs": [],
   "source": [
    "#0은 157개의 항목을 가지고 있었음\n",
    "\n",
    "df_cluster = df[df['label_hierachy'] == 0]\n",
    "df_cluster0 = df_cluster[['수분(g)', '단백질(g)', '지방(g)', '탄수화물(g)', '나트륨(mg)', '당류(g)']]"
   ]
  },
  {
   "cell_type": "code",
   "execution_count": 133,
   "id": "ae3ced33",
   "metadata": {},
   "outputs": [],
   "source": [
    "from sklearn.preprocessing import StandardScaler\n",
    "\n",
    "ss = StandardScaler()\n",
    "ss.fit(df_cluster0)\n",
    "df_cluster0_scaled = ss.transform(df_cluster0)"
   ]
  },
  {
   "cell_type": "code",
   "execution_count": 134,
   "id": "33ccca30",
   "metadata": {
    "scrolled": true
   },
   "outputs": [
    {
     "data": {
      "image/png": "[encoded data removed]",
      "text/plain": [
       "<Figure size 1080x432 with 1 Axes>"
      ]
     },
     "metadata": {
      "needs_background": "light"
     },
     "output_type": "display_data"
    }
   ],
   "source": [
    "from matplotlib.offsetbox import OffsetImage, AnnotationBbox\n",
    "from scipy.cluster.hierarchy import dendrogram, linkage\n",
    "\n",
    "z = linkage(df_cluster0_scaled, 'ward')\n",
    "\n",
    "plt.figure(figsize = (15,6))\n",
    "ax = plt.subplot()\n",
    "\n",
    "ddata = dendrogram(z)"
   ]
  },
  {
   "cell_type": "code",
   "execution_count": 135,
   "id": "9175eb93",
   "metadata": {},
   "outputs": [],
   "source": [
    "from sklearn import decomposition\n",
    "from sklearn.cluster import AgglomerativeClustering\n",
    "\n",
    "pca = decomposition.PCA(n_components = 6).fit(df_cluster0_scaled)\n",
    "reduced_X = pca.transform(df_cluster0_scaled)\n",
    "\n",
    "ac = AgglomerativeClustering(n_clusters = 7, affinity = 'euclidean', linkage = 'ward')\n",
    "ac.fit(reduced_X)\n",
    "label = ac.labels_"
   ]
  },
  {
   "cell_type": "code",
   "execution_count": 136,
   "id": "b0cd3782",
   "metadata": {},
   "outputs": [
    {
     "data": {
      "text/html": [
       "<div>\n",
       "<style scoped>\n",
       "    .dataframe tbody tr th:only-of-type {\n",
       "        vertical-align: middle;\n",
       "    }\n",
       "\n",
       "    .dataframe tbody tr th {\n",
       "        vertical-align: top;\n",
       "    }\n",
       "\n",
       "    .dataframe thead th {\n",
       "        text-align: right;\n",
       "    }\n",
       "</style>\n",
       "<table border=\"1\" class=\"dataframe\">\n",
       "  <thead>\n",
       "    <tr style=\"text-align: right;\">\n",
       "      <th></th>\n",
       "      <th>수분(g)</th>\n",
       "      <th>단백질(g)</th>\n",
       "      <th>지방(g)</th>\n",
       "      <th>탄수화물(g)</th>\n",
       "      <th>나트륨(mg)</th>\n",
       "      <th>당류(g)</th>\n",
       "    </tr>\n",
       "  </thead>\n",
       "  <tbody>\n",
       "    <tr>\n",
       "      <th>15</th>\n",
       "      <td>0.306076</td>\n",
       "      <td>-0.982767</td>\n",
       "      <td>-0.010939</td>\n",
       "      <td>0.679428</td>\n",
       "      <td>-1.143569</td>\n",
       "      <td>-0.156055</td>\n",
       "    </tr>\n",
       "    <tr>\n",
       "      <th>23</th>\n",
       "      <td>0.364442</td>\n",
       "      <td>-1.286843</td>\n",
       "      <td>-0.821683</td>\n",
       "      <td>1.264566</td>\n",
       "      <td>-0.981224</td>\n",
       "      <td>-0.838873</td>\n",
       "    </tr>\n",
       "    <tr>\n",
       "      <th>42</th>\n",
       "      <td>0.267166</td>\n",
       "      <td>-0.944757</td>\n",
       "      <td>-1.745818</td>\n",
       "      <td>1.856870</td>\n",
       "      <td>-1.270278</td>\n",
       "      <td>-0.364494</td>\n",
       "    </tr>\n",
       "    <tr>\n",
       "      <th>66</th>\n",
       "      <td>-0.063573</td>\n",
       "      <td>-1.379389</td>\n",
       "      <td>0.127020</td>\n",
       "      <td>1.719541</td>\n",
       "      <td>-0.308084</td>\n",
       "      <td>0.127854</td>\n",
       "    </tr>\n",
       "    <tr>\n",
       "      <th>68</th>\n",
       "      <td>0.403353</td>\n",
       "      <td>-1.209172</td>\n",
       "      <td>0.057096</td>\n",
       "      <td>0.530158</td>\n",
       "      <td>-0.517945</td>\n",
       "      <td>-0.102148</td>\n",
       "    </tr>\n",
       "  </tbody>\n",
       "</table>\n",
       "</div>"
      ],
      "text/plain": [
       "       수분(g)    단백질(g)     지방(g)   탄수화물(g)   나트륨(mg)     당류(g)\n",
       "15  0.306076 -0.982767 -0.010939  0.679428 -1.143569 -0.156055\n",
       "23  0.364442 -1.286843 -0.821683  1.264566 -0.981224 -0.838873\n",
       "42  0.267166 -0.944757 -1.745818  1.856870 -1.270278 -0.364494\n",
       "66 -0.063573 -1.379389  0.127020  1.719541 -0.308084  0.127854\n",
       "68  0.403353 -1.209172  0.057096  0.530158 -0.517945 -0.102148"
      ]
     },
     "execution_count": 136,
     "metadata": {},
     "output_type": "execute_result"
    }
   ],
   "source": [
    "std_df = pd.DataFrame(df_cluster0_scaled, index=df_cluster0.index, columns=df_cluster0.columns)\n",
    "data = std_df\n",
    "data.head()"
   ]
  },
  {
   "cell_type": "code",
   "execution_count": 137,
   "id": "747af0de",
   "metadata": {
    "scrolled": true
   },
   "outputs": [
    {
     "data": {
      "text/html": [
       "<div>\n",
       "<style scoped>\n",
       "    .dataframe tbody tr th:only-of-type {\n",
       "        vertical-align: middle;\n",
       "    }\n",
       "\n",
       "    .dataframe tbody tr th {\n",
       "        vertical-align: top;\n",
       "    }\n",
       "\n",
       "    .dataframe thead th {\n",
       "        text-align: right;\n",
       "    }\n",
       "</style>\n",
       "<table border=\"1\" class=\"dataframe\">\n",
       "  <thead>\n",
       "    <tr style=\"text-align: right;\">\n",
       "      <th></th>\n",
       "      <th>설명가능한 분산 비율(고윳값)</th>\n",
       "      <th>기여율</th>\n",
       "      <th>누적기여율</th>\n",
       "    </tr>\n",
       "  </thead>\n",
       "  <tbody>\n",
       "    <tr>\n",
       "      <th>pca1</th>\n",
       "      <td>1.868177</td>\n",
       "      <td>0.309531</td>\n",
       "      <td>0.309531</td>\n",
       "    </tr>\n",
       "    <tr>\n",
       "      <th>pca2</th>\n",
       "      <td>1.583963</td>\n",
       "      <td>0.262441</td>\n",
       "      <td>0.571972</td>\n",
       "    </tr>\n",
       "    <tr>\n",
       "      <th>pca3</th>\n",
       "      <td>1.168464</td>\n",
       "      <td>0.193598</td>\n",
       "      <td>0.765571</td>\n",
       "    </tr>\n",
       "    <tr>\n",
       "      <th>pca4</th>\n",
       "      <td>0.722634</td>\n",
       "      <td>0.119731</td>\n",
       "      <td>0.885301</td>\n",
       "    </tr>\n",
       "    <tr>\n",
       "      <th>pca5</th>\n",
       "      <td>0.386194</td>\n",
       "      <td>0.063987</td>\n",
       "      <td>0.949288</td>\n",
       "    </tr>\n",
       "    <tr>\n",
       "      <th>pca6</th>\n",
       "      <td>0.306070</td>\n",
       "      <td>0.050712</td>\n",
       "      <td>1.000000</td>\n",
       "    </tr>\n",
       "  </tbody>\n",
       "</table>\n",
       "</div>"
      ],
      "text/plain": [
       "      설명가능한 분산 비율(고윳값)       기여율     누적기여율\n",
       "pca1          1.868177  0.309531  0.309531\n",
       "pca2          1.583963  0.262441  0.571972\n",
       "pca3          1.168464  0.193598  0.765571\n",
       "pca4          0.722634  0.119731  0.885301\n",
       "pca5          0.386194  0.063987  0.949288\n",
       "pca6          0.306070  0.050712  1.000000"
      ]
     },
     "execution_count": 137,
     "metadata": {},
     "output_type": "execute_result"
    }
   ],
   "source": [
    "result = pd.DataFrame({'설명가능한 분산 비율(고윳값)':pca.explained_variance_,\n",
    "             '기여율':pca.explained_variance_ratio_},\n",
    "            index=np.array([f\"pca{num+1}\" for num in range(data.shape[1])]))\n",
    "result['누적기여율'] = result['기여율'].cumsum()\n",
    "result"
   ]
  },
  {
   "cell_type": "markdown",
   "id": "080535c8",
   "metadata": {},
   "source": [
    "0번 클러스터에 대한 적절한 pca n_componets 값은 3이다. 이를 이용하여 재클러스터링 진행"
   ]
  },
  {
   "cell_type": "code",
   "execution_count": 138,
   "id": "196ec5f7",
   "metadata": {},
   "outputs": [],
   "source": [
    "from sklearn import decomposition\n",
    "from sklearn.cluster import AgglomerativeClustering\n",
    "\n",
    "pca = decomposition.PCA(n_components = 3).fit(df_cluster0_scaled)\n",
    "reduced_X = pca.transform(df_cluster0_scaled)\n",
    "\n",
    "ac = AgglomerativeClustering(n_clusters = 7, affinity = 'euclidean', linkage = 'ward')\n",
    "ac.fit(reduced_X)\n",
    "label = ac.labels_"
   ]
  },
  {
   "cell_type": "code",
   "execution_count": 139,
   "id": "377b98b5",
   "metadata": {
    "scrolled": true
   },
   "outputs": [
    {
     "name": "stdout",
     "output_type": "stream",
     "text": [
      "32\n",
      "34\n",
      "10\n",
      "22\n",
      "24\n",
      "24\n",
      "24\n"
     ]
    }
   ],
   "source": [
    "print(sum(label == 0))\n",
    "print(sum(label == 1))\n",
    "print(sum(label == 2))\n",
    "print(sum(label == 3))\n",
    "print(sum(label == 4))\n",
    "print(sum(label == 5))\n",
    "print(sum(label == 6))"
   ]
  },
  {
   "cell_type": "code",
   "execution_count": 140,
   "id": "4534bed1",
   "metadata": {
    "scrolled": true
   },
   "outputs": [
    {
     "name": "stderr",
     "output_type": "stream",
     "text": [
      "C:\\Users\\bbiga\\anaconda3\\envs\\leblanc\\lib\\site-packages\\ipykernel_launcher.py:1: SettingWithCopyWarning: \n",
      "A value is trying to be set on a copy of a slice from a DataFrame.\n",
      "Try using .loc[row_indexer,col_indexer] = value instead\n",
      "\n",
      "See the caveats in the documentation: https://pandas.pydata.org/pandas-docs/stable/user_guide/indexing.html#returning-a-view-versus-a-copy\n",
      "  \"\"\"Entry point for launching an IPython kernel.\n"
     ]
    }
   ],
   "source": [
    "df_cluster['label_hierarchy'] = label"
   ]
  },
  {
   "cell_type": "code",
   "execution_count": 141,
   "id": "707f5441",
   "metadata": {
    "scrolled": true
   },
   "outputs": [
    {
     "data": {
      "text/plain": [
       "['고등어구이_석쇠',\n",
       " '닭다리튀김_간장',\n",
       " '보쌈/수육_(삼삼한밥상(Ⅶ))돈수육 & 해물냉채',\n",
       " '닭튀김(치킨)_(꾸브라꼬 숯불두마리 치킨)후라이드치킨 뼈닭',\n",
       " '닭튀김(치킨)_(꾸브라꼬 숯불두마리 치킨)후라이드치킨 순살',\n",
       " '두부구이_(삼삼한밥상(Ⅶ))두부구이 & 버섯소스',\n",
       " '달걀말이_(삼삼한밥상(Ⅶ))일본식 계란말이',\n",
       " '닭튀김_(삼삼한밥상(Ⅶ))유린기',\n",
       " '돼지고기_머리고기',\n",
       " '전어찜',\n",
       " '훈제오리',\n",
       " '닭모래집튀김',\n",
       " '닭튀김',\n",
       " '닭튀김_다리(넓적다리)',\n",
       " '닭튀김_다리(아랫다리)',\n",
       " '닭튀김_목',\n",
       " '닭튀김_살코기',\n",
       " '돈가스_돼지등심',\n",
       " '돈가스_돼지안심',\n",
       " '돈가스_치즈',\n",
       " '생선가스',\n",
       " '치킨가스']"
      ]
     },
     "execution_count": 141,
     "metadata": {},
     "output_type": "execute_result"
    }
   ],
   "source": [
    "list(df_cluster[df_cluster['label_hierarchy'] == 3]['식품명'])"
   ]
  },
  {
   "cell_type": "code",
   "execution_count": 142,
   "id": "65d25918",
   "metadata": {
    "scrolled": true
   },
   "outputs": [
    {
     "name": "stderr",
     "output_type": "stream",
     "text": [
      "C:\\Users\\bbiga\\anaconda3\\envs\\leblanc\\lib\\site-packages\\ipykernel_launcher.py:1: SettingWithCopyWarning: \n",
      "A value is trying to be set on a copy of a slice from a DataFrame.\n",
      "Try using .loc[row_indexer,col_indexer] = value instead\n",
      "\n",
      "See the caveats in the documentation: https://pandas.pydata.org/pandas-docs/stable/user_guide/indexing.html#returning-a-view-versus-a-copy\n",
      "  \"\"\"Entry point for launching an IPython kernel.\n"
     ]
    },
    {
     "data": {
      "text/plain": [
       "array([  0,   1,   2,   3,   4, 100, 105, 101, 103, 106, 104, 102, 200,\n",
       "       202, 204, 201, 203, 208, 207, 206, 205, 302, 305, 306, 303, 301,\n",
       "       300, 304, 401, 405, 406, 404, 400, 403, 402], dtype=int64)"
      ]
     },
     "execution_count": 142,
     "metadata": {},
     "output_type": "execute_result"
    }
   ],
   "source": [
    "df_cluster['label_hierachy'] = label + 400\n",
    "renew_df_hierarchy = pd.concat([renew_df_hierarchy, df_cluster])\n",
    "renew_df_hierarchy['label_hierachy'].unique()"
   ]
  },
  {
   "cell_type": "code",
   "execution_count": 143,
   "id": "245778af",
   "metadata": {},
   "outputs": [],
   "source": [
    "reset_cluster_number = {'label_hierachy' : {100 : 5, 101 : 6, 102 : 7, 103 : 8, 104 : 9, 105 : 10, 106 : 11, 200 : 12, 201 : 13,\n",
    "                                            202 : 14, 203 : 15, 204 : 16, 205 : 17, 206 : 18, 207 : 19, 208 : 20, 300 : 21,\n",
    "                                            301 : 22, 302 : 23, 303 : 24, 304 : 25, 305 : 26, 306 : 27, 400 : 28, 401 : 29, 402 : 30,\n",
    "                                            403 : 31, 404 : 32, 405 : 33, 406 : 34}}"
   ]
  },
  {
   "cell_type": "code",
   "execution_count": 144,
   "id": "5d93fe3e",
   "metadata": {},
   "outputs": [],
   "source": [
    "renew_df_hierarchy = renew_df_hierarchy.replace(reset_cluster_number)"
   ]
  },
  {
   "cell_type": "code",
   "execution_count": 145,
   "id": "9319d21b",
   "metadata": {},
   "outputs": [
    {
     "data": {
      "text/html": [
       "<div>\n",
       "<style scoped>\n",
       "    .dataframe tbody tr th:only-of-type {\n",
       "        vertical-align: middle;\n",
       "    }\n",
       "\n",
       "    .dataframe tbody tr th {\n",
       "        vertical-align: top;\n",
       "    }\n",
       "\n",
       "    .dataframe thead th {\n",
       "        text-align: right;\n",
       "    }\n",
       "</style>\n",
       "<table border=\"1\" class=\"dataframe\">\n",
       "  <thead>\n",
       "    <tr style=\"text-align: right;\">\n",
       "      <th></th>\n",
       "      <th>식품명</th>\n",
       "      <th>대표식품명</th>\n",
       "      <th>식품대분류명</th>\n",
       "      <th>식품중분류명</th>\n",
       "      <th>에너지(kcal)</th>\n",
       "      <th>수분(g)</th>\n",
       "      <th>단백질(g)</th>\n",
       "      <th>지방(g)</th>\n",
       "      <th>회분(g)</th>\n",
       "      <th>탄수화물(g)</th>\n",
       "      <th>...</th>\n",
       "      <th>리보플라빈(mg)</th>\n",
       "      <th>니아신(mg)</th>\n",
       "      <th>비타민 C(mg)</th>\n",
       "      <th>비타민 D(μg)</th>\n",
       "      <th>콜레스테롤(mg)</th>\n",
       "      <th>포화지방산(g)</th>\n",
       "      <th>트랜스지방산(g)</th>\n",
       "      <th>label_kmeans</th>\n",
       "      <th>label_hierachy</th>\n",
       "      <th>label_hierarchy</th>\n",
       "    </tr>\n",
       "  </thead>\n",
       "  <tbody>\n",
       "    <tr>\n",
       "      <th>0</th>\n",
       "      <td>뱅어포구이</td>\n",
       "      <td>뱅어포구이</td>\n",
       "      <td>구이류</td>\n",
       "      <td>해당없음</td>\n",
       "      <td>374</td>\n",
       "      <td>18.4</td>\n",
       "      <td>34.37</td>\n",
       "      <td>15.17</td>\n",
       "      <td>6.96</td>\n",
       "      <td>25.07</td>\n",
       "      <td>...</td>\n",
       "      <td>0.114</td>\n",
       "      <td>0.0</td>\n",
       "      <td>0.00</td>\n",
       "      <td>10.2</td>\n",
       "      <td>469.76</td>\n",
       "      <td>3.00</td>\n",
       "      <td>0.11</td>\n",
       "      <td>4</td>\n",
       "      <td>0</td>\n",
       "      <td>NaN</td>\n",
       "    </tr>\n",
       "    <tr>\n",
       "      <th>1</th>\n",
       "      <td>건새우볶음</td>\n",
       "      <td>건새우볶음</td>\n",
       "      <td>볶음류</td>\n",
       "      <td>해당없음</td>\n",
       "      <td>304</td>\n",
       "      <td>28.1</td>\n",
       "      <td>41.55</td>\n",
       "      <td>12.95</td>\n",
       "      <td>12.00</td>\n",
       "      <td>5.40</td>\n",
       "      <td>...</td>\n",
       "      <td>0.350</td>\n",
       "      <td>0.0</td>\n",
       "      <td>12.75</td>\n",
       "      <td>0.0</td>\n",
       "      <td>387.95</td>\n",
       "      <td>1.75</td>\n",
       "      <td>0.10</td>\n",
       "      <td>4</td>\n",
       "      <td>0</td>\n",
       "      <td>NaN</td>\n",
       "    </tr>\n",
       "  </tbody>\n",
       "</table>\n",
       "<p>2 rows × 31 columns</p>\n",
       "</div>"
      ],
      "text/plain": [
       "     식품명  대표식품명 식품대분류명 식품중분류명  에너지(kcal)  수분(g)  단백질(g)  지방(g)  회분(g)  \\\n",
       "0  뱅어포구이  뱅어포구이    구이류   해당없음        374   18.4   34.37  15.17   6.96   \n",
       "1  건새우볶음  건새우볶음    볶음류   해당없음        304   28.1   41.55  12.95  12.00   \n",
       "\n",
       "   탄수화물(g)  ...  리보플라빈(mg)  니아신(mg)  비타민 C(mg)  비타민 D(μg)  콜레스테롤(mg)  \\\n",
       "0    25.07  ...      0.114      0.0       0.00       10.2     469.76   \n",
       "1     5.40  ...      0.350      0.0      12.75        0.0     387.95   \n",
       "\n",
       "   포화지방산(g)  트랜스지방산(g)  label_kmeans  label_hierachy  label_hierarchy  \n",
       "0      3.00       0.11             4               0              NaN  \n",
       "1      1.75       0.10             4               0              NaN  \n",
       "\n",
       "[2 rows x 31 columns]"
      ]
     },
     "execution_count": 145,
     "metadata": {},
     "output_type": "execute_result"
    }
   ],
   "source": [
    "renew_df_hierarchy.reset_index(inplace = True)\n",
    "renew_df_hierarchy.drop(['index'], axis = 1, inplace = True)\n",
    "renew_df_hierarchy.head(2)"
   ]
  },
  {
   "cell_type": "code",
   "execution_count": 146,
   "id": "3872ce44",
   "metadata": {},
   "outputs": [
    {
     "data": {
      "text/html": [
       "<div>\n",
       "<style scoped>\n",
       "    .dataframe tbody tr th:only-of-type {\n",
       "        vertical-align: middle;\n",
       "    }\n",
       "\n",
       "    .dataframe tbody tr th {\n",
       "        vertical-align: top;\n",
       "    }\n",
       "\n",
       "    .dataframe thead th {\n",
       "        text-align: right;\n",
       "    }\n",
       "</style>\n",
       "<table border=\"1\" class=\"dataframe\">\n",
       "  <thead>\n",
       "    <tr style=\"text-align: right;\">\n",
       "      <th></th>\n",
       "      <th>식품명</th>\n",
       "      <th>대표식품명</th>\n",
       "      <th>식품대분류명</th>\n",
       "      <th>식품중분류명</th>\n",
       "      <th>에너지(kcal)</th>\n",
       "      <th>수분(g)</th>\n",
       "      <th>단백질(g)</th>\n",
       "      <th>지방(g)</th>\n",
       "      <th>회분(g)</th>\n",
       "      <th>탄수화물(g)</th>\n",
       "      <th>...</th>\n",
       "      <th>리보플라빈(mg)</th>\n",
       "      <th>니아신(mg)</th>\n",
       "      <th>비타민 C(mg)</th>\n",
       "      <th>비타민 D(μg)</th>\n",
       "      <th>콜레스테롤(mg)</th>\n",
       "      <th>포화지방산(g)</th>\n",
       "      <th>트랜스지방산(g)</th>\n",
       "      <th>label_kmeans</th>\n",
       "      <th>label_hierachy</th>\n",
       "      <th>label_hierarchy</th>\n",
       "    </tr>\n",
       "  </thead>\n",
       "  <tbody>\n",
       "    <tr>\n",
       "      <th>0</th>\n",
       "      <td>뱅어포구이</td>\n",
       "      <td>뱅어포구이</td>\n",
       "      <td>구이류</td>\n",
       "      <td>해당없음</td>\n",
       "      <td>374</td>\n",
       "      <td>18.4</td>\n",
       "      <td>34.37</td>\n",
       "      <td>15.17</td>\n",
       "      <td>6.96</td>\n",
       "      <td>25.07</td>\n",
       "      <td>...</td>\n",
       "      <td>0.114</td>\n",
       "      <td>0.0</td>\n",
       "      <td>0.00</td>\n",
       "      <td>10.2</td>\n",
       "      <td>469.76</td>\n",
       "      <td>3.00</td>\n",
       "      <td>0.11</td>\n",
       "      <td>4</td>\n",
       "      <td>0</td>\n",
       "      <td>NaN</td>\n",
       "    </tr>\n",
       "    <tr>\n",
       "      <th>1</th>\n",
       "      <td>건새우볶음</td>\n",
       "      <td>건새우볶음</td>\n",
       "      <td>볶음류</td>\n",
       "      <td>해당없음</td>\n",
       "      <td>304</td>\n",
       "      <td>28.1</td>\n",
       "      <td>41.55</td>\n",
       "      <td>12.95</td>\n",
       "      <td>12.00</td>\n",
       "      <td>5.40</td>\n",
       "      <td>...</td>\n",
       "      <td>0.350</td>\n",
       "      <td>0.0</td>\n",
       "      <td>12.75</td>\n",
       "      <td>0.0</td>\n",
       "      <td>387.95</td>\n",
       "      <td>1.75</td>\n",
       "      <td>0.10</td>\n",
       "      <td>4</td>\n",
       "      <td>0</td>\n",
       "      <td>NaN</td>\n",
       "    </tr>\n",
       "  </tbody>\n",
       "</table>\n",
       "<p>2 rows × 31 columns</p>\n",
       "</div>"
      ],
      "text/plain": [
       "     식품명  대표식품명 식품대분류명 식품중분류명  에너지(kcal)  수분(g)  단백질(g)  지방(g)  회분(g)  \\\n",
       "0  뱅어포구이  뱅어포구이    구이류   해당없음        374   18.4   34.37  15.17   6.96   \n",
       "1  건새우볶음  건새우볶음    볶음류   해당없음        304   28.1   41.55  12.95  12.00   \n",
       "\n",
       "   탄수화물(g)  ...  리보플라빈(mg)  니아신(mg)  비타민 C(mg)  비타민 D(μg)  콜레스테롤(mg)  \\\n",
       "0    25.07  ...      0.114      0.0       0.00       10.2     469.76   \n",
       "1     5.40  ...      0.350      0.0      12.75        0.0     387.95   \n",
       "\n",
       "   포화지방산(g)  트랜스지방산(g)  label_kmeans  label_hierachy  label_hierarchy  \n",
       "0      3.00       0.11             4               0              NaN  \n",
       "1      1.75       0.10             4               0              NaN  \n",
       "\n",
       "[2 rows x 31 columns]"
      ]
     },
     "execution_count": 146,
     "metadata": {},
     "output_type": "execute_result"
    }
   ],
   "source": [
    "renew_df_hierarchy.head(2)"
   ]
  },
  {
   "cell_type": "code",
   "execution_count": 147,
   "id": "252eb20d",
   "metadata": {},
   "outputs": [],
   "source": [
    "renew_df_hierarchy = renew_df_hierarchy[['식품명', '대표식품명', '식품대분류명', '식품중분류명', 'label_hierachy']]"
   ]
  },
  {
   "cell_type": "code",
   "execution_count": 148,
   "id": "949527f4",
   "metadata": {},
   "outputs": [
    {
     "data": {
      "text/html": [
       "<div>\n",
       "<style scoped>\n",
       "    .dataframe tbody tr th:only-of-type {\n",
       "        vertical-align: middle;\n",
       "    }\n",
       "\n",
       "    .dataframe tbody tr th {\n",
       "        vertical-align: top;\n",
       "    }\n",
       "\n",
       "    .dataframe thead th {\n",
       "        text-align: right;\n",
       "    }\n",
       "</style>\n",
       "<table border=\"1\" class=\"dataframe\">\n",
       "  <thead>\n",
       "    <tr style=\"text-align: right;\">\n",
       "      <th></th>\n",
       "      <th>식품명</th>\n",
       "      <th>대표식품명</th>\n",
       "      <th>식품대분류명</th>\n",
       "      <th>식품중분류명</th>\n",
       "      <th>label_hierarchy</th>\n",
       "    </tr>\n",
       "  </thead>\n",
       "  <tbody>\n",
       "    <tr>\n",
       "      <th>0</th>\n",
       "      <td>뱅어포구이</td>\n",
       "      <td>뱅어포구이</td>\n",
       "      <td>구이류</td>\n",
       "      <td>해당없음</td>\n",
       "      <td>0</td>\n",
       "    </tr>\n",
       "    <tr>\n",
       "      <th>1</th>\n",
       "      <td>건새우볶음</td>\n",
       "      <td>건새우볶음</td>\n",
       "      <td>볶음류</td>\n",
       "      <td>해당없음</td>\n",
       "      <td>0</td>\n",
       "    </tr>\n",
       "  </tbody>\n",
       "</table>\n",
       "</div>"
      ],
      "text/plain": [
       "     식품명  대표식품명 식품대분류명 식품중분류명  label_hierarchy\n",
       "0  뱅어포구이  뱅어포구이    구이류   해당없음                0\n",
       "1  건새우볶음  건새우볶음    볶음류   해당없음                0"
      ]
     },
     "execution_count": 148,
     "metadata": {},
     "output_type": "execute_result"
    }
   ],
   "source": [
    "renew_df_hierarchy.rename(columns = {'label_hierachy' : 'label_hierarchy'}, inplace = True)\n",
    "renew_df_hierarchy.head(2)"
   ]
  },
  {
   "cell_type": "code",
   "execution_count": 149,
   "id": "3b63e8ca",
   "metadata": {},
   "outputs": [],
   "source": [
    "renew_df_hierarchy.to_csv('renew_labeling_of_hierarchy.csv')"
   ]
  },
  {
   "cell_type": "code",
   "execution_count": 150,
   "id": "82b5eab2",
   "metadata": {},
   "outputs": [
    {
     "data": {
      "text/plain": [
       "46"
      ]
     },
     "execution_count": 150,
     "metadata": {},
     "output_type": "execute_result"
    }
   ],
   "source": [
    "len(renew_df_hierarchy) - len(renew_df_hierarchy['식품명'].unique())"
   ]
  },
  {
   "cell_type": "markdown",
   "id": "35533b9a",
   "metadata": {},
   "source": [
    "### 같은 이름을 가진 음식끼리의 클러스터 확인 후 둘 중 하나 빼기"
   ]
  },
  {
   "cell_type": "code",
   "execution_count": 151,
   "id": "e91f981a",
   "metadata": {
    "scrolled": false
   },
   "outputs": [
    {
     "data": {
      "text/plain": [
       "775"
      ]
     },
     "execution_count": 151,
     "metadata": {},
     "output_type": "execute_result"
    }
   ],
   "source": [
    "len(renew_df_hierarchy['식품명'].unique())"
   ]
  },
  {
   "cell_type": "code",
   "execution_count": 152,
   "id": "67d3fe6f",
   "metadata": {
    "scrolled": true
   },
   "outputs": [
    {
     "data": {
      "text/plain": [
       "['멸치볶음_풋고추',\n",
       " '김밥_김치',\n",
       " '김밥_쇠고기',\n",
       " '김밥_참치',\n",
       " '덮밥_불고기',\n",
       " '볶음밥_새우',\n",
       " '비빔밥',\n",
       " '삼각김밥_참치마요네즈',\n",
       " '자장밥',\n",
       " '초밥_유부초밥',\n",
       " '간자장',\n",
       " '자장면',\n",
       " '청국장찌개',\n",
       " '국수_막국수',\n",
       " '떡만두국',\n",
       " '우동_일식',\n",
       " '스프_양송이',\n",
       " '감자국',\n",
       " '곰탕',\n",
       " '김치국',\n",
       " '된장국_시래기',\n",
       " '매운탕_대구',\n",
       " '무국_쇠고기',\n",
       " '미역국_쇠고기',\n",
       " '순대국',\n",
       " '해장국_뼈다귀',\n",
       " '해장국_선지',\n",
       " '김치찌개_햄',\n",
       " '부대찌개',\n",
       " '샤브샤브_쇠고기',\n",
       " '추어탕',\n",
       " '아귀찜',\n",
       " '볶음밥_김치',\n",
       " '만두_고기만두',\n",
       " '만두_김치만두',\n",
       " '연근조림',\n",
       " '콩조림(콩자반)',\n",
       " '덮밥_돼지고기(제육)',\n",
       " '초밥_모듬',\n",
       " '갈비찜_쇠고기',\n",
       " '순대',\n",
       " '족발',\n",
       " '채소전',\n",
       " '소시지볶음',\n",
       " '장조림_쇠고기_메추리알',\n",
       " '샌드위치_참치']"
      ]
     },
     "execution_count": 152,
     "metadata": {},
     "output_type": "execute_result"
    }
   ],
   "source": [
    "ls = list(renew_df_hierarchy['식품명'])\n",
    "\n",
    "for i in list(renew_df_hierarchy['식품명'].unique()) : \n",
    "    if i in ls : \n",
    "        ls.remove(i)\n",
    "ls"
   ]
  },
  {
   "cell_type": "code",
   "execution_count": 153,
   "id": "8b3b3c52",
   "metadata": {},
   "outputs": [
    {
     "data": {
      "text/plain": [
       "46"
      ]
     },
     "execution_count": 153,
     "metadata": {},
     "output_type": "execute_result"
    }
   ],
   "source": [
    "len(ls)"
   ]
  },
  {
   "cell_type": "code",
   "execution_count": 154,
   "id": "7964b1d9",
   "metadata": {},
   "outputs": [
    {
     "data": {
      "text/plain": [
       "'샌드위치_참치'"
      ]
     },
     "execution_count": 154,
     "metadata": {},
     "output_type": "execute_result"
    }
   ],
   "source": [
    "ls[45]"
   ]
  },
  {
   "cell_type": "code",
   "execution_count": 155,
   "id": "6f186036",
   "metadata": {},
   "outputs": [
    {
     "data": {
      "text/plain": [
       "805    29\n",
       "813    33\n",
       "Name: label_hierarchy, dtype: int64"
      ]
     },
     "execution_count": 155,
     "metadata": {},
     "output_type": "execute_result"
    }
   ],
   "source": [
    "#두 개씩 겹치는 것은 있으나 세 개 이상의 항목이 서로 겹치지 않는 것을 확인하였다.\n",
    "#ls에 들어있는 식품을 각각 확인하여 어울리지 않는 클러스터에 있다면 제거하기\n",
    "\n",
    "label = renew_df_hierarchy[renew_df_hierarchy['식품명'] == ls[45]]['label_hierarchy']\n",
    "label"
   ]
  },
  {
   "cell_type": "code",
   "execution_count": 156,
   "id": "17a8655f",
   "metadata": {
    "scrolled": true
   },
   "outputs": [
    {
     "data": {
      "text/plain": [
       "['덮밥_돼지고기(제육)',\n",
       " '볶음밥_쇠고기',\n",
       " '초밥_모듬',\n",
       " '만두_물만두',\n",
       " '김치찌개_꽁치',\n",
       " '된장찌개_달래',\n",
       " '오리탕',\n",
       " '달걀찜_우유',\n",
       " '불고기_오리',\n",
       " '버섯전_표고버섯',\n",
       " '돼지고기볶음_김치',\n",
       " '마파두부',\n",
       " '삼겹살볶음_묵은지',\n",
       " '쇠고기볶음_버섯',\n",
       " '고등어조림',\n",
       " '닭조림_고추장',\n",
       " '삼치조림',\n",
       " '덮밥_장어',\n",
       " '스파게티_크림소스',\n",
       " '스파게티_해물_크림소스',\n",
       " '곰치국',\n",
       " '매운탕_광어',\n",
       " '매운탕_조기',\n",
       " '꽁치찌개',\n",
       " '매운탕_우럭',\n",
       " '순대',\n",
       " '고추전',\n",
       " '굴전',\n",
       " '녹두빈대떡',\n",
       " '채소전',\n",
       " '화양적',\n",
       " '조기조림',\n",
       " '고추튀김',\n",
       " '샌드위치_참치']"
      ]
     },
     "execution_count": 156,
     "metadata": {},
     "output_type": "execute_result"
    }
   ],
   "source": [
    "list(renew_df_hierarchy[renew_df_hierarchy['label_hierarchy'] == label.unique()[0]]['식품명'])"
   ]
  },
  {
   "cell_type": "code",
   "execution_count": 157,
   "id": "dbde4141",
   "metadata": {
    "scrolled": true
   },
   "outputs": [
    {
     "data": {
      "text/plain": [
       "['만두_군만두',\n",
       " '완자전_해물',\n",
       " '소시지볶음',\n",
       " '어묵볶음',\n",
       " '미트볼조림',\n",
       " '초밥_장어',\n",
       " '꼬치구이_닭고기',\n",
       " '닭튀김(치킨)_양념',\n",
       " '소시지볶음',\n",
       " '샌드위치_닭가슴살',\n",
       " '피자_콤비네이션피자',\n",
       " '햄버거',\n",
       " '햄버거_불고기버거',\n",
       " '샌드위치_닭고기',\n",
       " '샌드위치_생선',\n",
       " '샌드위치_소고기',\n",
       " '샌드위치_참치',\n",
       " '샌드위치_햄_치즈_채소',\n",
       " '피자_불고기피자',\n",
       " '피자_치즈피자',\n",
       " '피자_페퍼로니피자',\n",
       " '피자_포테이토피자',\n",
       " '햄버거_소고기패티',\n",
       " '햄버거_소고기패티_토마토_양상추']"
      ]
     },
     "execution_count": 157,
     "metadata": {},
     "output_type": "execute_result"
    }
   ],
   "source": [
    "list(renew_df_hierarchy[renew_df_hierarchy['label_hierarchy'] == label.unique()[1]]['식품명'])"
   ]
  },
  {
   "cell_type": "markdown",
   "id": "6b925447",
   "metadata": {},
   "source": [
    "### 중복은 따로 모두 제거하였다. 중복된 음식명이 있는지 다시 한 번 확인해보자"
   ]
  },
  {
   "cell_type": "code",
   "execution_count": 158,
   "id": "b26de001",
   "metadata": {},
   "outputs": [
    {
     "data": {
      "text/html": [
       "<div>\n",
       "<style scoped>\n",
       "    .dataframe tbody tr th:only-of-type {\n",
       "        vertical-align: middle;\n",
       "    }\n",
       "\n",
       "    .dataframe tbody tr th {\n",
       "        vertical-align: top;\n",
       "    }\n",
       "\n",
       "    .dataframe thead th {\n",
       "        text-align: right;\n",
       "    }\n",
       "</style>\n",
       "<table border=\"1\" class=\"dataframe\">\n",
       "  <thead>\n",
       "    <tr style=\"text-align: right;\">\n",
       "      <th></th>\n",
       "      <th>식품명</th>\n",
       "      <th>대표식품명</th>\n",
       "      <th>식품대분류명</th>\n",
       "      <th>식품중분류명</th>\n",
       "      <th>label_hierarchy</th>\n",
       "      <th>음식분류</th>\n",
       "      <th>국물여부</th>\n",
       "      <th>맵기여부</th>\n",
       "    </tr>\n",
       "  </thead>\n",
       "  <tbody>\n",
       "    <tr>\n",
       "      <th>0</th>\n",
       "      <td>건새우볶음</td>\n",
       "      <td>건새우볶음</td>\n",
       "      <td>볶음류</td>\n",
       "      <td>해당없음</td>\n",
       "      <td>0</td>\n",
       "      <td>한식</td>\n",
       "      <td>0</td>\n",
       "      <td>0</td>\n",
       "    </tr>\n",
       "    <tr>\n",
       "      <th>1</th>\n",
       "      <td>멸치볶음</td>\n",
       "      <td>멸치볶음</td>\n",
       "      <td>볶음류</td>\n",
       "      <td>해당없음</td>\n",
       "      <td>0</td>\n",
       "      <td>한식</td>\n",
       "      <td>0</td>\n",
       "      <td>0</td>\n",
       "    </tr>\n",
       "    <tr>\n",
       "      <th>2</th>\n",
       "      <td>멸치볶음_견과류</td>\n",
       "      <td>멸치볶음</td>\n",
       "      <td>볶음류</td>\n",
       "      <td>견과류</td>\n",
       "      <td>0</td>\n",
       "      <td>한식</td>\n",
       "      <td>0</td>\n",
       "      <td>0</td>\n",
       "    </tr>\n",
       "    <tr>\n",
       "      <th>3</th>\n",
       "      <td>멸치볶음_꽈리고추</td>\n",
       "      <td>멸치볶음</td>\n",
       "      <td>볶음류</td>\n",
       "      <td>꽈리고추</td>\n",
       "      <td>0</td>\n",
       "      <td>한식</td>\n",
       "      <td>0</td>\n",
       "      <td>0</td>\n",
       "    </tr>\n",
       "    <tr>\n",
       "      <th>4</th>\n",
       "      <td>멸치볶음_마늘쫑</td>\n",
       "      <td>멸치볶음</td>\n",
       "      <td>볶음류</td>\n",
       "      <td>마늘쫑</td>\n",
       "      <td>0</td>\n",
       "      <td>한식</td>\n",
       "      <td>0</td>\n",
       "      <td>0</td>\n",
       "    </tr>\n",
       "  </tbody>\n",
       "</table>\n",
       "</div>"
      ],
      "text/plain": [
       "         식품명  대표식품명 식품대분류명 식품중분류명  label_hierarchy 음식분류  국물여부  맵기여부\n",
       "0      건새우볶음  건새우볶음    볶음류   해당없음                0   한식     0     0\n",
       "1       멸치볶음   멸치볶음    볶음류   해당없음                0   한식     0     0\n",
       "2   멸치볶음_견과류   멸치볶음    볶음류    견과류                0   한식     0     0\n",
       "3  멸치볶음_꽈리고추   멸치볶음    볶음류   꽈리고추                0   한식     0     0\n",
       "4   멸치볶음_마늘쫑   멸치볶음    볶음류    마늘쫑                0   한식     0     0"
      ]
     },
     "execution_count": 158,
     "metadata": {},
     "output_type": "execute_result"
    }
   ],
   "source": [
    "label_df = pd.read_csv(path + 'label_hierarchy_post_processing2.csv', encoding = 'cp949')\n",
    "label_df.head()"
   ]
  },
  {
   "cell_type": "code",
   "execution_count": 159,
   "id": "499f3b30",
   "metadata": {},
   "outputs": [
    {
     "data": {
      "text/plain": [
       "654"
      ]
     },
     "execution_count": 159,
     "metadata": {},
     "output_type": "execute_result"
    }
   ],
   "source": [
    "len(label_df['식품명'].unique())"
   ]
  },
  {
   "cell_type": "code",
   "execution_count": 160,
   "id": "deb27095",
   "metadata": {},
   "outputs": [
    {
     "data": {
      "text/plain": [
       "654"
      ]
     },
     "execution_count": 160,
     "metadata": {},
     "output_type": "execute_result"
    }
   ],
   "source": [
    "len(label_df)"
   ]
  },
  {
   "cell_type": "code",
   "execution_count": 161,
   "id": "a4481214",
   "metadata": {
    "scrolled": true
   },
   "outputs": [
    {
     "data": {
      "text/plain": [
       "[]"
      ]
     },
     "execution_count": 161,
     "metadata": {},
     "output_type": "execute_result"
    }
   ],
   "source": [
    "ls = list(label_df['식품명'])\n",
    "\n",
    "for i in list(label_df['식품명'].unique()) : \n",
    "    if i in ls : \n",
    "        ls.remove(i)\n",
    "ls"
   ]
  },
  {
   "cell_type": "markdown",
   "id": "c6e9dae0",
   "metadata": {},
   "source": [
    "중복 처리가 완료되었다."
   ]
  },
  {
   "cell_type": "markdown",
   "id": "673a4182",
   "metadata": {},
   "source": [
    "### 0~34로 나눈 label_hierarchy에 대한 big_label 병합을 진행하자"
   ]
  },
  {
   "cell_type": "code",
   "execution_count": 162,
   "id": "182f6325",
   "metadata": {},
   "outputs": [
    {
     "data": {
      "text/html": [
       "<div>\n",
       "<style scoped>\n",
       "    .dataframe tbody tr th:only-of-type {\n",
       "        vertical-align: middle;\n",
       "    }\n",
       "\n",
       "    .dataframe tbody tr th {\n",
       "        vertical-align: top;\n",
       "    }\n",
       "\n",
       "    .dataframe thead th {\n",
       "        text-align: right;\n",
       "    }\n",
       "</style>\n",
       "<table border=\"1\" class=\"dataframe\">\n",
       "  <thead>\n",
       "    <tr style=\"text-align: right;\">\n",
       "      <th></th>\n",
       "      <th>식품명</th>\n",
       "      <th>대표식품명</th>\n",
       "      <th>식품대분류명</th>\n",
       "      <th>식품중분류명</th>\n",
       "      <th>big_big_label</th>\n",
       "      <th>label_hierarchy</th>\n",
       "      <th>음식분류</th>\n",
       "      <th>국물여부</th>\n",
       "      <th>맵기여부</th>\n",
       "    </tr>\n",
       "  </thead>\n",
       "  <tbody>\n",
       "    <tr>\n",
       "      <th>0</th>\n",
       "      <td>건새우볶음</td>\n",
       "      <td>건새우볶음</td>\n",
       "      <td>볶음류</td>\n",
       "      <td>해당없음</td>\n",
       "      <td>1</td>\n",
       "      <td>0</td>\n",
       "      <td>한식</td>\n",
       "      <td>0</td>\n",
       "      <td>0</td>\n",
       "    </tr>\n",
       "    <tr>\n",
       "      <th>1</th>\n",
       "      <td>멸치볶음</td>\n",
       "      <td>멸치볶음</td>\n",
       "      <td>볶음류</td>\n",
       "      <td>해당없음</td>\n",
       "      <td>1</td>\n",
       "      <td>0</td>\n",
       "      <td>한식</td>\n",
       "      <td>0</td>\n",
       "      <td>0</td>\n",
       "    </tr>\n",
       "    <tr>\n",
       "      <th>2</th>\n",
       "      <td>멸치볶음_견과류</td>\n",
       "      <td>멸치볶음</td>\n",
       "      <td>볶음류</td>\n",
       "      <td>견과류</td>\n",
       "      <td>1</td>\n",
       "      <td>0</td>\n",
       "      <td>한식</td>\n",
       "      <td>0</td>\n",
       "      <td>0</td>\n",
       "    </tr>\n",
       "    <tr>\n",
       "      <th>3</th>\n",
       "      <td>멸치볶음_꽈리고추</td>\n",
       "      <td>멸치볶음</td>\n",
       "      <td>볶음류</td>\n",
       "      <td>꽈리고추</td>\n",
       "      <td>1</td>\n",
       "      <td>0</td>\n",
       "      <td>한식</td>\n",
       "      <td>0</td>\n",
       "      <td>0</td>\n",
       "    </tr>\n",
       "    <tr>\n",
       "      <th>4</th>\n",
       "      <td>멸치볶음_마늘쫑</td>\n",
       "      <td>멸치볶음</td>\n",
       "      <td>볶음류</td>\n",
       "      <td>마늘쫑</td>\n",
       "      <td>1</td>\n",
       "      <td>0</td>\n",
       "      <td>한식</td>\n",
       "      <td>0</td>\n",
       "      <td>0</td>\n",
       "    </tr>\n",
       "  </tbody>\n",
       "</table>\n",
       "</div>"
      ],
      "text/plain": [
       "         식품명  대표식품명 식품대분류명 식품중분류명  big_big_label  label_hierarchy 음식분류  국물여부  \\\n",
       "0      건새우볶음  건새우볶음    볶음류   해당없음              1                0   한식     0   \n",
       "1       멸치볶음   멸치볶음    볶음류   해당없음              1                0   한식     0   \n",
       "2   멸치볶음_견과류   멸치볶음    볶음류    견과류              1                0   한식     0   \n",
       "3  멸치볶음_꽈리고추   멸치볶음    볶음류   꽈리고추              1                0   한식     0   \n",
       "4   멸치볶음_마늘쫑   멸치볶음    볶음류    마늘쫑              1                0   한식     0   \n",
       "\n",
       "   맵기여부  \n",
       "0     0  \n",
       "1     0  \n",
       "2     0  \n",
       "3     0  \n",
       "4     0  "
      ]
     },
     "execution_count": 162,
     "metadata": {},
     "output_type": "execute_result"
    }
   ],
   "source": [
    "sub2big_transform = [( 0, 1), ( 1, 3), ( 2, 7), ( 3, 8), ( 4, 5), ( 5, 2), ( 6, 2), ( 7, 2), ( 8, 2), ( 9, 2), (10, 2), (11, 2), (12, 6), (13, 6), (14, 6), (15, 6), (16, 6), (17, 6), (18, 6), (19, 6), (20, 6), (21, 4), (22, 4), (23, 4), (24, 4), (25, 4), (26, 4), (27, 4), (28, 0), (29, 0), (30, 0), (31, 0), (32, 0), (33, 0), (34, 0)]\n",
    "\n",
    "transform_hashmap = {}\n",
    "for s, b in sub2big_transform:\n",
    "  transform_hashmap[s] = b\n",
    "\n",
    "big_big_label = []\n",
    "for s in label_df['label_hierarchy']:\n",
    "  big_big_label.append(transform_hashmap[s])\n",
    "\n",
    "label_df['big_big_label'] = big_big_label\n",
    "label_df = label_df[['식품명', '대표식품명', '식품대분류명', '식품중분류명', 'big_big_label', 'label_hierarchy', '음식분류', '국물여부', '맵기여부']]\n",
    "label_df.head()"
   ]
  },
  {
   "cell_type": "markdown",
   "id": "fff36d0c",
   "metadata": {},
   "source": [
    "# 최종 선택된 데이터는 어떤 형태일까?\n",
    "사용자가 어떤 column을 선택해야, 가장 좋은 분할(모든 분할의 크기가 비슷한 분할)을 만들 수 있는지 확인한다."
   ]
  },
  {
   "cell_type": "code",
   "execution_count": 163,
   "id": "60c8f746",
   "metadata": {},
   "outputs": [
    {
     "data": {
      "text/html": [
       "<div>\n",
       "<style scoped>\n",
       "    .dataframe tbody tr th:only-of-type {\n",
       "        vertical-align: middle;\n",
       "    }\n",
       "\n",
       "    .dataframe tbody tr th {\n",
       "        vertical-align: top;\n",
       "    }\n",
       "\n",
       "    .dataframe thead th {\n",
       "        text-align: right;\n",
       "    }\n",
       "</style>\n",
       "<table border=\"1\" class=\"dataframe\">\n",
       "  <thead>\n",
       "    <tr style=\"text-align: right;\">\n",
       "      <th></th>\n",
       "      <th>식품명</th>\n",
       "      <th>대표식품명</th>\n",
       "      <th>식품대분류명</th>\n",
       "      <th>식품중분류명</th>\n",
       "      <th>big_big_label</th>\n",
       "      <th>label_hierarchy</th>\n",
       "      <th>음식분류</th>\n",
       "      <th>국물여부</th>\n",
       "      <th>맵기여부</th>\n",
       "    </tr>\n",
       "  </thead>\n",
       "  <tbody>\n",
       "    <tr>\n",
       "      <th>0</th>\n",
       "      <td>건새우볶음</td>\n",
       "      <td>건새우볶음</td>\n",
       "      <td>볶음류</td>\n",
       "      <td>해당없음</td>\n",
       "      <td>1</td>\n",
       "      <td>0</td>\n",
       "      <td>한식</td>\n",
       "      <td>0</td>\n",
       "      <td>0</td>\n",
       "    </tr>\n",
       "    <tr>\n",
       "      <th>1</th>\n",
       "      <td>멸치볶음</td>\n",
       "      <td>멸치볶음</td>\n",
       "      <td>볶음류</td>\n",
       "      <td>해당없음</td>\n",
       "      <td>1</td>\n",
       "      <td>0</td>\n",
       "      <td>한식</td>\n",
       "      <td>0</td>\n",
       "      <td>0</td>\n",
       "    </tr>\n",
       "    <tr>\n",
       "      <th>2</th>\n",
       "      <td>멸치볶음_견과류</td>\n",
       "      <td>멸치볶음</td>\n",
       "      <td>볶음류</td>\n",
       "      <td>견과류</td>\n",
       "      <td>1</td>\n",
       "      <td>0</td>\n",
       "      <td>한식</td>\n",
       "      <td>0</td>\n",
       "      <td>0</td>\n",
       "    </tr>\n",
       "    <tr>\n",
       "      <th>3</th>\n",
       "      <td>멸치볶음_꽈리고추</td>\n",
       "      <td>멸치볶음</td>\n",
       "      <td>볶음류</td>\n",
       "      <td>꽈리고추</td>\n",
       "      <td>1</td>\n",
       "      <td>0</td>\n",
       "      <td>한식</td>\n",
       "      <td>0</td>\n",
       "      <td>0</td>\n",
       "    </tr>\n",
       "    <tr>\n",
       "      <th>4</th>\n",
       "      <td>멸치볶음_마늘쫑</td>\n",
       "      <td>멸치볶음</td>\n",
       "      <td>볶음류</td>\n",
       "      <td>마늘쫑</td>\n",
       "      <td>1</td>\n",
       "      <td>0</td>\n",
       "      <td>한식</td>\n",
       "      <td>0</td>\n",
       "      <td>0</td>\n",
       "    </tr>\n",
       "  </tbody>\n",
       "</table>\n",
       "</div>"
      ],
      "text/plain": [
       "         식품명  대표식품명 식품대분류명 식품중분류명  big_big_label  label_hierarchy 음식분류  국물여부  \\\n",
       "0      건새우볶음  건새우볶음    볶음류   해당없음              1                0   한식     0   \n",
       "1       멸치볶음   멸치볶음    볶음류   해당없음              1                0   한식     0   \n",
       "2   멸치볶음_견과류   멸치볶음    볶음류    견과류              1                0   한식     0   \n",
       "3  멸치볶음_꽈리고추   멸치볶음    볶음류   꽈리고추              1                0   한식     0   \n",
       "4   멸치볶음_마늘쫑   멸치볶음    볶음류    마늘쫑              1                0   한식     0   \n",
       "\n",
       "   맵기여부  \n",
       "0     0  \n",
       "1     0  \n",
       "2     0  \n",
       "3     0  \n",
       "4     0  "
      ]
     },
     "execution_count": 163,
     "metadata": {},
     "output_type": "execute_result"
    }
   ],
   "source": [
    "data = pd.read_csv(path + 'big_big_label.csv', encoding = 'cp949')\n",
    "data.head()"
   ]
  },
  {
   "cell_type": "code",
   "execution_count": 164,
   "id": "8302297f",
   "metadata": {},
   "outputs": [
    {
     "name": "stdout",
     "output_type": "stream",
     "text": [
      "[0, '한식', 0, 0] count: 11\n",
      "[1, '일식', 0, 0] count: 1\n",
      "[1, '한식', 0, 0] count: 4\n",
      "[1, '한식', 0, 1] count: 1\n",
      "[2, '한식', 0, 0] count: 3\n",
      "[2, '한식', 0, 1] count: 1\n",
      "[3, '한식', 1, 0] count: 3\n",
      "[4, '패스트푸드', 0, 0] count: 1\n",
      "[5, '분식', 0, 0] count: 6\n",
      "[5, '분식', 0, 1] count: 2\n",
      "[5, '분식', 1, 1] count: 3\n",
      "[5, '양식', 0, 0] count: 1\n",
      "[5, '일식', 0, 0] count: 5\n",
      "[5, '중식', 0, 0] count: 7\n",
      "[5, '패스트푸드', 0, 0] count: 2\n",
      "[5, '패스트푸드', 0, 1] count: 1\n",
      "[5, '패스트푸드', 1, 1] count: 5\n",
      "[5, '한식', 0, 0] count: 36\n",
      "[5, '한식', 0, 1] count: 1\n",
      "[6, '양식', 1, 0] count: 1\n",
      "[6, '중식', 0, 0] count: 5\n",
      "[6, '한식', 0, 0] count: 28\n",
      "[6, '한식', 0, 1] count: 3\n",
      "[6, '한식', 1, 0] count: 1\n",
      "[7, '분식', 0, 1] count: 3\n",
      "[7, '분식', 1, 1] count: 1\n",
      "[7, '양식', 0, 0] count: 8\n",
      "[7, '한식', 0, 0] count: 10\n",
      "[8, '분식', 0, 1] count: 1\n",
      "[8, '양식', 0, 0] count: 2\n",
      "[8, '일식', 0, 0] count: 10\n",
      "[8, '중식', 0, 0] count: 3\n",
      "[8, '한식', 0, 0] count: 11\n",
      "[8, '한식', 0, 1] count: 1\n",
      "[9, '분식', 0, 0] count: 1\n",
      "[9, '양식', 0, 0] count: 1\n",
      "[9, '일식', 0, 0] count: 1\n",
      "[9, '중식', 0, 0] count: 4\n",
      "[9, '한식', 0, 0] count: 21\n",
      "[9, '한식', 1, 0] count: 2\n",
      "[10, '한식', 0, 0] count: 1\n",
      "[11, '중식', 0, 0] count: 1\n",
      "[11, '한식', 0, 0] count: 14\n",
      "[12, '일식', 1, 0] count: 1\n",
      "[12, '한식', 0, 0] count: 7\n",
      "[12, '한식', 1, 0] count: 16\n",
      "[13, '한식', 0, 0] count: 3\n",
      "[13, '한식', 1, 0] count: 26\n",
      "[13, '한식', 1, 1] count: 3\n",
      "[14, '한식', 1, 0] count: 17\n",
      "[15, '기타', 1, 0] count: 1\n",
      "[15, '분식', 1, 0] count: 1\n",
      "[15, '양식', 1, 0] count: 1\n",
      "[15, '일식', 0, 0] count: 1\n",
      "[15, '일식', 1, 0] count: 3\n",
      "[15, '중식', 1, 0] count: 1\n",
      "[15, '중식', 1, 1] count: 2\n",
      "[15, '패스트푸드', 1, 1] count: 1\n",
      "[15, '한식', 0, 0] count: 2\n",
      "[15, '한식', 1, 0] count: 11\n",
      "[15, '한식', 1, 1] count: 1\n",
      "[16, '일식', 1, 0] count: 1\n",
      "[16, '한식', 0, 0] count: 2\n",
      "[16, '한식', 1, 0] count: 3\n",
      "[17, '중식', 0, 1] count: 1\n",
      "[17, '중식', 1, 1] count: 1\n",
      "[17, '한식', 0, 0] count: 11\n",
      "[17, '한식', 1, 0] count: 9\n",
      "[18, '양식', 1, 0] count: 1\n",
      "[18, '한식', 0, 0] count: 1\n",
      "[18, '한식', 1, 0] count: 36\n",
      "[18, '한식', 1, 1] count: 4\n",
      "[19, '한식', 0, 0] count: 1\n",
      "[19, '한식', 1, 0] count: 7\n",
      "[20, '양식', 1, 0] count: 3\n",
      "[20, '한식', 1, 0] count: 12\n",
      "[20, '한식', 1, 1] count: 1\n",
      "[21, '분식', 0, 0] count: 1\n",
      "[21, '양식', 0, 0] count: 1\n",
      "[21, '중식', 0, 0] count: 1\n",
      "[21, '패스트푸드', 0, 0] count: 3\n",
      "[21, '한식', 0, 0] count: 6\n",
      "[22, '분식', 0, 0] count: 4\n",
      "[22, '양식', 0, 0] count: 7\n",
      "[22, '양식', 0, 1] count: 2\n",
      "[22, '중식', 0, 0] count: 3\n",
      "[22, '한식', 0, 0] count: 4\n",
      "[23, '일식', 0, 0] count: 1\n",
      "[23, '패스트푸드', 0, 0] count: 2\n",
      "[23, '한식', 0, 0] count: 1\n",
      "[24, '한식', 0, 0] count: 3\n",
      "[25, '분식', 0, 1] count: 1\n",
      "[25, '패스트푸드', 0, 1] count: 1\n",
      "[25, '한식', 0, 0] count: 6\n",
      "[26, '분식', 0, 0] count: 1\n",
      "[26, '중식', 0, 0] count: 1\n",
      "[26, '패스트푸드', 0, 0] count: 3\n",
      "[26, '한식', 0, 0] count: 5\n",
      "[27, '분식', 0, 0] count: 1\n",
      "[27, '양식', 0, 0] count: 5\n",
      "[27, '패스트푸드', 0, 0] count: 30\n",
      "[27, '패스트푸드', 0, 1] count: 2\n",
      "[27, '한식', 0, 0] count: 1\n",
      "[28, '양식', 0, 0] count: 3\n",
      "[28, '일식', 0, 0] count: 1\n",
      "[28, '중식', 0, 0] count: 2\n",
      "[28, '한식', 0, 0] count: 10\n",
      "[28, '한식', 1, 0] count: 7\n",
      "[29, '양식', 0, 0] count: 2\n",
      "[29, '일식', 0, 0] count: 6\n",
      "[29, '중식', 0, 0] count: 1\n",
      "[29, '패스트푸드', 0, 0] count: 12\n",
      "[29, '한식', 0, 0] count: 11\n",
      "[30, '한식', 0, 0] count: 9\n",
      "[30, '한식', 0, 1] count: 1\n",
      "[31, '양식', 0, 0] count: 2\n",
      "[31, '한식', 0, 0] count: 20\n",
      "[31, '한식', 1, 0] count: 1\n",
      "[32, '양식', 0, 0] count: 7\n",
      "[32, '일식', 0, 0] count: 1\n",
      "[32, '패스트푸드', 0, 0] count: 3\n",
      "[32, '한식', 0, 0] count: 4\n",
      "[33, '한식', 0, 0] count: 23\n",
      "[34, '양식', 0, 0] count: 2\n",
      "[34, '중식', 0, 0] count: 1\n",
      "[34, '한식', 0, 0] count: 9\n",
      "max count: 36\n",
      "valid group count: 126\n",
      "possible group count: 980\n"
     ]
    }
   ],
   "source": [
    "count = 0\n",
    "max_count = 0\n",
    "data_count = 0\n",
    "data_over10s = []\n",
    "\n",
    "def nextPermutation(df, tags, tag_index, selected, func):\n",
    "  if tag_index == len(tags):\n",
    "    func(df, tags, selected)\n",
    "    return\n",
    "\n",
    "  for value in sorted(df[tags[tag_index]].unique()):\n",
    "    selected.append(value)\n",
    "    nextPermutation(df, tags, tag_index + 1, selected, func)\n",
    "    selected.pop(-1)\n",
    "\n",
    "def printDf(df, tags, selected):\n",
    "  global count\n",
    "  global data_count\n",
    "  global max_count\n",
    "  global data_over10s\n",
    "\n",
    "  cond = df[tags[0]] == selected[0]\n",
    "  for i in range(1, len(tags)):\n",
    "    cond &= df[tags[i]] == selected[i]\n",
    "\n",
    "  cnt = np.count_nonzero(cond.astype('int'))\n",
    "  if cnt > 0:\n",
    "    data_count += cnt\n",
    "    max_count = max(max_count, cnt)\n",
    "    print(selected, 'count:', cnt)\n",
    "    count += 1\n",
    "  if cnt >= 10:\n",
    "    data_over10s.append(tuple(selected))\n",
    "\n",
    "## 사용자가 선택할 수 있는 경우의 수 별 출력되는 음식의 개수 구하기\n",
    "\n",
    "# 'big_big_label', '맵기여부', '음식분류', '국물여부', '대표식품명'\n",
    "grouping_tag = ['label_hierarchy', '음식분류', '국물여부', '맵기여부']\n",
    "\n",
    "nextPermutation(data, grouping_tag, 0, [], printDf)\n",
    "print('max count:', max_count)\n",
    "print('valid group count:', count)\n",
    "\n",
    "possible_group_count = 1\n",
    "for tag in grouping_tag:\n",
    "  possible_group_count *= len(data[tag].unique())\n",
    "print('possible group count:', possible_group_count)"
   ]
  },
  {
   "cell_type": "code",
   "execution_count": 166,
   "id": "ff53e180",
   "metadata": {
    "scrolled": true
   },
   "outputs": [
    {
     "name": "stdout",
     "output_type": "stream",
     "text": [
      "21\n",
      "242\n",
      "['임연수구이', '보리밥', '만두국', '참치구이', '오곡밥', '콩나물국', '돼지고기', '된장국', '가자미구이', '올갱이국수', '수육', '브로콜리볶음', '순대국', '팥죽', '흰죽(쌀죽)', '두부전골', '조기찜', '아구탕', '두부부침', '쇠고기산적', '부대찌개', '오징어순대', '매운탕', '돼지고기볶음', '돼지갈비', '된장찌개', '삼겹살볶음', '생선전', '탕국', '고등어조림', '동태찜', '오리고기구이', '도미구이', '새우탕', '고추조림', '건새우볶음', '호박전', '돼지고기볶음(제육볶음)', '비빔밥', '돼지갈비찜', '잡탕밥', '감자조림', '무조림', '오징어찌개', '병어찜', '버섯구이표고버섯', '콩비지찌개', '어묵조림', '육개장', '가오리찜', '호박부침개', '잡채', '동태국', '잡곡밥', '콩나물밥', '청국장찌개', '붕어찜', '김밥', '곱창전골', '햄부침', '오징어볶음', '닭곰탕', '연어롤', '모듬튀김', '무국', '김치볶음', '완자전', '도미찜', '두부전', '마늘쫑볶음', '설렁탕', '황태해장국', '갈비탕', '초밥', '꼬리곰탕', '비빕밤', '오징어국', '버섯구이', '차조밥', '재첩국', '깨죽', '닭볶음', '멸치조림', '두부조림', '두부찜', '불고기', '갈비구이', '깻잎찜', '달걀부침(달걀후라이)', '주먹밥', '어묵국', '소시지볶음', '두부김치', '버섯볶음', '오리죽', '두부찌개', '대구찜', '조개구이', '닭찜', '멸치볶음', '묵밥', '흰게살죽', '추어탕', '냉면', '햄볶음', '생성전', '꽈리고추찜', '쇠고기볶음', '달걀말이', '조기조림', '김치찌개', '삼치구이', '떡갈비', '죽순볶음', '육탕', '삼계탕', '수수밥', '토란국', '콩국수', '부추전', '매생이국', '칼국수', '북어찜', '메밀전', '달걀찜', '햄버그스테이크', '묵국', '충무김밥', '기장밥', '달걀탕', '닭튀김(치킨)', '돼지고기찌개', '내장탕', '소라산적', '배추국', '산적', '어죽', '닭모래집튀김', '참치죽', '미나리전', '수제비', '국밥', '알탕', '냉국', '꼬치구이', '해물찜', '코다리찜', '북어국', '곤드레나물밥', '전복탕', '파전', '조개국', '새우구이', '채소전', '도가니탕', '미소된장국', '새우볶음', '낙지전골', '버섯찌개', '연잎밥', '장조림', '연포탕', '오징어산적', '어탕', '풋고추찜', '감자볶음', '갈치찌개', '캘리포니아롤', '해장국', '숙회', '곰탕', '갈비찜', '호박찌개', '지리탕', '배추전', '꼬치구치', '병어조림', '오리백숙', '두부구이', '꽃게탕', '백합죽', '버섯조림', '영양돌솥밥', '호박죽', '가자미조림', '사골국', '피자', '어묵볶음', '갈치구이', '소탕', '낙지탕', '볶음밥', '전어찜', '감자탕', '닭발구이', '닭갈비', '닭조림', '동태조림', '코다리조림', '샤브샤브', '훈제오리', '국수', '생선가스', '찰밥', '잔멸치볶음', '닭튀김', '잣죽', '순대볶음', '장어탕', '현미죽', '닭구이', '김치전', '닭볶음탕', '애호박전', '김치전골', '달걀국', '꼬막찜', '해물볶음', '버섯전', '감자전', '쇠고기전골', '고등어구이', '미역국', '족발', '양미리조림', '곱창볶음', '육회', '아귀찜', '함박스테이크', '깻잎전', '덮밥', '낙지볶음', '삼치조림', '순두부찌개', '알밥', '버섯전골', '잡채밥', '닭다리튀김', '햄버거', '감자국', '사태찜', '쇠고기버섯죽']\n"
     ]
    }
   ],
   "source": [
    "## 사용자가 선택할 수 있는 대표식품명 출력해보기\n",
    "\n",
    "used_data = []\n",
    "for selected in data_over10s:\n",
    "  cond = data[grouping_tag[0]] == selected[0]\n",
    "  for i in range(1, len(grouping_tag)):\n",
    "    cond &= data[grouping_tag[i]] == selected[i]\n",
    "\n",
    "  food_names = list(data[cond]['대표식품명'].unique())\n",
    "  used_data.extend(food_names)\n",
    "\n",
    "used_data = list(set(used_data))\n",
    "print(len(data_over10s))\n",
    "print(len(used_data))\n",
    "print(used_data)"
   ]
  },
  {
   "cell_type": "markdown",
   "id": "5f473263",
   "metadata": {},
   "source": [
    "태그 별 가능한 그룹수, 유효 그룹수(음식 개수가 0이 아닌 그룹 개수)\n",
    "\n",
    "('label_hierarchy', '맵기여부')\n",
    "valid group count: 50\n",
    "possible group count: 70\n",
    "\n",
    "('label_hierarchy', '국물여부')\n",
    "valid group count: 48\n",
    "possible group count: 70\n",
    "\n",
    "('label_hierarchy', '음식분류')\n",
    "valid group count: 95\n",
    "possible group count: 245\n",
    "\n",
    "('label_hierarchy', '음식분류', '맵기여부')\n",
    "valid group count: 110\n",
    "possible group count: 490\n",
    "\n",
    "('label_hierarchy', '음식분류', '국물여부')\n",
    "valid group count: 111\n",
    "possible group count: 490\n",
    "\n",
    "('label_hierarchy', '국물여부', '맵기여부')\n",
    "valid group count: 64\n",
    "possible group count: 140\n",
    "\n",
    "('label_hierarchy', '음식분류', '국물여부', '맵기여부')\n",
    "valid group count: 126\n",
    "possible group count: 980"
   ]
  },
  {
   "cell_type": "markdown",
   "id": "5094cd28",
   "metadata": {},
   "source": [
    "따라서 'big_big_label', 'label_hierarchy', '음식분류', '국물여부', '맵기여부' 로 사용자가 선택할 수 있도록하고, 추가적으로 음식숫자가 많은 항목에 대해서 '대표식품명'으로 한번 더 분류할 수 있도록 합니다."
   ]
  }
 ],
 "metadata": {
  "kernelspec": {
   "display_name": "Python [conda env:leblanc] *",
   "language": "python",
   "name": "conda-env-leblanc-py"
  },
  "language_info": {
   "codemirror_mode": {
    "name": "ipython",
    "version": 3
   },
   "file_extension": ".py",
   "mimetype": "text/x-python",
   "name": "python",
   "nbconvert_exporter": "python",
   "pygments_lexer": "ipython3",
   "version": "3.6.13"
  }
 },
 "nbformat": 4,
 "nbformat_minor": 5
}
